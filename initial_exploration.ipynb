{
 "cells": [
  {
   "cell_type": "markdown",
   "metadata": {},
   "source": [
    "From http://blog.mathieuacher.com/ChessPiecesValues/, we find the values of chess pieces for stockfish vary from midgame to endgame. Specifically, they go from:"
   ]
  },
  {
   "cell_type": "code",
   "execution_count": null,
   "metadata": {},
   "outputs": [],
   "source": [
    "pawn = 1.00\n",
    "knight = 6.20\n",
    "bishop = 6.55\n",
    "rook = 10.13\n",
    "queen = 20.14"
   ]
  },
  {
   "cell_type": "markdown",
   "metadata": {},
   "source": [
    "to:"
   ]
  },
  {
   "cell_type": "code",
   "execution_count": null,
   "metadata": {},
   "outputs": [],
   "source": [
    "pawn = 1.00\n",
    "knight = 4.90\n",
    "bishop = 5.21\n",
    "rook = 7.95\n",
    "queen = 15.63"
   ]
  }
 ],
 "metadata": {
  "kernelspec": {
   "display_name": "base",
   "language": "python",
   "name": "python3"
  },
  "language_info": {
   "name": "python",
   "version": "3.10.9"
  }
 },
 "nbformat": 4,
 "nbformat_minor": 2
}
