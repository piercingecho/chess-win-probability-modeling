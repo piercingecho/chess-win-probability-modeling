{
 "cells": [
  {
   "cell_type": "code",
   "execution_count": 106,
   "metadata": {},
   "outputs": [
    {
     "name": "stdout",
     "output_type": "stream",
     "text": [
      "Requirement already satisfied: xgboost in c:\\users\\stard\\anaconda3\\lib\\site-packages (2.1.2)\n",
      "Requirement already satisfied: scipy in c:\\users\\stard\\anaconda3\\lib\\site-packages (from xgboost) (1.10.0)\n",
      "Requirement already satisfied: numpy in c:\\users\\stard\\anaconda3\\lib\\site-packages (from xgboost) (1.23.5)\n"
     ]
    }
   ],
   "source": [
    "import pandas as pd\n",
    "import numpy as np\n",
    "import statistics as stats\n",
    "\n",
    "# sklearn utility\n",
    "from sklearn.model_selection import train_test_split\n",
    "from sklearn.preprocessing import MinMaxScaler\n",
    "from sklearn.preprocessing import StandardScaler\n",
    "\n",
    "# sklearn classifiers\n",
    "from sklearn.linear_model import LogisticRegression\n",
    "from sklearn.neighbors import KNeighborsClassifier\n",
    "from sklearn.tree import DecisionTreeClassifier\n",
    "from sklearn.ensemble import RandomForestClassifier\n",
    "from sklearn.svm import SVC\n",
    "from sklearn.tree import export_text\n",
    "\n",
    "# sklearn grid search\n",
    "from sklearn.model_selection import GridSearchCV\n",
    "from sklearn.pipeline import make_pipeline\n",
    "from sklearn.pipeline import Pipeline\n",
    "\n",
    "# sklearn metrics\n",
    "from sklearn.metrics import classification_report, confusion_matrix\n",
    "from sklearn.metrics import accuracy_score\n",
    "from sklearn.metrics import roc_curve, roc_auc_score\n",
    "from sklearn.metrics import f1_score\n",
    "\n",
    "import sys\n",
    "!{sys.executable} -m pip install xgboost\n",
    "import xgboost as xgb\n",
    "\n",
    "import seaborn as sns\n",
    "import matplotlib.pyplot as plt"
   ]
  },
  {
   "cell_type": "code",
   "execution_count": 107,
   "metadata": {},
   "outputs": [
    {
     "data": {
      "text/html": [
       "<div>\n",
       "<style scoped>\n",
       "    .dataframe tbody tr th:only-of-type {\n",
       "        vertical-align: middle;\n",
       "    }\n",
       "\n",
       "    .dataframe tbody tr th {\n",
       "        vertical-align: top;\n",
       "    }\n",
       "\n",
       "    .dataframe thead th {\n",
       "        text-align: right;\n",
       "    }\n",
       "</style>\n",
       "<table border=\"1\" class=\"dataframe\">\n",
       "  <thead>\n",
       "    <tr style=\"text-align: right;\">\n",
       "      <th></th>\n",
       "      <th>WhiteElo</th>\n",
       "      <th>BlackElo</th>\n",
       "      <th>WhiteWins</th>\n",
       "      <th>Moves</th>\n",
       "      <th>StockfishScores</th>\n",
       "    </tr>\n",
       "  </thead>\n",
       "  <tbody>\n",
       "    <tr>\n",
       "      <th>0</th>\n",
       "      <td>2354</td>\n",
       "      <td>2411</td>\n",
       "      <td>1</td>\n",
       "      <td>Nf3 Nf6 c4 c5 b3 g6 Bb2 Bg7 e3 O-O Be2 b6 O-O ...</td>\n",
       "      <td>18 17 12 8 -5 12 3 -2 22 21 20 13 8 21 11 3 -6...</td>\n",
       "    </tr>\n",
       "    <tr>\n",
       "      <th>1</th>\n",
       "      <td>2523</td>\n",
       "      <td>2460</td>\n",
       "      <td>1</td>\n",
       "      <td>e4 e5 Nf3 Nf6 d4 Nxe4 Nxe5 d6 Nf3 d5 Bd3 Nd6 O-O</td>\n",
       "      <td>26 44 26 18 14 34 36 31 37 35 42 52 55</td>\n",
       "    </tr>\n",
       "    <tr>\n",
       "      <th>2</th>\n",
       "      <td>1915</td>\n",
       "      <td>1999</td>\n",
       "      <td>0</td>\n",
       "      <td>e4 d5 exd5 Nf6 d4 Nxd5 Nf3 g6 Be2 Bg7 c4 Nb6 N...</td>\n",
       "      <td>26 51 68 57 65 77 48 93 61 63 63 58 53 46 69 2...</td>\n",
       "    </tr>\n",
       "    <tr>\n",
       "      <th>3</th>\n",
       "      <td>2446</td>\n",
       "      <td>2191</td>\n",
       "      <td>2</td>\n",
       "      <td>c4 Nf6 Nc3 d6 d4 e5 Nf3 Nbd7 Bg5 Be7 e3 c6 Qc2...</td>\n",
       "      <td>2 21 5 53 35 45 37 54 10 22 8 48 30 17 13 35 -...</td>\n",
       "    </tr>\n",
       "    <tr>\n",
       "      <th>4</th>\n",
       "      <td>2168</td>\n",
       "      <td>2075</td>\n",
       "      <td>2</td>\n",
       "      <td>e4 c5 Nf3 d6 b4 Nf6 bxc5 Nxe4 cxd6 Qb6 d4 Bg4 ...</td>\n",
       "      <td>26 64 35 53 18 20 18 20 10 49 60 95 91 82 83 9...</td>\n",
       "    </tr>\n",
       "  </tbody>\n",
       "</table>\n",
       "</div>"
      ],
      "text/plain": [
       "   WhiteElo  BlackElo  WhiteWins  \\\n",
       "0      2354      2411          1   \n",
       "1      2523      2460          1   \n",
       "2      1915      1999          0   \n",
       "3      2446      2191          2   \n",
       "4      2168      2075          2   \n",
       "\n",
       "                                               Moves  \\\n",
       "0  Nf3 Nf6 c4 c5 b3 g6 Bb2 Bg7 e3 O-O Be2 b6 O-O ...   \n",
       "1   e4 e5 Nf3 Nf6 d4 Nxe4 Nxe5 d6 Nf3 d5 Bd3 Nd6 O-O   \n",
       "2  e4 d5 exd5 Nf6 d4 Nxd5 Nf3 g6 Be2 Bg7 c4 Nb6 N...   \n",
       "3  c4 Nf6 Nc3 d6 d4 e5 Nf3 Nbd7 Bg5 Be7 e3 c6 Qc2...   \n",
       "4  e4 c5 Nf3 d6 b4 Nf6 bxc5 Nxe4 cxd6 Qb6 d4 Bg4 ...   \n",
       "\n",
       "                                     StockfishScores  \n",
       "0  18 17 12 8 -5 12 3 -2 22 21 20 13 8 21 11 3 -6...  \n",
       "1             26 44 26 18 14 34 36 31 37 35 42 52 55  \n",
       "2  26 51 68 57 65 77 48 93 61 63 63 58 53 46 69 2...  \n",
       "3  2 21 5 53 35 45 37 54 10 22 8 48 30 17 13 35 -...  \n",
       "4  26 64 35 53 18 20 18 20 10 49 60 95 91 82 83 9...  "
      ]
     },
     "execution_count": 107,
     "metadata": {},
     "output_type": "execute_result"
    }
   ],
   "source": [
    "df = pd.read_csv(\"base_chess_data.csv\")\n",
    "df = df.drop([\"Unnamed: 0\"], axis=1)\n",
    "df.head()"
   ]
  },
  {
   "cell_type": "code",
   "execution_count": 108,
   "metadata": {},
   "outputs": [
    {
     "data": {
      "text/html": [
       "<div>\n",
       "<style scoped>\n",
       "    .dataframe tbody tr th:only-of-type {\n",
       "        vertical-align: middle;\n",
       "    }\n",
       "\n",
       "    .dataframe tbody tr th {\n",
       "        vertical-align: top;\n",
       "    }\n",
       "\n",
       "    .dataframe thead th {\n",
       "        text-align: right;\n",
       "    }\n",
       "</style>\n",
       "<table border=\"1\" class=\"dataframe\">\n",
       "  <thead>\n",
       "    <tr style=\"text-align: right;\">\n",
       "      <th></th>\n",
       "      <th>WhiteElo</th>\n",
       "      <th>BlackElo</th>\n",
       "      <th>WhiteWins</th>\n",
       "      <th>Moves</th>\n",
       "      <th>StockfishScores</th>\n",
       "      <th>NumWhiteMoves</th>\n",
       "    </tr>\n",
       "  </thead>\n",
       "  <tbody>\n",
       "    <tr>\n",
       "      <th>0</th>\n",
       "      <td>2354</td>\n",
       "      <td>2411</td>\n",
       "      <td>1</td>\n",
       "      <td>Nf3 Nf6 c4 c5 b3 g6 Bb2 Bg7 e3 O-O Be2 b6 O-O ...</td>\n",
       "      <td>18 17 12 8 -5 12 3 -2 22 21 20 13 8 21 11 3 -6...</td>\n",
       "      <td>19</td>\n",
       "    </tr>\n",
       "    <tr>\n",
       "      <th>1</th>\n",
       "      <td>2523</td>\n",
       "      <td>2460</td>\n",
       "      <td>1</td>\n",
       "      <td>e4 e5 Nf3 Nf6 d4 Nxe4 Nxe5 d6 Nf3 d5 Bd3 Nd6 O-O</td>\n",
       "      <td>26 44 26 18 14 34 36 31 37 35 42 52 55</td>\n",
       "      <td>7</td>\n",
       "    </tr>\n",
       "    <tr>\n",
       "      <th>2</th>\n",
       "      <td>1915</td>\n",
       "      <td>1999</td>\n",
       "      <td>0</td>\n",
       "      <td>e4 d5 exd5 Nf6 d4 Nxd5 Nf3 g6 Be2 Bg7 c4 Nb6 N...</td>\n",
       "      <td>26 51 68 57 65 77 48 93 61 63 63 58 53 46 69 2...</td>\n",
       "      <td>53</td>\n",
       "    </tr>\n",
       "    <tr>\n",
       "      <th>3</th>\n",
       "      <td>2446</td>\n",
       "      <td>2191</td>\n",
       "      <td>2</td>\n",
       "      <td>c4 Nf6 Nc3 d6 d4 e5 Nf3 Nbd7 Bg5 Be7 e3 c6 Qc2...</td>\n",
       "      <td>2 21 5 53 35 45 37 54 10 22 8 48 30 17 13 35 -...</td>\n",
       "      <td>39</td>\n",
       "    </tr>\n",
       "    <tr>\n",
       "      <th>4</th>\n",
       "      <td>2168</td>\n",
       "      <td>2075</td>\n",
       "      <td>2</td>\n",
       "      <td>e4 c5 Nf3 d6 b4 Nf6 bxc5 Nxe4 cxd6 Qb6 d4 Bg4 ...</td>\n",
       "      <td>26 64 35 53 18 20 18 20 10 49 60 95 91 82 83 9...</td>\n",
       "      <td>25</td>\n",
       "    </tr>\n",
       "  </tbody>\n",
       "</table>\n",
       "</div>"
      ],
      "text/plain": [
       "   WhiteElo  BlackElo  WhiteWins  \\\n",
       "0      2354      2411          1   \n",
       "1      2523      2460          1   \n",
       "2      1915      1999          0   \n",
       "3      2446      2191          2   \n",
       "4      2168      2075          2   \n",
       "\n",
       "                                               Moves  \\\n",
       "0  Nf3 Nf6 c4 c5 b3 g6 Bb2 Bg7 e3 O-O Be2 b6 O-O ...   \n",
       "1   e4 e5 Nf3 Nf6 d4 Nxe4 Nxe5 d6 Nf3 d5 Bd3 Nd6 O-O   \n",
       "2  e4 d5 exd5 Nf6 d4 Nxd5 Nf3 g6 Be2 Bg7 c4 Nb6 N...   \n",
       "3  c4 Nf6 Nc3 d6 d4 e5 Nf3 Nbd7 Bg5 Be7 e3 c6 Qc2...   \n",
       "4  e4 c5 Nf3 d6 b4 Nf6 bxc5 Nxe4 cxd6 Qb6 d4 Bg4 ...   \n",
       "\n",
       "                                     StockfishScores  NumWhiteMoves  \n",
       "0  18 17 12 8 -5 12 3 -2 22 21 20 13 8 21 11 3 -6...             19  \n",
       "1             26 44 26 18 14 34 36 31 37 35 42 52 55              7  \n",
       "2  26 51 68 57 65 77 48 93 61 63 63 58 53 46 69 2...             53  \n",
       "3  2 21 5 53 35 45 37 54 10 22 8 48 30 17 13 35 -...             39  \n",
       "4  26 64 35 53 18 20 18 20 10 49 60 95 91 82 83 9...             25  "
      ]
     },
     "execution_count": 108,
     "metadata": {},
     "output_type": "execute_result"
    }
   ],
   "source": [
    "# add number of moves to each game\n",
    "\n",
    "game_num_moves = []\n",
    "\n",
    "for index, row in df.iterrows():\n",
    "    num_moves_by_both = len(row['Moves'].split(\" \"))\n",
    "    num_white_moves = (num_moves_by_both // 2) + (num_moves_by_both % 2 == 1)\n",
    "    game_num_moves.append(num_white_moves)\n",
    "\n",
    "\n",
    "df['NumWhiteMoves'] = game_num_moves\n",
    "df.head()"
   ]
  },
  {
   "cell_type": "code",
   "execution_count": 109,
   "metadata": {},
   "outputs": [],
   "source": [
    "# There are many games where the only move made was the first one, and then the match was cancelled.\n",
    "# We still want to remove those.\n",
    "\n",
    "list_to_remove = []\n",
    "for index, row in df.iterrows():\n",
    "    if(len(row['Moves'].split(\" \")) <= 2):\n",
    "        list_to_remove.append(index)\n",
    "\n",
    "df = df.drop(list_to_remove)\n",
    "\n"
   ]
  },
  {
   "cell_type": "code",
   "execution_count": 110,
   "metadata": {},
   "outputs": [
    {
     "data": {
      "text/html": [
       "<div>\n",
       "<style scoped>\n",
       "    .dataframe tbody tr th:only-of-type {\n",
       "        vertical-align: middle;\n",
       "    }\n",
       "\n",
       "    .dataframe tbody tr th {\n",
       "        vertical-align: top;\n",
       "    }\n",
       "\n",
       "    .dataframe thead th {\n",
       "        text-align: right;\n",
       "    }\n",
       "</style>\n",
       "<table border=\"1\" class=\"dataframe\">\n",
       "  <thead>\n",
       "    <tr style=\"text-align: right;\">\n",
       "      <th></th>\n",
       "      <th>WhiteElo</th>\n",
       "      <th>BlackElo</th>\n",
       "      <th>WhiteWins</th>\n",
       "      <th>Moves</th>\n",
       "      <th>StockfishScores</th>\n",
       "      <th>NumWhiteMoves</th>\n",
       "      <th>StockfishDeltas</th>\n",
       "    </tr>\n",
       "  </thead>\n",
       "  <tbody>\n",
       "    <tr>\n",
       "      <th>0</th>\n",
       "      <td>2354</td>\n",
       "      <td>2411</td>\n",
       "      <td>1</td>\n",
       "      <td>Nf3 Nf6 c4 c5 b3 g6 Bb2 Bg7 e3 O-O Be2 b6 O-O ...</td>\n",
       "      <td>18 17 12 8 -5 12 3 -2 22 21 20 13 8 21 11 3 -6...</td>\n",
       "      <td>19</td>\n",
       "      <td>18 -1 -5 -4 -13 17 -9 -5 24 -1 -1 -7 -5 13 -10...</td>\n",
       "    </tr>\n",
       "    <tr>\n",
       "      <th>1</th>\n",
       "      <td>2523</td>\n",
       "      <td>2460</td>\n",
       "      <td>1</td>\n",
       "      <td>e4 e5 Nf3 Nf6 d4 Nxe4 Nxe5 d6 Nf3 d5 Bd3 Nd6 O-O</td>\n",
       "      <td>26 44 26 18 14 34 36 31 37 35 42 52 55</td>\n",
       "      <td>7</td>\n",
       "      <td>26 18 -18 -8 -4 20 2 -5 6 -2 7 10 3</td>\n",
       "    </tr>\n",
       "    <tr>\n",
       "      <th>2</th>\n",
       "      <td>1915</td>\n",
       "      <td>1999</td>\n",
       "      <td>0</td>\n",
       "      <td>e4 d5 exd5 Nf6 d4 Nxd5 Nf3 g6 Be2 Bg7 c4 Nb6 N...</td>\n",
       "      <td>26 51 68 57 65 77 48 93 61 63 63 58 53 46 69 2...</td>\n",
       "      <td>53</td>\n",
       "      <td>26 25 17 -11 8 12 -29 45 -32 2 0 -5 -5 -7 23 -...</td>\n",
       "    </tr>\n",
       "    <tr>\n",
       "      <th>3</th>\n",
       "      <td>2446</td>\n",
       "      <td>2191</td>\n",
       "      <td>2</td>\n",
       "      <td>c4 Nf6 Nc3 d6 d4 e5 Nf3 Nbd7 Bg5 Be7 e3 c6 Qc2...</td>\n",
       "      <td>2 21 5 53 35 45 37 54 10 22 8 48 30 17 13 35 -...</td>\n",
       "      <td>39</td>\n",
       "      <td>2 19 -16 48 -18 10 -8 17 -44 12 -14 40 -18 -13...</td>\n",
       "    </tr>\n",
       "    <tr>\n",
       "      <th>4</th>\n",
       "      <td>2168</td>\n",
       "      <td>2075</td>\n",
       "      <td>2</td>\n",
       "      <td>e4 c5 Nf3 d6 b4 Nf6 bxc5 Nxe4 cxd6 Qb6 d4 Bg4 ...</td>\n",
       "      <td>26 64 35 53 18 20 18 20 10 49 60 95 91 82 83 9...</td>\n",
       "      <td>25</td>\n",
       "      <td>26 38 -29 18 -35 2 -2 2 -10 39 11 35 -4 -9 1 1...</td>\n",
       "    </tr>\n",
       "  </tbody>\n",
       "</table>\n",
       "</div>"
      ],
      "text/plain": [
       "   WhiteElo  BlackElo  WhiteWins  \\\n",
       "0      2354      2411          1   \n",
       "1      2523      2460          1   \n",
       "2      1915      1999          0   \n",
       "3      2446      2191          2   \n",
       "4      2168      2075          2   \n",
       "\n",
       "                                               Moves  \\\n",
       "0  Nf3 Nf6 c4 c5 b3 g6 Bb2 Bg7 e3 O-O Be2 b6 O-O ...   \n",
       "1   e4 e5 Nf3 Nf6 d4 Nxe4 Nxe5 d6 Nf3 d5 Bd3 Nd6 O-O   \n",
       "2  e4 d5 exd5 Nf6 d4 Nxd5 Nf3 g6 Be2 Bg7 c4 Nb6 N...   \n",
       "3  c4 Nf6 Nc3 d6 d4 e5 Nf3 Nbd7 Bg5 Be7 e3 c6 Qc2...   \n",
       "4  e4 c5 Nf3 d6 b4 Nf6 bxc5 Nxe4 cxd6 Qb6 d4 Bg4 ...   \n",
       "\n",
       "                                     StockfishScores  NumWhiteMoves  \\\n",
       "0  18 17 12 8 -5 12 3 -2 22 21 20 13 8 21 11 3 -6...             19   \n",
       "1             26 44 26 18 14 34 36 31 37 35 42 52 55              7   \n",
       "2  26 51 68 57 65 77 48 93 61 63 63 58 53 46 69 2...             53   \n",
       "3  2 21 5 53 35 45 37 54 10 22 8 48 30 17 13 35 -...             39   \n",
       "4  26 64 35 53 18 20 18 20 10 49 60 95 91 82 83 9...             25   \n",
       "\n",
       "                                     StockfishDeltas  \n",
       "0  18 -1 -5 -4 -13 17 -9 -5 24 -1 -1 -7 -5 13 -10...  \n",
       "1                26 18 -18 -8 -4 20 2 -5 6 -2 7 10 3  \n",
       "2  26 25 17 -11 8 12 -29 45 -32 2 0 -5 -5 -7 23 -...  \n",
       "3  2 19 -16 48 -18 10 -8 17 -44 12 -14 40 -18 -13...  \n",
       "4  26 38 -29 18 -35 2 -2 2 -10 39 11 35 -4 -9 1 1...  "
      ]
     },
     "execution_count": 110,
     "metadata": {},
     "output_type": "execute_result"
    }
   ],
   "source": [
    "# add column for all deltas\n",
    "\n",
    "# For moves with NA, we assume they have 0 change in the current board strength.\n",
    "\n",
    "deltas = []\n",
    "\n",
    "for index, row in df.iterrows():\n",
    "    \n",
    "    boardStrengths = row[\"StockfishScores\"].split(\" \")\n",
    "    \n",
    "    delta_string = \"\"\n",
    "    current_board_strength = 0\n",
    "\n",
    "    for score in boardStrengths:\n",
    "        if(score == \"NA\"):\n",
    "            delta_string += \"0 \"\n",
    "            continue\n",
    "        \n",
    "        try:\n",
    "            numeric_score = int(score)\n",
    "        except:\n",
    "            print(row[\"Moves\"])\n",
    "        delta = numeric_score - current_board_strength\n",
    "        delta_string += str(delta) + \" \"\n",
    "\n",
    "        current_board_strength = numeric_score\n",
    "\n",
    "    delta_string = delta_string[:-1] # remove trailing whitespace\n",
    "    \n",
    "    deltas.append(delta_string)\n",
    "\n",
    "\n",
    "df['StockfishDeltas'] = deltas\n",
    "\n",
    "df.head()"
   ]
  },
  {
   "cell_type": "code",
   "execution_count": 111,
   "metadata": {},
   "outputs": [
    {
     "data": {
      "text/html": [
       "<div>\n",
       "<style scoped>\n",
       "    .dataframe tbody tr th:only-of-type {\n",
       "        vertical-align: middle;\n",
       "    }\n",
       "\n",
       "    .dataframe tbody tr th {\n",
       "        vertical-align: top;\n",
       "    }\n",
       "\n",
       "    .dataframe thead th {\n",
       "        text-align: right;\n",
       "    }\n",
       "</style>\n",
       "<table border=\"1\" class=\"dataframe\">\n",
       "  <thead>\n",
       "    <tr style=\"text-align: right;\">\n",
       "      <th></th>\n",
       "      <th>WhiteElo</th>\n",
       "      <th>BlackElo</th>\n",
       "      <th>WhiteWins</th>\n",
       "      <th>Moves</th>\n",
       "      <th>StockfishScores</th>\n",
       "      <th>NumWhiteMoves</th>\n",
       "      <th>StockfishDeltas</th>\n",
       "    </tr>\n",
       "  </thead>\n",
       "  <tbody>\n",
       "    <tr>\n",
       "      <th>0</th>\n",
       "      <td>2354</td>\n",
       "      <td>2411</td>\n",
       "      <td>1</td>\n",
       "      <td>Nf3 Nf6 c4 c5 b3 g6 Bb2 Bg7 e3 O-O Be2 b6 O-O ...</td>\n",
       "      <td>18 17 12 8 -5 12 3 -2 22 21 20 13 8 21 11 3 -6...</td>\n",
       "      <td>19</td>\n",
       "      <td>18 -1 -5 -4 -13 17 -9 -5 24 -1 -1 -7 -5 13 -10...</td>\n",
       "    </tr>\n",
       "    <tr>\n",
       "      <th>1</th>\n",
       "      <td>2523</td>\n",
       "      <td>2460</td>\n",
       "      <td>1</td>\n",
       "      <td>e4 e5 Nf3 Nf6 d4 Nxe4 Nxe5 d6 Nf3 d5 Bd3 Nd6 O-O</td>\n",
       "      <td>26 44 26 18 14 34 36 31 37 35 42 52 55</td>\n",
       "      <td>7</td>\n",
       "      <td>26 18 -18 -8 -4 20 2 -5 6 -2 7 10 3</td>\n",
       "    </tr>\n",
       "    <tr>\n",
       "      <th>2</th>\n",
       "      <td>1915</td>\n",
       "      <td>1999</td>\n",
       "      <td>0</td>\n",
       "      <td>e4 d5 exd5 Nf6 d4 Nxd5 Nf3 g6 Be2 Bg7 c4 Nb6 N...</td>\n",
       "      <td>26 51 68 57 65 77 48 93 61 63 63 58 53 46 69 2...</td>\n",
       "      <td>53</td>\n",
       "      <td>26 25 17 -11 8 12 -29 45 -32 2 0 -5 -5 -7 23 -...</td>\n",
       "    </tr>\n",
       "    <tr>\n",
       "      <th>3</th>\n",
       "      <td>2446</td>\n",
       "      <td>2191</td>\n",
       "      <td>2</td>\n",
       "      <td>c4 Nf6 Nc3 d6 d4 e5 Nf3 Nbd7 Bg5 Be7 e3 c6 Qc2...</td>\n",
       "      <td>2 21 5 53 35 45 37 54 10 22 8 48 30 17 13 35 -...</td>\n",
       "      <td>39</td>\n",
       "      <td>2 19 -16 48 -18 10 -8 17 -44 12 -14 40 -18 -13...</td>\n",
       "    </tr>\n",
       "    <tr>\n",
       "      <th>4</th>\n",
       "      <td>2168</td>\n",
       "      <td>2075</td>\n",
       "      <td>2</td>\n",
       "      <td>e4 c5 Nf3 d6 b4 Nf6 bxc5 Nxe4 cxd6 Qb6 d4 Bg4 ...</td>\n",
       "      <td>26 64 35 53 18 20 18 20 10 49 60 95 91 82 83 9...</td>\n",
       "      <td>25</td>\n",
       "      <td>26 38 -29 18 -35 2 -2 2 -10 39 11 35 -4 -9 1 1...</td>\n",
       "    </tr>\n",
       "  </tbody>\n",
       "</table>\n",
       "</div>"
      ],
      "text/plain": [
       "   WhiteElo  BlackElo  WhiteWins  \\\n",
       "0      2354      2411          1   \n",
       "1      2523      2460          1   \n",
       "2      1915      1999          0   \n",
       "3      2446      2191          2   \n",
       "4      2168      2075          2   \n",
       "\n",
       "                                               Moves  \\\n",
       "0  Nf3 Nf6 c4 c5 b3 g6 Bb2 Bg7 e3 O-O Be2 b6 O-O ...   \n",
       "1   e4 e5 Nf3 Nf6 d4 Nxe4 Nxe5 d6 Nf3 d5 Bd3 Nd6 O-O   \n",
       "2  e4 d5 exd5 Nf6 d4 Nxd5 Nf3 g6 Be2 Bg7 c4 Nb6 N...   \n",
       "3  c4 Nf6 Nc3 d6 d4 e5 Nf3 Nbd7 Bg5 Be7 e3 c6 Qc2...   \n",
       "4  e4 c5 Nf3 d6 b4 Nf6 bxc5 Nxe4 cxd6 Qb6 d4 Bg4 ...   \n",
       "\n",
       "                                     StockfishScores  NumWhiteMoves  \\\n",
       "0  18 17 12 8 -5 12 3 -2 22 21 20 13 8 21 11 3 -6...             19   \n",
       "1             26 44 26 18 14 34 36 31 37 35 42 52 55              7   \n",
       "2  26 51 68 57 65 77 48 93 61 63 63 58 53 46 69 2...             53   \n",
       "3  2 21 5 53 35 45 37 54 10 22 8 48 30 17 13 35 -...             39   \n",
       "4  26 64 35 53 18 20 18 20 10 49 60 95 91 82 83 9...             25   \n",
       "\n",
       "                                     StockfishDeltas  \n",
       "0  18 -1 -5 -4 -13 17 -9 -5 24 -1 -1 -7 -5 13 -10...  \n",
       "1                26 18 -18 -8 -4 20 2 -5 6 -2 7 10 3  \n",
       "2  26 25 17 -11 8 12 -29 45 -32 2 0 -5 -5 -7 23 -...  \n",
       "3  2 19 -16 48 -18 10 -8 17 -44 12 -14 40 -18 -13...  \n",
       "4  26 38 -29 18 -35 2 -2 2 -10 39 11 35 -4 -9 1 1...  "
      ]
     },
     "execution_count": 111,
     "metadata": {},
     "output_type": "execute_result"
    }
   ],
   "source": [
    "df.head()"
   ]
  },
  {
   "cell_type": "markdown",
   "metadata": {},
   "source": [
    "We want to stratify our train/test/validation sets based on the length of the games as well as whether white wins. So, we will create bins for the 'short,' 'medium', and 'long' games. The code will create 3 bins, and can be changed to create more bins."
   ]
  },
  {
   "cell_type": "code",
   "execution_count": 112,
   "metadata": {},
   "outputs": [
    {
     "data": {
      "text/plain": [
       "1    8487\n",
       "2    8382\n",
       "3    8103\n",
       "Name: numMovesBin, dtype: int64"
      ]
     },
     "execution_count": 112,
     "metadata": {},
     "output_type": "execute_result"
    }
   ],
   "source": [
    "df['numMovesBin'] = pd.qcut(df['NumWhiteMoves'], q=3, labels=[1,2,3])\n",
    "df.head()\n",
    "df['numMovesBin'].value_counts()"
   ]
  },
  {
   "cell_type": "code",
   "execution_count": 113,
   "metadata": {},
   "outputs": [
    {
     "data": {
      "text/html": [
       "<div>\n",
       "<style scoped>\n",
       "    .dataframe tbody tr th:only-of-type {\n",
       "        vertical-align: middle;\n",
       "    }\n",
       "\n",
       "    .dataframe tbody tr th {\n",
       "        vertical-align: top;\n",
       "    }\n",
       "\n",
       "    .dataframe thead th {\n",
       "        text-align: right;\n",
       "    }\n",
       "</style>\n",
       "<table border=\"1\" class=\"dataframe\">\n",
       "  <thead>\n",
       "    <tr style=\"text-align: right;\">\n",
       "      <th></th>\n",
       "      <th>WhiteElo</th>\n",
       "      <th>BlackElo</th>\n",
       "      <th>Moves</th>\n",
       "      <th>StockfishScores</th>\n",
       "      <th>NumWhiteMoves</th>\n",
       "      <th>StockfishDeltas</th>\n",
       "      <th>numMovesBin</th>\n",
       "    </tr>\n",
       "  </thead>\n",
       "  <tbody>\n",
       "    <tr>\n",
       "      <th>18383</th>\n",
       "      <td>2401</td>\n",
       "      <td>2001</td>\n",
       "      <td>Nf3 Nf6 c4 c5 Nc3 d6 g3 g6 Bg2 Bg7 d4 cxd4 Nxd...</td>\n",
       "      <td>18 17 12 8 22 46 0 7 21 24 32 34 39 41 39 33 3...</td>\n",
       "      <td>24</td>\n",
       "      <td>18 -1 -5 -4 14 24 -46 7 14 3 8 2 5 2 -2 -6 6 -...</td>\n",
       "      <td>1</td>\n",
       "    </tr>\n",
       "    <tr>\n",
       "      <th>11894</th>\n",
       "      <td>1939</td>\n",
       "      <td>2473</td>\n",
       "      <td>d4 g6 Nf3 Bg7 c4 Nf6 Nc3 d5 cxd5 Nxd5 e4 Nxc3 ...</td>\n",
       "      <td>19 77 51 74 53 46 33 65 50 51 52 54 36 47 41 2...</td>\n",
       "      <td>60</td>\n",
       "      <td>19 58 -26 23 -21 -7 -13 32 -15 1 1 2 -18 11 -6...</td>\n",
       "      <td>3</td>\n",
       "    </tr>\n",
       "    <tr>\n",
       "      <th>3851</th>\n",
       "      <td>2415</td>\n",
       "      <td>2303</td>\n",
       "      <td>e4 c5 Nf3 d6 c3 Nf6 h3 Nc6 Bd3 d5 e5 Nd7 Bb5 e...</td>\n",
       "      <td>26 64 35 53 18 13 2 -23 -17 -15 -11 -30 -23 -2...</td>\n",
       "      <td>70</td>\n",
       "      <td>26 38 -29 18 -35 -5 -11 -25 6 2 4 -19 7 3 1 -1...</td>\n",
       "      <td>3</td>\n",
       "    </tr>\n",
       "    <tr>\n",
       "      <th>24090</th>\n",
       "      <td>2329</td>\n",
       "      <td>2249</td>\n",
       "      <td>e4 e5 d4 exd4 c3 d5 exd5 Qxd5 cxd4 Qe4+ Be3 Nf...</td>\n",
       "      <td>26 45 8 21 -12 -21 -7 9 2 50 41 66 51 37 72 65...</td>\n",
       "      <td>62</td>\n",
       "      <td>26 19 -37 13 -33 -9 14 16 -7 48 -9 25 -15 -14 ...</td>\n",
       "      <td>3</td>\n",
       "    </tr>\n",
       "    <tr>\n",
       "      <th>15670</th>\n",
       "      <td>1885</td>\n",
       "      <td>1930</td>\n",
       "      <td>e4 c5 Nf3 e6 d4 cxd4 Nxd4 Nf6 Nc3 d6 Bg5 Be7 Q...</td>\n",
       "      <td>26 64 35 42 38 38 22 33 17 31 20 22 13 4 2 11 ...</td>\n",
       "      <td>18</td>\n",
       "      <td>26 38 -29 7 -4 0 -16 11 -16 14 -11 2 -9 -9 -2 ...</td>\n",
       "      <td>1</td>\n",
       "    </tr>\n",
       "  </tbody>\n",
       "</table>\n",
       "</div>"
      ],
      "text/plain": [
       "       WhiteElo  BlackElo                                              Moves  \\\n",
       "18383      2401      2001  Nf3 Nf6 c4 c5 Nc3 d6 g3 g6 Bg2 Bg7 d4 cxd4 Nxd...   \n",
       "11894      1939      2473  d4 g6 Nf3 Bg7 c4 Nf6 Nc3 d5 cxd5 Nxd5 e4 Nxc3 ...   \n",
       "3851       2415      2303  e4 c5 Nf3 d6 c3 Nf6 h3 Nc6 Bd3 d5 e5 Nd7 Bb5 e...   \n",
       "24090      2329      2249  e4 e5 d4 exd4 c3 d5 exd5 Qxd5 cxd4 Qe4+ Be3 Nf...   \n",
       "15670      1885      1930  e4 c5 Nf3 e6 d4 cxd4 Nxd4 Nf6 Nc3 d6 Bg5 Be7 Q...   \n",
       "\n",
       "                                         StockfishScores  NumWhiteMoves  \\\n",
       "18383  18 17 12 8 22 46 0 7 21 24 32 34 39 41 39 33 3...             24   \n",
       "11894  19 77 51 74 53 46 33 65 50 51 52 54 36 47 41 2...             60   \n",
       "3851   26 64 35 53 18 13 2 -23 -17 -15 -11 -30 -23 -2...             70   \n",
       "24090  26 45 8 21 -12 -21 -7 9 2 50 41 66 51 37 72 65...             62   \n",
       "15670  26 64 35 42 38 38 22 33 17 31 20 22 13 4 2 11 ...             18   \n",
       "\n",
       "                                         StockfishDeltas numMovesBin  \n",
       "18383  18 -1 -5 -4 14 24 -46 7 14 3 8 2 5 2 -2 -6 6 -...           1  \n",
       "11894  19 58 -26 23 -21 -7 -13 32 -15 1 1 2 -18 11 -6...           3  \n",
       "3851   26 38 -29 18 -35 -5 -11 -25 6 2 4 -19 7 3 1 -1...           3  \n",
       "24090  26 19 -37 13 -33 -9 14 16 -7 48 -9 25 -15 -14 ...           3  \n",
       "15670  26 38 -29 7 -4 0 -16 11 -16 14 -11 2 -9 -9 -2 ...           1  "
      ]
     },
     "execution_count": 113,
     "metadata": {},
     "output_type": "execute_result"
    }
   ],
   "source": [
    "# stratify the data only based on whether white wins\n",
    "x_train, x_temp, y_train, y_temp = train_test_split(df, df['WhiteWins'], test_size=0.2, random_state=45, stratify=df[['WhiteWins', 'numMovesBin']])\n",
    "x_train = x_train.drop('WhiteWins', axis=1)\n",
    "x_temp = x_temp.drop('WhiteWins', axis=1)\n",
    "x_train.head()"
   ]
  },
  {
   "cell_type": "code",
   "execution_count": 114,
   "metadata": {},
   "outputs": [
    {
     "data": {
      "text/plain": [
       "18383    2\n",
       "11894    0\n",
       "3851     2\n",
       "24090    1\n",
       "15670    0\n",
       "        ..\n",
       "20592    1\n",
       "20293    2\n",
       "19410    2\n",
       "20007    2\n",
       "17932    2\n",
       "Name: WhiteWins, Length: 19977, dtype: int64"
      ]
     },
     "execution_count": 114,
     "metadata": {},
     "output_type": "execute_result"
    }
   ],
   "source": [
    "type(y_train)\n",
    "y_train"
   ]
  },
  {
   "cell_type": "code",
   "execution_count": 115,
   "metadata": {},
   "outputs": [
    {
     "data": {
      "text/plain": [
       "(19977, 2497, 2498)"
      ]
     },
     "execution_count": 115,
     "metadata": {},
     "output_type": "execute_result"
    }
   ],
   "source": [
    "# create a validation set\n",
    "\n",
    "x_valid, x_test, y_valid, y_test = train_test_split(x_temp, y_temp, test_size=0.5, random_state=45, stratify=y_temp)\n",
    "x_train.shape[0], x_valid.shape[0], x_test.shape[0]"
   ]
  },
  {
   "cell_type": "markdown",
   "metadata": {},
   "source": [
    "## New Dataframe: Row For Each Move\n",
    "\n",
    "Now that we have training/test/validation sets per game, we will create new dataframes based on the row for each move. For example, a game that lasts 30 games will have 30 rows, each of which will have information of its game up to the Nth move. We will add a column for them to also include their current move."
   ]
  },
  {
   "cell_type": "markdown",
   "metadata": {},
   "source": [
    "NOTE THAT some of the moves from stockfish, from this example, have \"NA\" as their stockfish score, because the computation would have taken too long. In these instances, we decide to use the previous move's data."
   ]
  },
  {
   "cell_type": "code",
   "execution_count": 116,
   "metadata": {},
   "outputs": [],
   "source": [
    "# TODO\n",
    "# TODO Figure out the specifics of stockfish: whether we decide the early-drawed games are the same as actual draws or bad data,\n",
    "# TODO"
   ]
  },
  {
   "cell_type": "code",
   "execution_count": 117,
   "metadata": {},
   "outputs": [],
   "source": [
    "from buildChessDFPerMove import buildChessDataframePerMove\n",
    "\n",
    "x_trainPerMove, y_trainPerMove = buildChessDataframePerMove(x_train, y_train)\n",
    "x_testPerMove, y_testPerMove = buildChessDataframePerMove(x_test, y_test)\n",
    "x_validPerMove, y_validPerMove = buildChessDataframePerMove(x_valid, y_valid)"
   ]
  },
  {
   "cell_type": "markdown",
   "metadata": {},
   "source": [
    "After creating a row for each of our 25000 games, our training set (containing 18000 of these games) has 1316297 rows."
   ]
  },
  {
   "cell_type": "code",
   "execution_count": 118,
   "metadata": {},
   "outputs": [
    {
     "data": {
      "text/html": [
       "<div>\n",
       "<style scoped>\n",
       "    .dataframe tbody tr th:only-of-type {\n",
       "        vertical-align: middle;\n",
       "    }\n",
       "\n",
       "    .dataframe tbody tr th {\n",
       "        vertical-align: top;\n",
       "    }\n",
       "\n",
       "    .dataframe thead th {\n",
       "        text-align: right;\n",
       "    }\n",
       "</style>\n",
       "<table border=\"1\" class=\"dataframe\">\n",
       "  <thead>\n",
       "    <tr style=\"text-align: right;\">\n",
       "      <th></th>\n",
       "      <th></th>\n",
       "      <th>WhiteElo</th>\n",
       "      <th>BlackElo</th>\n",
       "      <th>EloDifference</th>\n",
       "      <th>MoveNumber</th>\n",
       "      <th>WhiteTurn</th>\n",
       "      <th>CurrentStockfishScore</th>\n",
       "      <th>WhiteAverageDelta</th>\n",
       "      <th>BlackAverageDelta</th>\n",
       "      <th>MoveNum*StockfishScore</th>\n",
       "      <th>MoveNum*WhiteAvgDelta</th>\n",
       "      <th>MoveNum*BlackAvgDelta</th>\n",
       "    </tr>\n",
       "    <tr>\n",
       "      <th></th>\n",
       "      <th>GameId</th>\n",
       "      <th></th>\n",
       "      <th></th>\n",
       "      <th></th>\n",
       "      <th></th>\n",
       "      <th></th>\n",
       "      <th></th>\n",
       "      <th></th>\n",
       "      <th></th>\n",
       "      <th></th>\n",
       "      <th></th>\n",
       "      <th></th>\n",
       "    </tr>\n",
       "  </thead>\n",
       "  <tbody>\n",
       "    <tr>\n",
       "      <th>0</th>\n",
       "      <th>18383</th>\n",
       "      <td>2401</td>\n",
       "      <td>2001</td>\n",
       "      <td>400</td>\n",
       "      <td>1</td>\n",
       "      <td>1</td>\n",
       "      <td>18</td>\n",
       "      <td>18.0</td>\n",
       "      <td>0.0</td>\n",
       "      <td>18</td>\n",
       "      <td>18.0</td>\n",
       "      <td>0.0</td>\n",
       "    </tr>\n",
       "    <tr>\n",
       "      <th>1</th>\n",
       "      <th>18383</th>\n",
       "      <td>2401</td>\n",
       "      <td>2001</td>\n",
       "      <td>400</td>\n",
       "      <td>2</td>\n",
       "      <td>0</td>\n",
       "      <td>17</td>\n",
       "      <td>18.0</td>\n",
       "      <td>-1.0</td>\n",
       "      <td>34</td>\n",
       "      <td>36.0</td>\n",
       "      <td>-2.0</td>\n",
       "    </tr>\n",
       "    <tr>\n",
       "      <th>2</th>\n",
       "      <th>18383</th>\n",
       "      <td>2401</td>\n",
       "      <td>2001</td>\n",
       "      <td>400</td>\n",
       "      <td>3</td>\n",
       "      <td>1</td>\n",
       "      <td>12</td>\n",
       "      <td>6.5</td>\n",
       "      <td>-1.0</td>\n",
       "      <td>36</td>\n",
       "      <td>19.5</td>\n",
       "      <td>-3.0</td>\n",
       "    </tr>\n",
       "    <tr>\n",
       "      <th>3</th>\n",
       "      <th>18383</th>\n",
       "      <td>2401</td>\n",
       "      <td>2001</td>\n",
       "      <td>400</td>\n",
       "      <td>4</td>\n",
       "      <td>0</td>\n",
       "      <td>8</td>\n",
       "      <td>6.5</td>\n",
       "      <td>-2.5</td>\n",
       "      <td>32</td>\n",
       "      <td>26.0</td>\n",
       "      <td>-10.0</td>\n",
       "    </tr>\n",
       "    <tr>\n",
       "      <th>4</th>\n",
       "      <th>18383</th>\n",
       "      <td>2401</td>\n",
       "      <td>2001</td>\n",
       "      <td>400</td>\n",
       "      <td>5</td>\n",
       "      <td>1</td>\n",
       "      <td>22</td>\n",
       "      <td>9.0</td>\n",
       "      <td>-2.5</td>\n",
       "      <td>110</td>\n",
       "      <td>45.0</td>\n",
       "      <td>-12.5</td>\n",
       "    </tr>\n",
       "  </tbody>\n",
       "</table>\n",
       "</div>"
      ],
      "text/plain": [
       "          WhiteElo  BlackElo  EloDifference  MoveNumber  WhiteTurn  \\\n",
       "  GameId                                                             \n",
       "0 18383       2401      2001            400           1          1   \n",
       "1 18383       2401      2001            400           2          0   \n",
       "2 18383       2401      2001            400           3          1   \n",
       "3 18383       2401      2001            400           4          0   \n",
       "4 18383       2401      2001            400           5          1   \n",
       "\n",
       "          CurrentStockfishScore  WhiteAverageDelta  BlackAverageDelta  \\\n",
       "  GameId                                                                \n",
       "0 18383                      18               18.0                0.0   \n",
       "1 18383                      17               18.0               -1.0   \n",
       "2 18383                      12                6.5               -1.0   \n",
       "3 18383                       8                6.5               -2.5   \n",
       "4 18383                      22                9.0               -2.5   \n",
       "\n",
       "          MoveNum*StockfishScore  MoveNum*WhiteAvgDelta  MoveNum*BlackAvgDelta  \n",
       "  GameId                                                                        \n",
       "0 18383                       18                   18.0                    0.0  \n",
       "1 18383                       34                   36.0                   -2.0  \n",
       "2 18383                       36                   19.5                   -3.0  \n",
       "3 18383                       32                   26.0                  -10.0  \n",
       "4 18383                      110                   45.0                  -12.5  "
      ]
     },
     "execution_count": 118,
     "metadata": {},
     "output_type": "execute_result"
    }
   ],
   "source": [
    "x_trainPerMove.head()"
   ]
  },
  {
   "cell_type": "code",
   "execution_count": 119,
   "metadata": {},
   "outputs": [
    {
     "data": {
      "text/html": [
       "<div>\n",
       "<style scoped>\n",
       "    .dataframe tbody tr th:only-of-type {\n",
       "        vertical-align: middle;\n",
       "    }\n",
       "\n",
       "    .dataframe tbody tr th {\n",
       "        vertical-align: top;\n",
       "    }\n",
       "\n",
       "    .dataframe thead th {\n",
       "        text-align: right;\n",
       "    }\n",
       "</style>\n",
       "<table border=\"1\" class=\"dataframe\">\n",
       "  <thead>\n",
       "    <tr style=\"text-align: right;\">\n",
       "      <th></th>\n",
       "      <th>WhiteElo</th>\n",
       "      <th>BlackElo</th>\n",
       "      <th>Moves</th>\n",
       "      <th>StockfishScores</th>\n",
       "      <th>NumWhiteMoves</th>\n",
       "      <th>StockfishDeltas</th>\n",
       "      <th>numMovesBin</th>\n",
       "    </tr>\n",
       "  </thead>\n",
       "  <tbody>\n",
       "    <tr>\n",
       "      <th>18383</th>\n",
       "      <td>2401</td>\n",
       "      <td>2001</td>\n",
       "      <td>Nf3 Nf6 c4 c5 Nc3 d6 g3 g6 Bg2 Bg7 d4 cxd4 Nxd...</td>\n",
       "      <td>18 17 12 8 22 46 0 7 21 24 32 34 39 41 39 33 3...</td>\n",
       "      <td>24</td>\n",
       "      <td>18 -1 -5 -4 14 24 -46 7 14 3 8 2 5 2 -2 -6 6 -...</td>\n",
       "      <td>1</td>\n",
       "    </tr>\n",
       "    <tr>\n",
       "      <th>11894</th>\n",
       "      <td>1939</td>\n",
       "      <td>2473</td>\n",
       "      <td>d4 g6 Nf3 Bg7 c4 Nf6 Nc3 d5 cxd5 Nxd5 e4 Nxc3 ...</td>\n",
       "      <td>19 77 51 74 53 46 33 65 50 51 52 54 36 47 41 2...</td>\n",
       "      <td>60</td>\n",
       "      <td>19 58 -26 23 -21 -7 -13 32 -15 1 1 2 -18 11 -6...</td>\n",
       "      <td>3</td>\n",
       "    </tr>\n",
       "    <tr>\n",
       "      <th>3851</th>\n",
       "      <td>2415</td>\n",
       "      <td>2303</td>\n",
       "      <td>e4 c5 Nf3 d6 c3 Nf6 h3 Nc6 Bd3 d5 e5 Nd7 Bb5 e...</td>\n",
       "      <td>26 64 35 53 18 13 2 -23 -17 -15 -11 -30 -23 -2...</td>\n",
       "      <td>70</td>\n",
       "      <td>26 38 -29 18 -35 -5 -11 -25 6 2 4 -19 7 3 1 -1...</td>\n",
       "      <td>3</td>\n",
       "    </tr>\n",
       "    <tr>\n",
       "      <th>24090</th>\n",
       "      <td>2329</td>\n",
       "      <td>2249</td>\n",
       "      <td>e4 e5 d4 exd4 c3 d5 exd5 Qxd5 cxd4 Qe4+ Be3 Nf...</td>\n",
       "      <td>26 45 8 21 -12 -21 -7 9 2 50 41 66 51 37 72 65...</td>\n",
       "      <td>62</td>\n",
       "      <td>26 19 -37 13 -33 -9 14 16 -7 48 -9 25 -15 -14 ...</td>\n",
       "      <td>3</td>\n",
       "    </tr>\n",
       "    <tr>\n",
       "      <th>15670</th>\n",
       "      <td>1885</td>\n",
       "      <td>1930</td>\n",
       "      <td>e4 c5 Nf3 e6 d4 cxd4 Nxd4 Nf6 Nc3 d6 Bg5 Be7 Q...</td>\n",
       "      <td>26 64 35 42 38 38 22 33 17 31 20 22 13 4 2 11 ...</td>\n",
       "      <td>18</td>\n",
       "      <td>26 38 -29 7 -4 0 -16 11 -16 14 -11 2 -9 -9 -2 ...</td>\n",
       "      <td>1</td>\n",
       "    </tr>\n",
       "    <tr>\n",
       "      <th>...</th>\n",
       "      <td>...</td>\n",
       "      <td>...</td>\n",
       "      <td>...</td>\n",
       "      <td>...</td>\n",
       "      <td>...</td>\n",
       "      <td>...</td>\n",
       "      <td>...</td>\n",
       "    </tr>\n",
       "    <tr>\n",
       "      <th>20592</th>\n",
       "      <td>2133</td>\n",
       "      <td>2481</td>\n",
       "      <td>d4 d5 c4 c6 cxd5 cxd5 Bf4 Nf6 Nc3 a6 e3 Nc6 Nf...</td>\n",
       "      <td>19 13 9 34 20 22 22 29 41 32 39 35 31 35 19 24...</td>\n",
       "      <td>89</td>\n",
       "      <td>19 -6 -4 25 -14 2 0 7 12 -9 7 -4 -4 4 -16 5 -5...</td>\n",
       "      <td>3</td>\n",
       "    </tr>\n",
       "    <tr>\n",
       "      <th>20293</th>\n",
       "      <td>2361</td>\n",
       "      <td>2143</td>\n",
       "      <td>Nf3 Nf6 c4 e6 g3 b6 Bg2 Bb7 O-O Be7 Re1 O-O Nc...</td>\n",
       "      <td>21 17 12 17 -4 16 17 14 9 15 5 6 6 24 22 41 40...</td>\n",
       "      <td>42</td>\n",
       "      <td>21 -4 -5 5 -21 20 1 -3 -5 6 -10 1 0 18 -2 19 -...</td>\n",
       "      <td>2</td>\n",
       "    </tr>\n",
       "    <tr>\n",
       "      <th>19410</th>\n",
       "      <td>2271</td>\n",
       "      <td>1307</td>\n",
       "      <td>e4 c5 Nf3 e6 c3 a6 d4 Qc7 Bd3 d6 O-O Nd7 Qe2 N...</td>\n",
       "      <td>26 64 42 48 13 64 39 94 82 86 87 88 81 65 75 7...</td>\n",
       "      <td>25</td>\n",
       "      <td>26 38 -22 6 -35 51 -25 55 -12 4 1 1 -7 -16 10 ...</td>\n",
       "      <td>1</td>\n",
       "    </tr>\n",
       "    <tr>\n",
       "      <th>20007</th>\n",
       "      <td>2643</td>\n",
       "      <td>2556</td>\n",
       "      <td>d4 Nf6 c4 c5 d5 e6 Nc3 exd5 cxd5 d6 e4 g6 f4 B...</td>\n",
       "      <td>19 17 22 50 51 48 54 63 50 45 59 95 88 58 62 5...</td>\n",
       "      <td>39</td>\n",
       "      <td>19 -2 5 28 1 -3 6 9 -13 -5 14 36 -7 -30 4 -12 ...</td>\n",
       "      <td>2</td>\n",
       "    </tr>\n",
       "    <tr>\n",
       "      <th>17932</th>\n",
       "      <td>2354</td>\n",
       "      <td>2129</td>\n",
       "      <td>e4 c5 Nf3 Nc6 d4 cxd4 Nxd4 Nf6 Nc3 d6 Bg5 e6 Q...</td>\n",
       "      <td>26 64 35 63 22 33 8 3 23 29 33 27 17 29 15 39 ...</td>\n",
       "      <td>41</td>\n",
       "      <td>26 38 -29 28 -41 11 -25 -5 20 6 4 -6 -10 12 -1...</td>\n",
       "      <td>2</td>\n",
       "    </tr>\n",
       "  </tbody>\n",
       "</table>\n",
       "<p>19977 rows × 7 columns</p>\n",
       "</div>"
      ],
      "text/plain": [
       "       WhiteElo  BlackElo                                              Moves  \\\n",
       "18383      2401      2001  Nf3 Nf6 c4 c5 Nc3 d6 g3 g6 Bg2 Bg7 d4 cxd4 Nxd...   \n",
       "11894      1939      2473  d4 g6 Nf3 Bg7 c4 Nf6 Nc3 d5 cxd5 Nxd5 e4 Nxc3 ...   \n",
       "3851       2415      2303  e4 c5 Nf3 d6 c3 Nf6 h3 Nc6 Bd3 d5 e5 Nd7 Bb5 e...   \n",
       "24090      2329      2249  e4 e5 d4 exd4 c3 d5 exd5 Qxd5 cxd4 Qe4+ Be3 Nf...   \n",
       "15670      1885      1930  e4 c5 Nf3 e6 d4 cxd4 Nxd4 Nf6 Nc3 d6 Bg5 Be7 Q...   \n",
       "...         ...       ...                                                ...   \n",
       "20592      2133      2481  d4 d5 c4 c6 cxd5 cxd5 Bf4 Nf6 Nc3 a6 e3 Nc6 Nf...   \n",
       "20293      2361      2143  Nf3 Nf6 c4 e6 g3 b6 Bg2 Bb7 O-O Be7 Re1 O-O Nc...   \n",
       "19410      2271      1307  e4 c5 Nf3 e6 c3 a6 d4 Qc7 Bd3 d6 O-O Nd7 Qe2 N...   \n",
       "20007      2643      2556  d4 Nf6 c4 c5 d5 e6 Nc3 exd5 cxd5 d6 e4 g6 f4 B...   \n",
       "17932      2354      2129  e4 c5 Nf3 Nc6 d4 cxd4 Nxd4 Nf6 Nc3 d6 Bg5 e6 Q...   \n",
       "\n",
       "                                         StockfishScores  NumWhiteMoves  \\\n",
       "18383  18 17 12 8 22 46 0 7 21 24 32 34 39 41 39 33 3...             24   \n",
       "11894  19 77 51 74 53 46 33 65 50 51 52 54 36 47 41 2...             60   \n",
       "3851   26 64 35 53 18 13 2 -23 -17 -15 -11 -30 -23 -2...             70   \n",
       "24090  26 45 8 21 -12 -21 -7 9 2 50 41 66 51 37 72 65...             62   \n",
       "15670  26 64 35 42 38 38 22 33 17 31 20 22 13 4 2 11 ...             18   \n",
       "...                                                  ...            ...   \n",
       "20592  19 13 9 34 20 22 22 29 41 32 39 35 31 35 19 24...             89   \n",
       "20293  21 17 12 17 -4 16 17 14 9 15 5 6 6 24 22 41 40...             42   \n",
       "19410  26 64 42 48 13 64 39 94 82 86 87 88 81 65 75 7...             25   \n",
       "20007  19 17 22 50 51 48 54 63 50 45 59 95 88 58 62 5...             39   \n",
       "17932  26 64 35 63 22 33 8 3 23 29 33 27 17 29 15 39 ...             41   \n",
       "\n",
       "                                         StockfishDeltas numMovesBin  \n",
       "18383  18 -1 -5 -4 14 24 -46 7 14 3 8 2 5 2 -2 -6 6 -...           1  \n",
       "11894  19 58 -26 23 -21 -7 -13 32 -15 1 1 2 -18 11 -6...           3  \n",
       "3851   26 38 -29 18 -35 -5 -11 -25 6 2 4 -19 7 3 1 -1...           3  \n",
       "24090  26 19 -37 13 -33 -9 14 16 -7 48 -9 25 -15 -14 ...           3  \n",
       "15670  26 38 -29 7 -4 0 -16 11 -16 14 -11 2 -9 -9 -2 ...           1  \n",
       "...                                                  ...         ...  \n",
       "20592  19 -6 -4 25 -14 2 0 7 12 -9 7 -4 -4 4 -16 5 -5...           3  \n",
       "20293  21 -4 -5 5 -21 20 1 -3 -5 6 -10 1 0 18 -2 19 -...           2  \n",
       "19410  26 38 -22 6 -35 51 -25 55 -12 4 1 1 -7 -16 10 ...           1  \n",
       "20007  19 -2 5 28 1 -3 6 9 -13 -5 14 36 -7 -30 4 -12 ...           2  \n",
       "17932  26 38 -29 28 -41 11 -25 -5 20 6 4 -6 -10 12 -1...           2  \n",
       "\n",
       "[19977 rows x 7 columns]"
      ]
     },
     "execution_count": 119,
     "metadata": {},
     "output_type": "execute_result"
    }
   ],
   "source": [
    "x_train"
   ]
  },
  {
   "cell_type": "code",
   "execution_count": 120,
   "metadata": {},
   "outputs": [
    {
     "data": {
      "text/html": [
       "<div>\n",
       "<style scoped>\n",
       "    .dataframe tbody tr th:only-of-type {\n",
       "        vertical-align: middle;\n",
       "    }\n",
       "\n",
       "    .dataframe tbody tr th {\n",
       "        vertical-align: top;\n",
       "    }\n",
       "\n",
       "    .dataframe thead th {\n",
       "        text-align: right;\n",
       "    }\n",
       "</style>\n",
       "<table border=\"1\" class=\"dataframe\">\n",
       "  <thead>\n",
       "    <tr style=\"text-align: right;\">\n",
       "      <th></th>\n",
       "      <th>WhiteElo</th>\n",
       "      <th>BlackElo</th>\n",
       "      <th>NumWhiteMoves</th>\n",
       "    </tr>\n",
       "  </thead>\n",
       "  <tbody>\n",
       "    <tr>\n",
       "      <th>count</th>\n",
       "      <td>19977.000000</td>\n",
       "      <td>19977.000000</td>\n",
       "      <td>19977.000000</td>\n",
       "    </tr>\n",
       "    <tr>\n",
       "      <th>mean</th>\n",
       "      <td>2247.701206</td>\n",
       "      <td>2243.184112</td>\n",
       "      <td>41.442509</td>\n",
       "    </tr>\n",
       "    <tr>\n",
       "      <th>std</th>\n",
       "      <td>268.369459</td>\n",
       "      <td>270.856249</td>\n",
       "      <td>16.865980</td>\n",
       "    </tr>\n",
       "    <tr>\n",
       "      <th>min</th>\n",
       "      <td>1137.000000</td>\n",
       "      <td>1128.000000</td>\n",
       "      <td>2.000000</td>\n",
       "    </tr>\n",
       "    <tr>\n",
       "      <th>25%</th>\n",
       "      <td>2076.000000</td>\n",
       "      <td>2068.000000</td>\n",
       "      <td>30.000000</td>\n",
       "    </tr>\n",
       "    <tr>\n",
       "      <th>50%</th>\n",
       "      <td>2272.000000</td>\n",
       "      <td>2269.000000</td>\n",
       "      <td>40.000000</td>\n",
       "    </tr>\n",
       "    <tr>\n",
       "      <th>75%</th>\n",
       "      <td>2448.000000</td>\n",
       "      <td>2447.000000</td>\n",
       "      <td>51.000000</td>\n",
       "    </tr>\n",
       "    <tr>\n",
       "      <th>max</th>\n",
       "      <td>2864.000000</td>\n",
       "      <td>2881.000000</td>\n",
       "      <td>165.000000</td>\n",
       "    </tr>\n",
       "  </tbody>\n",
       "</table>\n",
       "</div>"
      ],
      "text/plain": [
       "           WhiteElo      BlackElo  NumWhiteMoves\n",
       "count  19977.000000  19977.000000   19977.000000\n",
       "mean    2247.701206   2243.184112      41.442509\n",
       "std      268.369459    270.856249      16.865980\n",
       "min     1137.000000   1128.000000       2.000000\n",
       "25%     2076.000000   2068.000000      30.000000\n",
       "50%     2272.000000   2269.000000      40.000000\n",
       "75%     2448.000000   2447.000000      51.000000\n",
       "max     2864.000000   2881.000000     165.000000"
      ]
     },
     "execution_count": 120,
     "metadata": {},
     "output_type": "execute_result"
    }
   ],
   "source": [
    "x_train.describe()"
   ]
  },
  {
   "cell_type": "code",
   "execution_count": 121,
   "metadata": {},
   "outputs": [
    {
     "name": "stderr",
     "output_type": "stream",
     "text": [
      "C:\\Users\\stard\\AppData\\Local\\Temp\\ipykernel_18668\\58359773.py:1: FutureWarning: The default value of numeric_only in DataFrame.corr is deprecated. In a future version, it will default to False. Select only valid columns or specify the value of numeric_only to silence this warning.\n",
      "  sns.heatmap(df.corr())\n"
     ]
    },
    {
     "data": {
      "text/plain": [
       "<Axes: >"
      ]
     },
     "execution_count": 121,
     "metadata": {},
     "output_type": "execute_result"
    },
    {
     "data": {
      "image/png": "[encoded data removed]",
      "text/plain": [
       "<Figure size 640x480 with 2 Axes>"
      ]
     },
     "metadata": {},
     "output_type": "display_data"
    }
   ],
   "source": [
    "sns.heatmap(df.corr())"
   ]
  },
  {
   "cell_type": "code",
   "execution_count": 122,
   "metadata": {},
   "outputs": [
    {
     "data": {
      "text/plain": [
       "<Axes: >"
      ]
     },
     "execution_count": 122,
     "metadata": {},
     "output_type": "execute_result"
    },
    {
     "data": {
      "image/png": "[encoded data removed]",
      "text/plain": [
       "<Figure size 640x480 with 2 Axes>"
      ]
     },
     "metadata": {},
     "output_type": "display_data"
    }
   ],
   "source": [
    "sns.heatmap(x_trainPerMove[['WhiteElo', 'BlackElo', 'EloDifference', 'MoveNumber', 'CurrentStockfishScore', 'WhiteAverageDelta', 'BlackAverageDelta']].corr(), cmap=\"crest\")"
   ]
  },
  {
   "cell_type": "markdown",
   "metadata": {},
   "source": [
    "This correlation plot shows that there is a low correlation between the number of moves and whether white wins or how skilled either player is. However, a bigger elo difference has a considerable influence on whether white will win.\n",
    "\n",
    "We also see an interesting correlation between black's elo and white's elo. Most elo matchmaking systems involve matching players of similar elo, in order to maximize the number of close games, and so this is likely attributed to that.\n",
    "\n",
    "To ensure the strength of our model, we'll drop blackElo from the variables we examine."
   ]
  },
  {
   "cell_type": "markdown",
   "metadata": {},
   "source": [
    "# Building a Multinomial Logistic Model"
   ]
  },
  {
   "cell_type": "markdown",
   "metadata": {},
   "source": [
    "We will create a multinomial logistic regression model to predict the win probability given a specific move.\n",
    "\n",
    "This model will include the elo of white, the difference in elo, the current turn number, the stockfish difference, and average stockfish delta from white and black. We will also include interaction terms between the move number and the current stockfish score, white's average delta, and black's average delta, because of their perceived importance.\n",
    "\n",
    "Afterwards, we will create a feature importance graph to see whether the selected variables are useful, and finally visualize how the win probability affects a given game. "
   ]
  },
  {
   "cell_type": "code",
   "execution_count": 123,
   "metadata": {},
   "outputs": [],
   "source": [
    "# scale our data\n",
    "scaler = StandardScaler()\n",
    "x_train_scaled = scaler.fit_transform(x_trainPerMove)\n",
    "x_valid_scaled = scaler.transform(x_validPerMove)\n",
    "x_test_scaled = scaler.transform(x_testPerMove)"
   ]
  },
  {
   "cell_type": "code",
   "execution_count": 78,
   "metadata": {},
   "outputs": [
    {
     "name": "stderr",
     "output_type": "stream",
     "text": [
      "c:\\Users\\stard\\anaconda3\\lib\\site-packages\\sklearn\\linear_model\\_logistic.py:458: ConvergenceWarning: lbfgs failed to converge (status=1):\n",
      "STOP: TOTAL NO. of ITERATIONS REACHED LIMIT.\n",
      "\n",
      "Increase the number of iterations (max_iter) or scale the data as shown in:\n",
      "    https://scikit-learn.org/stable/modules/preprocessing.html\n",
      "Please also refer to the documentation for alternative solver options:\n",
      "    https://scikit-learn.org/stable/modules/linear_model.html#logistic-regression\n",
      "  n_iter_i = _check_optimize_result(\n"
     ]
    }
   ],
   "source": [
    "# build the logistic model\n",
    "logreg_model = LogisticRegression(multi_class='multinomial', solver='lbfgs')\n",
    "logreg_model.fit(x_train_scaled, y_trainPerMove)\n",
    "\n",
    "y_pred = logreg_model.predict(x_valid_scaled)"
   ]
  },
  {
   "cell_type": "code",
   "execution_count": 138,
   "metadata": {},
   "outputs": [
    {
     "name": "stdout",
     "output_type": "stream",
     "text": [
      "Macro-averaged One-vs-Rest ROC AUC score:\n",
      "0.84\n",
      "Accuracy score: 0.6675174868081973\n"
     ]
    }
   ],
   "source": [
    "# logistic model metrics\n",
    "\n",
    "# AUC Score. ROC curve is only used in binomial curves.\n",
    "# From https://scikit-learn.org/stable/auto_examples/model_selection/plot_roc.html\n",
    "\n",
    "y_pred_proba = logreg_model.predict_proba(x_valid_scaled)\n",
    "macro_roc_auc_ovr = roc_auc_score(\n",
    "    y_validPerMove,\n",
    "    y_pred_proba,\n",
    "    multi_class=\"ovr\",\n",
    "    average=\"macro\",\n",
    ")\n",
    "print(f\"Macro-averaged One-vs-Rest ROC AUC score:\\n{macro_roc_auc_ovr:.2f}\")\n",
    "print(f\"Accuracy score: {accuracy_score(logreg_model.predict(x_valid_scaled), y_validPerMove)}\")"
   ]
  },
  {
   "cell_type": "code",
   "execution_count": 80,
   "metadata": {},
   "outputs": [],
   "source": [
    "# logistic model feature importance\n",
    "# from https://forecastegy.com/posts/feature-importance-in-logistic-regression/\n",
    "def showFeatureImportance(logreg_model):\n",
    "    '''\n",
    "    Builds a feature importance chart from the variables from a logistic regression model.\n",
    "    \n",
    "    Parameters:\n",
    "        logreg_model: the model to build the chart from\n",
    "        \n",
    "    Returns: None.\n",
    "    '''\n",
    "    coefficients = logreg_model.coef_\n",
    "\n",
    "    avg_importance = np.mean(np.abs(coefficients), axis=0)\n",
    "    feature_importance = pd.DataFrame({'Feature': x_trainPerMove.columns, 'Importance': avg_importance})\n",
    "    feature_importance = feature_importance.sort_values('Importance', ascending=True)\n",
    "    feature_importance.plot(x='Feature', y='Importance', kind='barh', figsize=(10,6))"
   ]
  },
  {
   "cell_type": "code",
   "execution_count": 81,
   "metadata": {},
   "outputs": [
    {
     "data": {
      "image/png": "[encoded data removed]",
      "text/plain": [
       "<Figure size 1000x600 with 1 Axes>"
      ]
     },
     "metadata": {},
     "output_type": "display_data"
    }
   ],
   "source": [
    "showFeatureImportance(logreg_model)"
   ]
  },
  {
   "cell_type": "code",
   "execution_count": 82,
   "metadata": {},
   "outputs": [],
   "source": [
    "features = pd.DataFrame({'Feature': x_trainPerMove.columns, 'BlackImportance': logreg_model.coef_[0], 'TieImportance': logreg_model.coef_[1], 'WhiteImportance': logreg_model.coef_[2]})\n"
   ]
  },
  {
   "cell_type": "code",
   "execution_count": 83,
   "metadata": {},
   "outputs": [
    {
     "data": {
      "text/html": [
       "<div>\n",
       "<style scoped>\n",
       "    .dataframe tbody tr th:only-of-type {\n",
       "        vertical-align: middle;\n",
       "    }\n",
       "\n",
       "    .dataframe tbody tr th {\n",
       "        vertical-align: top;\n",
       "    }\n",
       "\n",
       "    .dataframe thead th {\n",
       "        text-align: right;\n",
       "    }\n",
       "</style>\n",
       "<table border=\"1\" class=\"dataframe\">\n",
       "  <thead>\n",
       "    <tr style=\"text-align: right;\">\n",
       "      <th></th>\n",
       "      <th>Feature</th>\n",
       "      <th>BlackImportance</th>\n",
       "      <th>TieImportance</th>\n",
       "      <th>WhiteImportance</th>\n",
       "    </tr>\n",
       "  </thead>\n",
       "  <tbody>\n",
       "    <tr>\n",
       "      <th>0</th>\n",
       "      <td>WhiteElo</td>\n",
       "      <td>-0.293319</td>\n",
       "      <td>0.061352</td>\n",
       "      <td>0.231967</td>\n",
       "    </tr>\n",
       "    <tr>\n",
       "      <th>1</th>\n",
       "      <td>BlackElo</td>\n",
       "      <td>0.211634</td>\n",
       "      <td>0.061247</td>\n",
       "      <td>-0.272881</td>\n",
       "    </tr>\n",
       "    <tr>\n",
       "      <th>2</th>\n",
       "      <td>EloDifference</td>\n",
       "      <td>-0.595696</td>\n",
       "      <td>-0.000082</td>\n",
       "      <td>0.595778</td>\n",
       "    </tr>\n",
       "    <tr>\n",
       "      <th>3</th>\n",
       "      <td>MoveNumber</td>\n",
       "      <td>-0.104500</td>\n",
       "      <td>0.248589</td>\n",
       "      <td>-0.144089</td>\n",
       "    </tr>\n",
       "    <tr>\n",
       "      <th>4</th>\n",
       "      <td>WhiteTurn</td>\n",
       "      <td>-0.042901</td>\n",
       "      <td>-0.001051</td>\n",
       "      <td>0.043952</td>\n",
       "    </tr>\n",
       "    <tr>\n",
       "      <th>5</th>\n",
       "      <td>CurrentStockfishScore</td>\n",
       "      <td>-4.314031</td>\n",
       "      <td>-0.284503</td>\n",
       "      <td>4.598534</td>\n",
       "    </tr>\n",
       "    <tr>\n",
       "      <th>6</th>\n",
       "      <td>WhiteAverageDelta</td>\n",
       "      <td>0.011539</td>\n",
       "      <td>0.215266</td>\n",
       "      <td>-0.226805</td>\n",
       "    </tr>\n",
       "    <tr>\n",
       "      <th>7</th>\n",
       "      <td>BlackAverageDelta</td>\n",
       "      <td>0.253000</td>\n",
       "      <td>-0.085551</td>\n",
       "      <td>-0.167448</td>\n",
       "    </tr>\n",
       "    <tr>\n",
       "      <th>8</th>\n",
       "      <td>MoveNum*StockfishScore</td>\n",
       "      <td>0.270830</td>\n",
       "      <td>0.176764</td>\n",
       "      <td>-0.447594</td>\n",
       "    </tr>\n",
       "    <tr>\n",
       "      <th>9</th>\n",
       "      <td>MoveNum*WhiteAvgDelta</td>\n",
       "      <td>-1.390789</td>\n",
       "      <td>-0.162773</td>\n",
       "      <td>1.553561</td>\n",
       "    </tr>\n",
       "    <tr>\n",
       "      <th>10</th>\n",
       "      <td>MoveNum*BlackAvgDelta</td>\n",
       "      <td>-1.624789</td>\n",
       "      <td>0.007893</td>\n",
       "      <td>1.616897</td>\n",
       "    </tr>\n",
       "  </tbody>\n",
       "</table>\n",
       "</div>"
      ],
      "text/plain": [
       "                   Feature  BlackImportance  TieImportance  WhiteImportance\n",
       "0                 WhiteElo        -0.293319       0.061352         0.231967\n",
       "1                 BlackElo         0.211634       0.061247        -0.272881\n",
       "2            EloDifference        -0.595696      -0.000082         0.595778\n",
       "3               MoveNumber        -0.104500       0.248589        -0.144089\n",
       "4                WhiteTurn        -0.042901      -0.001051         0.043952\n",
       "5    CurrentStockfishScore        -4.314031      -0.284503         4.598534\n",
       "6        WhiteAverageDelta         0.011539       0.215266        -0.226805\n",
       "7        BlackAverageDelta         0.253000      -0.085551        -0.167448\n",
       "8   MoveNum*StockfishScore         0.270830       0.176764        -0.447594\n",
       "9    MoveNum*WhiteAvgDelta        -1.390789      -0.162773         1.553561\n",
       "10   MoveNum*BlackAvgDelta        -1.624789       0.007893         1.616897"
      ]
     },
     "execution_count": 83,
     "metadata": {},
     "output_type": "execute_result"
    }
   ],
   "source": [
    "features"
   ]
  },
  {
   "cell_type": "code",
   "execution_count": 84,
   "metadata": {},
   "outputs": [],
   "source": [
    "# visualize model\n",
    "def buildStackedLinearWPPlot(dataframe, game_id, model, scaler):\n",
    "    '''\n",
    "    Creates a stacked linear plot of predicted win probabilities using a win probability model.\n",
    "    \n",
    "    Parameters:\n",
    "    - dataframe: the pandas dataframe (non-scaled) with all the data. \n",
    "    - game_id: the id of the game to be used (integer).\n",
    "    - model: Some subtype of Classifier. Must have a predict_proba() function to use on the dataframe.\n",
    "\n",
    "    - scaler: how the data is scaled before using the model.\n",
    "    '''\n",
    "\n",
    "    df_to_predict = dataframe.loc[pd.IndexSlice[:, game_id], :]\n",
    "    scaled_df_to_predict = scaler.transform(df_to_predict)\n",
    "\n",
    "    #print(scaled_df_to_predict.head())\n",
    "    probabilities = model.predict_proba(scaled_df_to_predict)\n",
    "\n",
    "    move_numbers = df_to_predict.loc[:,'MoveNumber'].values\n",
    "    black_probas = probabilities[:,0]\n",
    "    tie_probas = probabilities[:,1]\n",
    "    white_probas = probabilities[:,2]\n",
    "    #print(probabilities)\n",
    "\n",
    "\n",
    "    sns.set_theme(palette=None)\n",
    "    color_map = ['#333', '#777', '#ccc']\n",
    "    plt.stackplot(move_numbers, \n",
    "                  black_probas, \n",
    "                  tie_probas, \n",
    "                  white_probas, \n",
    "                  colors=color_map, \n",
    "                  labels=['Black', 'Draw', 'White'],)\n",
    "\n",
    "    plt.xlabel('Move Number')\n",
    "    plt.ylabel('Win Probability')\n",
    "    plt.legend(loc='upper left')\n",
    "    #plt.stackplot(df.x, df.y1, df.y2, df.y3)\n",
    "\n",
    "    return"
   ]
  },
  {
   "cell_type": "code",
   "execution_count": 85,
   "metadata": {},
   "outputs": [
    {
     "data": {
      "text/html": [
       "<div>\n",
       "<style scoped>\n",
       "    .dataframe tbody tr th:only-of-type {\n",
       "        vertical-align: middle;\n",
       "    }\n",
       "\n",
       "    .dataframe tbody tr th {\n",
       "        vertical-align: top;\n",
       "    }\n",
       "\n",
       "    .dataframe thead th {\n",
       "        text-align: right;\n",
       "    }\n",
       "</style>\n",
       "<table border=\"1\" class=\"dataframe\">\n",
       "  <thead>\n",
       "    <tr style=\"text-align: right;\">\n",
       "      <th></th>\n",
       "      <th></th>\n",
       "      <th>WhiteElo</th>\n",
       "      <th>BlackElo</th>\n",
       "      <th>EloDifference</th>\n",
       "      <th>MoveNumber</th>\n",
       "      <th>WhiteTurn</th>\n",
       "      <th>CurrentStockfishScore</th>\n",
       "      <th>WhiteAverageDelta</th>\n",
       "      <th>BlackAverageDelta</th>\n",
       "      <th>MoveNum*StockfishScore</th>\n",
       "      <th>MoveNum*WhiteAvgDelta</th>\n",
       "      <th>MoveNum*BlackAvgDelta</th>\n",
       "    </tr>\n",
       "    <tr>\n",
       "      <th></th>\n",
       "      <th>GameId</th>\n",
       "      <th></th>\n",
       "      <th></th>\n",
       "      <th></th>\n",
       "      <th></th>\n",
       "      <th></th>\n",
       "      <th></th>\n",
       "      <th></th>\n",
       "      <th></th>\n",
       "      <th></th>\n",
       "      <th></th>\n",
       "      <th></th>\n",
       "    </tr>\n",
       "  </thead>\n",
       "  <tbody>\n",
       "    <tr>\n",
       "      <th>0</th>\n",
       "      <th>21820</th>\n",
       "      <td>2556</td>\n",
       "      <td>2329</td>\n",
       "      <td>227</td>\n",
       "      <td>1</td>\n",
       "      <td>1</td>\n",
       "      <td>18</td>\n",
       "      <td>18.000000</td>\n",
       "      <td>0.000000</td>\n",
       "      <td>18</td>\n",
       "      <td>18.000000</td>\n",
       "      <td>0.000000</td>\n",
       "    </tr>\n",
       "    <tr>\n",
       "      <th>1</th>\n",
       "      <th>21820</th>\n",
       "      <td>2556</td>\n",
       "      <td>2329</td>\n",
       "      <td>227</td>\n",
       "      <td>2</td>\n",
       "      <td>0</td>\n",
       "      <td>11</td>\n",
       "      <td>18.000000</td>\n",
       "      <td>-7.000000</td>\n",
       "      <td>22</td>\n",
       "      <td>36.000000</td>\n",
       "      <td>-14.000000</td>\n",
       "    </tr>\n",
       "    <tr>\n",
       "      <th>2</th>\n",
       "      <th>21820</th>\n",
       "      <td>2556</td>\n",
       "      <td>2329</td>\n",
       "      <td>227</td>\n",
       "      <td>3</td>\n",
       "      <td>1</td>\n",
       "      <td>13</td>\n",
       "      <td>10.000000</td>\n",
       "      <td>-7.000000</td>\n",
       "      <td>39</td>\n",
       "      <td>30.000000</td>\n",
       "      <td>-21.000000</td>\n",
       "    </tr>\n",
       "    <tr>\n",
       "      <th>3</th>\n",
       "      <th>21820</th>\n",
       "      <td>2556</td>\n",
       "      <td>2329</td>\n",
       "      <td>227</td>\n",
       "      <td>4</td>\n",
       "      <td>0</td>\n",
       "      <td>33</td>\n",
       "      <td>10.000000</td>\n",
       "      <td>6.500000</td>\n",
       "      <td>132</td>\n",
       "      <td>40.000000</td>\n",
       "      <td>26.000000</td>\n",
       "    </tr>\n",
       "    <tr>\n",
       "      <th>4</th>\n",
       "      <th>21820</th>\n",
       "      <td>2556</td>\n",
       "      <td>2329</td>\n",
       "      <td>227</td>\n",
       "      <td>5</td>\n",
       "      <td>1</td>\n",
       "      <td>46</td>\n",
       "      <td>11.000000</td>\n",
       "      <td>6.500000</td>\n",
       "      <td>230</td>\n",
       "      <td>55.000000</td>\n",
       "      <td>32.500000</td>\n",
       "    </tr>\n",
       "    <tr>\n",
       "      <th>...</th>\n",
       "      <th>...</th>\n",
       "      <td>...</td>\n",
       "      <td>...</td>\n",
       "      <td>...</td>\n",
       "      <td>...</td>\n",
       "      <td>...</td>\n",
       "      <td>...</td>\n",
       "      <td>...</td>\n",
       "      <td>...</td>\n",
       "      <td>...</td>\n",
       "      <td>...</td>\n",
       "      <td>...</td>\n",
       "    </tr>\n",
       "    <tr>\n",
       "      <th>203720</th>\n",
       "      <th>18850</th>\n",
       "      <td>2258</td>\n",
       "      <td>1982</td>\n",
       "      <td>276</td>\n",
       "      <td>63</td>\n",
       "      <td>1</td>\n",
       "      <td>452</td>\n",
       "      <td>-8.375000</td>\n",
       "      <td>23.225806</td>\n",
       "      <td>28476</td>\n",
       "      <td>-527.625000</td>\n",
       "      <td>1463.225806</td>\n",
       "    </tr>\n",
       "    <tr>\n",
       "      <th>203721</th>\n",
       "      <th>18850</th>\n",
       "      <td>2258</td>\n",
       "      <td>1982</td>\n",
       "      <td>276</td>\n",
       "      <td>64</td>\n",
       "      <td>0</td>\n",
       "      <td>443</td>\n",
       "      <td>-8.375000</td>\n",
       "      <td>22.218750</td>\n",
       "      <td>28352</td>\n",
       "      <td>-536.000000</td>\n",
       "      <td>1422.000000</td>\n",
       "    </tr>\n",
       "    <tr>\n",
       "      <th>203722</th>\n",
       "      <th>18850</th>\n",
       "      <td>2258</td>\n",
       "      <td>1982</td>\n",
       "      <td>276</td>\n",
       "      <td>65</td>\n",
       "      <td>1</td>\n",
       "      <td>462</td>\n",
       "      <td>-7.545455</td>\n",
       "      <td>22.218750</td>\n",
       "      <td>30030</td>\n",
       "      <td>-490.454545</td>\n",
       "      <td>1444.218750</td>\n",
       "    </tr>\n",
       "    <tr>\n",
       "      <th>203723</th>\n",
       "      <th>18850</th>\n",
       "      <td>2258</td>\n",
       "      <td>1982</td>\n",
       "      <td>276</td>\n",
       "      <td>66</td>\n",
       "      <td>0</td>\n",
       "      <td>502</td>\n",
       "      <td>-7.545455</td>\n",
       "      <td>22.757576</td>\n",
       "      <td>33132</td>\n",
       "      <td>-498.000000</td>\n",
       "      <td>1502.000000</td>\n",
       "    </tr>\n",
       "    <tr>\n",
       "      <th>203724</th>\n",
       "      <th>18850</th>\n",
       "      <td>2258</td>\n",
       "      <td>1982</td>\n",
       "      <td>276</td>\n",
       "      <td>67</td>\n",
       "      <td>1</td>\n",
       "      <td>568</td>\n",
       "      <td>-5.382353</td>\n",
       "      <td>22.757576</td>\n",
       "      <td>38056</td>\n",
       "      <td>-360.617647</td>\n",
       "      <td>1524.757576</td>\n",
       "    </tr>\n",
       "  </tbody>\n",
       "</table>\n",
       "<p>203725 rows × 11 columns</p>\n",
       "</div>"
      ],
      "text/plain": [
       "               WhiteElo  BlackElo  EloDifference  MoveNumber  WhiteTurn  \\\n",
       "       GameId                                                             \n",
       "0      21820       2556      2329            227           1          1   \n",
       "1      21820       2556      2329            227           2          0   \n",
       "2      21820       2556      2329            227           3          1   \n",
       "3      21820       2556      2329            227           4          0   \n",
       "4      21820       2556      2329            227           5          1   \n",
       "...                 ...       ...            ...         ...        ...   \n",
       "203720 18850       2258      1982            276          63          1   \n",
       "203721 18850       2258      1982            276          64          0   \n",
       "203722 18850       2258      1982            276          65          1   \n",
       "203723 18850       2258      1982            276          66          0   \n",
       "203724 18850       2258      1982            276          67          1   \n",
       "\n",
       "               CurrentStockfishScore  WhiteAverageDelta  BlackAverageDelta  \\\n",
       "       GameId                                                                \n",
       "0      21820                      18          18.000000           0.000000   \n",
       "1      21820                      11          18.000000          -7.000000   \n",
       "2      21820                      13          10.000000          -7.000000   \n",
       "3      21820                      33          10.000000           6.500000   \n",
       "4      21820                      46          11.000000           6.500000   \n",
       "...                              ...                ...                ...   \n",
       "203720 18850                     452          -8.375000          23.225806   \n",
       "203721 18850                     443          -8.375000          22.218750   \n",
       "203722 18850                     462          -7.545455          22.218750   \n",
       "203723 18850                     502          -7.545455          22.757576   \n",
       "203724 18850                     568          -5.382353          22.757576   \n",
       "\n",
       "               MoveNum*StockfishScore  MoveNum*WhiteAvgDelta  \\\n",
       "       GameId                                                  \n",
       "0      21820                       18              18.000000   \n",
       "1      21820                       22              36.000000   \n",
       "2      21820                       39              30.000000   \n",
       "3      21820                      132              40.000000   \n",
       "4      21820                      230              55.000000   \n",
       "...                               ...                    ...   \n",
       "203720 18850                    28476            -527.625000   \n",
       "203721 18850                    28352            -536.000000   \n",
       "203722 18850                    30030            -490.454545   \n",
       "203723 18850                    33132            -498.000000   \n",
       "203724 18850                    38056            -360.617647   \n",
       "\n",
       "               MoveNum*BlackAvgDelta  \n",
       "       GameId                         \n",
       "0      21820                0.000000  \n",
       "1      21820              -14.000000  \n",
       "2      21820              -21.000000  \n",
       "3      21820               26.000000  \n",
       "4      21820               32.500000  \n",
       "...                              ...  \n",
       "203720 18850             1463.225806  \n",
       "203721 18850             1422.000000  \n",
       "203722 18850             1444.218750  \n",
       "203723 18850             1502.000000  \n",
       "203724 18850             1524.757576  \n",
       "\n",
       "[203725 rows x 11 columns]"
      ]
     },
     "execution_count": 85,
     "metadata": {},
     "output_type": "execute_result"
    }
   ],
   "source": [
    "x_validPerMove"
   ]
  },
  {
   "cell_type": "code",
   "execution_count": 86,
   "metadata": {},
   "outputs": [
    {
     "name": "stdout",
     "output_type": "stream",
     "text": [
      "       WhiteElo  BlackElo                                              Moves  \\\n",
      "21820      2556      2329  Nf3 Nf6 c4 c6 Nc3 d5 e3 e6 b3 Nbd7 Qc2 Bd6 Bb2...   \n",
      "735        1577      1809  e4 c5 Nf3 e6 d4 cxd4 Nxd4 a6 Nc3 Qc7 a3 Nf6 Bg...   \n",
      "4539       2468      2327  d4 d5 Nf3 Nf6 c4 dxc4 e3 e6 Bxc4 a6 a4 c5 O-O ...   \n",
      "3787       2108      2080  c4 Nf6 g3 e5 Bg2 Nc6 Nc3 Bc5 d3 O-O e3 h6 a3 a...   \n",
      "13590      2271      1820  e4 c5 Nf3 Nc6 Bb5 g6 Bxc6 dxc6 d3 Bg7 h3 Nf6 N...   \n",
      "\n",
      "                                         StockfishScores  NumWhiteMoves  \\\n",
      "21820  18 11 13 33 46 42 36 41 29 28 15 24 22 27 -41 ...             31   \n",
      "735    26 64 35 42 25 44 22 66 63 56 49 46 42 74 92 8...             22   \n",
      "4539   19 13 10 22 20 58 63 43 50 49 15 19 10 24 7 5 ...             58   \n",
      "3787   2 15 -29 0 -4 -6 4 17 4 1 8 17 14 30 31 32 23 ...             80   \n",
      "13590  26 59 41 63 32 58 18 23 28 29 27 22 24 24 18 3...             34   \n",
      "\n",
      "                                         StockfishDeltas numMovesBin  \n",
      "21820  18 -7 2 20 13 -4 -6 5 -12 -1 -13 9 -2 5 -68 62...           1  \n",
      "735    26 38 -29 7 -17 19 -22 44 -3 -7 -7 -3 -4 32 18...           1  \n",
      "4539   19 -6 -3 12 -2 38 5 -20 7 -1 -34 4 -9 14 -17 -...           3  \n",
      "3787   2 13 -44 29 -4 -2 10 13 -13 -3 7 9 -3 16 1 1 -...           3  \n",
      "13590  26 33 -18 22 -31 26 -40 5 5 1 -2 -5 2 0 -6 12 ...           2  \n",
      "21820    2\n",
      "735      0\n",
      "4539     2\n",
      "3787     1\n",
      "13590    2\n",
      "Name: WhiteWins, dtype: int64\n"
     ]
    }
   ],
   "source": [
    "print(x_valid.head())\n",
    "print(y_valid.head())"
   ]
  },
  {
   "cell_type": "code",
   "execution_count": 87,
   "metadata": {},
   "outputs": [],
   "source": [
    "#buildStackedLinearWPPlot(x_validPerMove, 18027, logreg_model, scaler) # white won"
   ]
  },
  {
   "cell_type": "code",
   "execution_count": 88,
   "metadata": {},
   "outputs": [],
   "source": [
    "#buildStackedLinearWPPlot(x_validPerMove, 22250, logreg_model, scaler) # white won"
   ]
  },
  {
   "cell_type": "code",
   "execution_count": 89,
   "metadata": {},
   "outputs": [],
   "source": [
    "#buildStackedLinearWPPlot(x_validPerMove, 16404, logreg_model, scaler) # white won"
   ]
  },
  {
   "cell_type": "code",
   "execution_count": 90,
   "metadata": {},
   "outputs": [],
   "source": [
    "#buildStackedLinearWPPlot(x_validPerMove, 16361, logreg_model, scaler) # draw"
   ]
  },
  {
   "cell_type": "code",
   "execution_count": 91,
   "metadata": {},
   "outputs": [],
   "source": [
    "#buildStackedLinearWPPlot(x_validPerMove, 9083, logreg_model, scaler) # black won"
   ]
  },
  {
   "cell_type": "markdown",
   "metadata": {},
   "source": [
    "## Improving the Logistic Model"
   ]
  },
  {
   "cell_type": "markdown",
   "metadata": {},
   "source": [
    "The above models illustrate an interesting problem with our data so far, where we have decently good accuracy as we get closer to the end of the game, but near the beginning of the game we're getting unexpected results. In particular, the elo difference between white and black does not seem to give as much of a pull as we were expecting.\n",
    "\n",
    "So, we will build multiple alternative logistic regression models to find some balance between correctly predicting the endgame, and having a more consistent guess for the early game (white winning if elo is tied, otherwise whoever has a much higher elo.)"
   ]
  },
  {
   "cell_type": "code",
   "execution_count": 92,
   "metadata": {},
   "outputs": [
    {
     "data": {
      "text/html": [
       "<div>\n",
       "<style scoped>\n",
       "    .dataframe tbody tr th:only-of-type {\n",
       "        vertical-align: middle;\n",
       "    }\n",
       "\n",
       "    .dataframe tbody tr th {\n",
       "        vertical-align: top;\n",
       "    }\n",
       "\n",
       "    .dataframe thead th {\n",
       "        text-align: right;\n",
       "    }\n",
       "</style>\n",
       "<table border=\"1\" class=\"dataframe\">\n",
       "  <thead>\n",
       "    <tr style=\"text-align: right;\">\n",
       "      <th></th>\n",
       "      <th></th>\n",
       "      <th>WhiteElo</th>\n",
       "      <th>BlackElo</th>\n",
       "      <th>EloDifference</th>\n",
       "      <th>MoveNumber</th>\n",
       "      <th>WhiteTurn</th>\n",
       "      <th>CurrentStockfishScore</th>\n",
       "      <th>WhiteAverageDelta</th>\n",
       "      <th>BlackAverageDelta</th>\n",
       "      <th>MoveNum*StockfishScore</th>\n",
       "      <th>MoveNum*WhiteAvgDelta</th>\n",
       "      <th>MoveNum*BlackAvgDelta</th>\n",
       "    </tr>\n",
       "    <tr>\n",
       "      <th></th>\n",
       "      <th>GameId</th>\n",
       "      <th></th>\n",
       "      <th></th>\n",
       "      <th></th>\n",
       "      <th></th>\n",
       "      <th></th>\n",
       "      <th></th>\n",
       "      <th></th>\n",
       "      <th></th>\n",
       "      <th></th>\n",
       "      <th></th>\n",
       "      <th></th>\n",
       "    </tr>\n",
       "  </thead>\n",
       "  <tbody>\n",
       "    <tr>\n",
       "      <th>0</th>\n",
       "      <th>18383</th>\n",
       "      <td>2401</td>\n",
       "      <td>2001</td>\n",
       "      <td>400</td>\n",
       "      <td>1</td>\n",
       "      <td>1</td>\n",
       "      <td>18</td>\n",
       "      <td>18.0</td>\n",
       "      <td>0.0</td>\n",
       "      <td>18</td>\n",
       "      <td>18.0</td>\n",
       "      <td>0.0</td>\n",
       "    </tr>\n",
       "    <tr>\n",
       "      <th>1</th>\n",
       "      <th>18383</th>\n",
       "      <td>2401</td>\n",
       "      <td>2001</td>\n",
       "      <td>400</td>\n",
       "      <td>2</td>\n",
       "      <td>0</td>\n",
       "      <td>17</td>\n",
       "      <td>18.0</td>\n",
       "      <td>-1.0</td>\n",
       "      <td>34</td>\n",
       "      <td>36.0</td>\n",
       "      <td>-2.0</td>\n",
       "    </tr>\n",
       "    <tr>\n",
       "      <th>2</th>\n",
       "      <th>18383</th>\n",
       "      <td>2401</td>\n",
       "      <td>2001</td>\n",
       "      <td>400</td>\n",
       "      <td>3</td>\n",
       "      <td>1</td>\n",
       "      <td>12</td>\n",
       "      <td>6.5</td>\n",
       "      <td>-1.0</td>\n",
       "      <td>36</td>\n",
       "      <td>19.5</td>\n",
       "      <td>-3.0</td>\n",
       "    </tr>\n",
       "    <tr>\n",
       "      <th>3</th>\n",
       "      <th>18383</th>\n",
       "      <td>2401</td>\n",
       "      <td>2001</td>\n",
       "      <td>400</td>\n",
       "      <td>4</td>\n",
       "      <td>0</td>\n",
       "      <td>8</td>\n",
       "      <td>6.5</td>\n",
       "      <td>-2.5</td>\n",
       "      <td>32</td>\n",
       "      <td>26.0</td>\n",
       "      <td>-10.0</td>\n",
       "    </tr>\n",
       "    <tr>\n",
       "      <th>4</th>\n",
       "      <th>18383</th>\n",
       "      <td>2401</td>\n",
       "      <td>2001</td>\n",
       "      <td>400</td>\n",
       "      <td>5</td>\n",
       "      <td>1</td>\n",
       "      <td>22</td>\n",
       "      <td>9.0</td>\n",
       "      <td>-2.5</td>\n",
       "      <td>110</td>\n",
       "      <td>45.0</td>\n",
       "      <td>-12.5</td>\n",
       "    </tr>\n",
       "  </tbody>\n",
       "</table>\n",
       "</div>"
      ],
      "text/plain": [
       "          WhiteElo  BlackElo  EloDifference  MoveNumber  WhiteTurn  \\\n",
       "  GameId                                                             \n",
       "0 18383       2401      2001            400           1          1   \n",
       "1 18383       2401      2001            400           2          0   \n",
       "2 18383       2401      2001            400           3          1   \n",
       "3 18383       2401      2001            400           4          0   \n",
       "4 18383       2401      2001            400           5          1   \n",
       "\n",
       "          CurrentStockfishScore  WhiteAverageDelta  BlackAverageDelta  \\\n",
       "  GameId                                                                \n",
       "0 18383                      18               18.0                0.0   \n",
       "1 18383                      17               18.0               -1.0   \n",
       "2 18383                      12                6.5               -1.0   \n",
       "3 18383                       8                6.5               -2.5   \n",
       "4 18383                      22                9.0               -2.5   \n",
       "\n",
       "          MoveNum*StockfishScore  MoveNum*WhiteAvgDelta  MoveNum*BlackAvgDelta  \n",
       "  GameId                                                                        \n",
       "0 18383                       18                   18.0                    0.0  \n",
       "1 18383                       34                   36.0                   -2.0  \n",
       "2 18383                       36                   19.5                   -3.0  \n",
       "3 18383                       32                   26.0                  -10.0  \n",
       "4 18383                      110                   45.0                  -12.5  "
      ]
     },
     "execution_count": 92,
     "metadata": {},
     "output_type": "execute_result"
    }
   ],
   "source": [
    "x_trainPerMove.head()"
   ]
  },
  {
   "cell_type": "code",
   "execution_count": 93,
   "metadata": {},
   "outputs": [
    {
     "name": "stdout",
     "output_type": "stream",
     "text": [
      "Macro-averaged One-vs-Rest ROC AUC score:\n",
      "0.83\n"
     ]
    }
   ],
   "source": [
    "# trying an alternative with no interactions and some additional deletions.\n",
    "\n",
    "train_noMoveNumberInteractions = x_trainPerMove.drop(['BlackElo', \n",
    "                                           'WhiteTurn', 'MoveNum*StockfishScore',\n",
    "                                           'MoveNum*WhiteAvgDelta',\n",
    "                                           'MoveNum*BlackAvgDelta'\n",
    "                                           ], axis=1)\n",
    "\n",
    "valid_noMoveNumberInteractions = x_validPerMove.drop(['BlackElo',\n",
    "                                           'WhiteTurn', 'MoveNum*StockfishScore',\n",
    "                                           'MoveNum*WhiteAvgDelta',\n",
    "                                           'MoveNum*BlackAvgDelta'\n",
    "                                           ], axis=1)\n",
    "\n",
    "scaler2 = StandardScaler()\n",
    "x_train_noMove_scaled = scaler2.fit_transform(train_noMoveNumberInteractions)\n",
    "x_valid_noMove_scaled = scaler2.transform(valid_noMoveNumberInteractions)\n",
    "\n",
    "logreg_model2 = LogisticRegression(multi_class='multinomial', solver='lbfgs')\n",
    "logreg_model2.fit(x_train_noMove_scaled, y_trainPerMove)\n",
    "\n",
    "y_pred = logreg_model2.predict(x_valid_noMove_scaled)\n",
    "\n",
    "y_pred_proba = logreg_model2.predict_proba(x_valid_noMove_scaled)\n",
    "macro_roc_auc_ovr = roc_auc_score(\n",
    "    y_validPerMove,\n",
    "    y_pred_proba,\n",
    "    multi_class=\"ovr\",\n",
    "    average=\"macro\",\n",
    ")\n",
    "print(f\"Macro-averaged One-vs-Rest ROC AUC score:\\n{macro_roc_auc_ovr:.2f}\")"
   ]
  },
  {
   "cell_type": "markdown",
   "metadata": {},
   "source": [
    "Interestingly, only having the stockfish score and the elo difference still has an AUC score of 0.82 - 0.01 less than the original model. Let's see how it functions for a given game:"
   ]
  },
  {
   "cell_type": "code",
   "execution_count": 94,
   "metadata": {},
   "outputs": [
    {
     "name": "stdout",
     "output_type": "stream",
     "text": [
      "Index(['WhiteElo', 'EloDifference', 'MoveNumber', 'CurrentStockfishScore',\n",
      "       'WhiteAverageDelta', 'BlackAverageDelta'],\n",
      "      dtype='object')\n",
      "Index(['WhiteElo', 'EloDifference', 'MoveNumber', 'CurrentStockfishScore',\n",
      "       'WhiteAverageDelta', 'BlackAverageDelta'],\n",
      "      dtype='object')\n",
      "['WhiteElo' 'EloDifference' 'MoveNumber' 'CurrentStockfishScore'\n",
      " 'WhiteAverageDelta' 'BlackAverageDelta']\n"
     ]
    }
   ],
   "source": [
    "print(train_noMoveNumberInteractions.columns)\n",
    "print(valid_noMoveNumberInteractions.columns)\n",
    "print(scaler2.feature_names_in_)"
   ]
  },
  {
   "cell_type": "code",
   "execution_count": 95,
   "metadata": {},
   "outputs": [
    {
     "data": {
      "text/plain": [
       "Int64Index([21820,   735,  4539,  3787, 13590, 17718, 21309, 20320, 15628,\n",
       "            13809,\n",
       "            ...\n",
       "             5507, 14291,  5254,  8921,  7963, 15012, 19188, 15340,  1784,\n",
       "            18850],\n",
       "           dtype='int64', name='GameId', length=2497)"
      ]
     },
     "execution_count": 95,
     "metadata": {},
     "output_type": "execute_result"
    }
   ],
   "source": [
    "valid_noMoveNumberInteractions.index.unique(level='GameId')"
   ]
  },
  {
   "cell_type": "code",
   "execution_count": 96,
   "metadata": {},
   "outputs": [],
   "source": [
    "#buildStackedLinearWPPlot(valid_noMoveNumberInteractions, 16404, logreg_model2, scaler2) # white won"
   ]
  },
  {
   "cell_type": "code",
   "execution_count": 97,
   "metadata": {},
   "outputs": [],
   "source": [
    "#buildStackedLinearWPPlot(valid_noMoveNumberInteractions, 12749, logreg_model2, scaler2) # white won"
   ]
  },
  {
   "cell_type": "code",
   "execution_count": 98,
   "metadata": {},
   "outputs": [],
   "source": [
    "#buildStackedLinearWPPlot(valid_noMoveNumberInteractions, 16361, logreg_model2, scaler2) # draw"
   ]
  },
  {
   "cell_type": "markdown",
   "metadata": {},
   "source": [
    "Comparatively, this model is much cleaner for the win probabilities. It seems to trade certainty in the late game for more consistency in the early game."
   ]
  },
  {
   "cell_type": "markdown",
   "metadata": {},
   "source": [
    "## Adding Move Number Interactions with Stockfish Score"
   ]
  },
  {
   "cell_type": "markdown",
   "metadata": {},
   "source": [
    "We saw a linear interaction between move number and stockfish score wasn't helpful, but perhaps it would grow in benefit the later we are in the model. In other words, we want a moveNumber^2*stockfishScore value."
   ]
  },
  {
   "cell_type": "code",
   "execution_count": 99,
   "metadata": {},
   "outputs": [
    {
     "name": "stdout",
     "output_type": "stream",
     "text": [
      "Macro-averaged One-vs-Rest ROC AUC score:\n",
      "0.83\n"
     ]
    }
   ],
   "source": [
    "# trying an alternative with no interactions and some additional deletions.\n",
    "\n",
    "train_MoveNumberInteractions = x_trainPerMove.drop(['BlackElo', \n",
    "                                           'WhiteTurn',\n",
    "                                           'MoveNum*WhiteAvgDelta',\n",
    "                                           'MoveNum*BlackAvgDelta'\n",
    "                                           ], axis=1)\n",
    "\n",
    "valid_MoveNumberInteractions = x_validPerMove.drop(['BlackElo',\n",
    "                                           'WhiteTurn',\n",
    "                                           'MoveNum*WhiteAvgDelta',\n",
    "                                           'MoveNum*BlackAvgDelta'\n",
    "                                           ], axis=1)\n",
    "\n",
    "train_MoveNumberInteractions['MoveNum^2*StockfishScore'] = (train_MoveNumberInteractions['MoveNum*StockfishScore']\n",
    "                                                              * train_MoveNumberInteractions['MoveNumber'])\n",
    "\n",
    "valid_MoveNumberInteractions['MoveNum^2*StockfishScore'] = (valid_MoveNumberInteractions['MoveNum*StockfishScore']\n",
    "                                                              * valid_MoveNumberInteractions['MoveNumber'])\n",
    "\n",
    "\n",
    "scaler3 = StandardScaler()\n",
    "x_train_moveInter_scaled = scaler3.fit_transform(train_MoveNumberInteractions)\n",
    "x_valid_moveInter_scaled = scaler3.transform(valid_MoveNumberInteractions)\n",
    "\n",
    "logreg_model3 = LogisticRegression(multi_class='multinomial', solver='lbfgs', max_iter=2000)\n",
    "logreg_model3.fit(x_train_moveInter_scaled, y_trainPerMove)\n",
    "\n",
    "y_pred = logreg_model3.predict(x_valid_moveInter_scaled)\n",
    "\n",
    "y_pred_proba = logreg_model3.predict_proba(x_valid_moveInter_scaled)\n",
    "macro_roc_auc_ovr = roc_auc_score(\n",
    "    y_validPerMove,\n",
    "    y_pred_proba,\n",
    "    multi_class=\"ovr\",\n",
    "    average=\"macro\",\n",
    ")\n",
    "print(f\"Macro-averaged One-vs-Rest ROC AUC score:\\n{macro_roc_auc_ovr:.2f}\")"
   ]
  },
  {
   "cell_type": "code",
   "execution_count": 100,
   "metadata": {},
   "outputs": [],
   "source": [
    "#buildStackedLinearWPPlot(valid_noMoveNumberInteractions, 16404, logreg_model2, scaler2) # white won"
   ]
  },
  {
   "cell_type": "code",
   "execution_count": 101,
   "metadata": {},
   "outputs": [],
   "source": [
    "#buildStackedLinearWPPlot(valid_MoveNumberInteractions, 16404, logreg_model3, scaler3) # white won"
   ]
  },
  {
   "cell_type": "code",
   "execution_count": 102,
   "metadata": {},
   "outputs": [],
   "source": [
    "#buildStackedLinearWPPlot(valid_MoveNumberInteractions, 16404, logreg_model3, scaler3) # white won"
   ]
  },
  {
   "cell_type": "code",
   "execution_count": 103,
   "metadata": {},
   "outputs": [],
   "source": [
    "#buildStackedLinearWPPlot(valid_MoveNumberInteractions, 16361, logreg_model3, scaler3) # draw"
   ]
  },
  {
   "cell_type": "markdown",
   "metadata": {},
   "source": [
    "### Adding Move Number Interactions with WhiteAvgDelta"
   ]
  },
  {
   "cell_type": "code",
   "execution_count": 104,
   "metadata": {},
   "outputs": [
    {
     "name": "stdout",
     "output_type": "stream",
     "text": [
      "Macro-averaged One-vs-Rest ROC AUC score:\n",
      "0.84\n"
     ]
    }
   ],
   "source": [
    "# trying an alternative with no interactions and some additional deletions.\n",
    "\n",
    "train_MoveNumberInteraction4 = x_trainPerMove.drop(['BlackElo', \n",
    "                                           'WhiteTurn',\n",
    "                                           'MoveNum*BlackAvgDelta'\n",
    "                                           ], axis=1)\n",
    "\n",
    "valid_MoveNumberInteraction4 = x_validPerMove.drop(['BlackElo',\n",
    "                                           'WhiteTurn',\n",
    "                                           'MoveNum*BlackAvgDelta'\n",
    "                                           ], axis=1)\n",
    "\n",
    "test_MoveNumberInteraction4 = x_testPerMove.drop(['BlackElo',\n",
    "                                           'WhiteTurn',\n",
    "                                           'MoveNum*BlackAvgDelta'\n",
    "                                           ], axis=1)\n",
    "\n",
    "\n",
    "train_MoveNumberInteraction4['MoveNum^2*StockfishScore'] = (train_MoveNumberInteraction4['MoveNum*StockfishScore']\n",
    "                                                              * train_MoveNumberInteraction4['MoveNumber'])\n",
    "\n",
    "valid_MoveNumberInteraction4['MoveNum^2*StockfishScore'] = (valid_MoveNumberInteraction4['MoveNum*StockfishScore']\n",
    "                                                              * valid_MoveNumberInteraction4['MoveNumber'])\n",
    "\n",
    "test_MoveNumberInteraction4['MoveNum^2*StockfishScore'] = (test_MoveNumberInteraction4['MoveNum*StockfishScore']\n",
    "                                                              * test_MoveNumberInteraction4['MoveNumber'])\n",
    "\n",
    "\n",
    "scaler4 = StandardScaler()\n",
    "x_train_moveInter_scaled = scaler4.fit_transform(train_MoveNumberInteraction4)\n",
    "x_valid_moveInter_scaled = scaler4.transform(valid_MoveNumberInteraction4)\n",
    "\n",
    "logreg_model4 = LogisticRegression(multi_class='multinomial', solver='lbfgs', max_iter=2000)\n",
    "logreg_model4.fit(x_train_moveInter_scaled, y_trainPerMove)\n",
    "\n",
    "y_pred = logreg_model4.predict(x_valid_moveInter_scaled)\n",
    "\n",
    "y_pred_proba = logreg_model4.predict_proba(x_valid_moveInter_scaled)\n",
    "macro_roc_auc_ovr = roc_auc_score(\n",
    "    y_validPerMove,\n",
    "    y_pred_proba,\n",
    "    multi_class=\"ovr\",\n",
    "    average=\"macro\",\n",
    ")\n",
    "print(f\"Macro-averaged One-vs-Rest ROC AUC score:\\n{macro_roc_auc_ovr:.2f}\")"
   ]
  },
  {
   "cell_type": "code",
   "execution_count": 105,
   "metadata": {},
   "outputs": [
    {
     "name": "stdout",
     "output_type": "stream",
     "text": [
      "Macro-averaged One-vs-Rest ROC AUC score:\n",
      "0.82\n",
      "Accuracy: 0.6497553049688172\n"
     ]
    }
   ],
   "source": [
    "# This is the best logistic model, but worse than KNN. Now we evaluate it\n",
    "# against testing data. NOT used to decide which model.\n",
    "\n",
    "x_test_moveInter_scaled = scaler4.transform(test_MoveNumberInteraction4)\n",
    "\n",
    "y_pred_proba = logreg_model4.predict_proba(x_test_moveInter_scaled)\n",
    "macro_roc_auc_ovr = roc_auc_score(\n",
    "    y_testPerMove,\n",
    "    y_pred_proba,\n",
    "    multi_class=\"ovr\",\n",
    "    average=\"macro\",\n",
    ")\n",
    "print(f\"Macro-averaged One-vs-Rest ROC AUC score:\\n{macro_roc_auc_ovr:.2f}\")\n",
    "\n",
    "\n",
    "y_pred = logreg_model4.predict(x_test_moveInter_scaled)\n",
    "accuracy = accuracy_score(y_pred, y_testPerMove)\n",
    "print(\"Accuracy:\", accuracy)"
   ]
  },
  {
   "cell_type": "code",
   "execution_count": 124,
   "metadata": {},
   "outputs": [],
   "source": [
    "#buildStackedLinearWPPlot(valid_MoveNumberInteraction4, 16361, logreg_model4, scaler4) # draw"
   ]
  },
  {
   "cell_type": "code",
   "execution_count": null,
   "metadata": {},
   "outputs": [],
   "source": [
    "#buildStackedLinearWPPlot(valid_MoveNumberInteraction4, 16404, logreg_model4, scaler4) # white wins"
   ]
  },
  {
   "cell_type": "markdown",
   "metadata": {},
   "source": [
    "# Building a KNN Model"
   ]
  },
  {
   "cell_type": "code",
   "execution_count": 125,
   "metadata": {},
   "outputs": [],
   "source": [
    "neigh_scaler = StandardScaler()\n",
    "x_train_scaled = neigh_scaler.fit_transform(x_trainPerMove)\n",
    "x_valid_scaled = neigh_scaler.transform(x_validPerMove)\n",
    "x_test_scaled = neigh_scaler.transform(x_testPerMove)"
   ]
  },
  {
   "cell_type": "code",
   "execution_count": 126,
   "metadata": {},
   "outputs": [
    {
     "data": {
      "text/html": [
       "<div>\n",
       "<style scoped>\n",
       "    .dataframe tbody tr th:only-of-type {\n",
       "        vertical-align: middle;\n",
       "    }\n",
       "\n",
       "    .dataframe tbody tr th {\n",
       "        vertical-align: top;\n",
       "    }\n",
       "\n",
       "    .dataframe thead th {\n",
       "        text-align: right;\n",
       "    }\n",
       "</style>\n",
       "<table border=\"1\" class=\"dataframe\">\n",
       "  <thead>\n",
       "    <tr style=\"text-align: right;\">\n",
       "      <th></th>\n",
       "      <th></th>\n",
       "      <th>WhiteElo</th>\n",
       "      <th>BlackElo</th>\n",
       "      <th>EloDifference</th>\n",
       "      <th>MoveNumber</th>\n",
       "      <th>WhiteTurn</th>\n",
       "      <th>CurrentStockfishScore</th>\n",
       "      <th>WhiteAverageDelta</th>\n",
       "      <th>BlackAverageDelta</th>\n",
       "      <th>MoveNum*StockfishScore</th>\n",
       "      <th>MoveNum*WhiteAvgDelta</th>\n",
       "      <th>MoveNum*BlackAvgDelta</th>\n",
       "    </tr>\n",
       "    <tr>\n",
       "      <th></th>\n",
       "      <th>GameId</th>\n",
       "      <th></th>\n",
       "      <th></th>\n",
       "      <th></th>\n",
       "      <th></th>\n",
       "      <th></th>\n",
       "      <th></th>\n",
       "      <th></th>\n",
       "      <th></th>\n",
       "      <th></th>\n",
       "      <th></th>\n",
       "      <th></th>\n",
       "    </tr>\n",
       "  </thead>\n",
       "  <tbody>\n",
       "    <tr>\n",
       "      <th>0</th>\n",
       "      <th>18383</th>\n",
       "      <td>2401</td>\n",
       "      <td>2001</td>\n",
       "      <td>400</td>\n",
       "      <td>1</td>\n",
       "      <td>1</td>\n",
       "      <td>18</td>\n",
       "      <td>18.0</td>\n",
       "      <td>0.0</td>\n",
       "      <td>18</td>\n",
       "      <td>18.0</td>\n",
       "      <td>0.0</td>\n",
       "    </tr>\n",
       "    <tr>\n",
       "      <th>1</th>\n",
       "      <th>18383</th>\n",
       "      <td>2401</td>\n",
       "      <td>2001</td>\n",
       "      <td>400</td>\n",
       "      <td>2</td>\n",
       "      <td>0</td>\n",
       "      <td>17</td>\n",
       "      <td>18.0</td>\n",
       "      <td>-1.0</td>\n",
       "      <td>34</td>\n",
       "      <td>36.0</td>\n",
       "      <td>-2.0</td>\n",
       "    </tr>\n",
       "    <tr>\n",
       "      <th>2</th>\n",
       "      <th>18383</th>\n",
       "      <td>2401</td>\n",
       "      <td>2001</td>\n",
       "      <td>400</td>\n",
       "      <td>3</td>\n",
       "      <td>1</td>\n",
       "      <td>12</td>\n",
       "      <td>6.5</td>\n",
       "      <td>-1.0</td>\n",
       "      <td>36</td>\n",
       "      <td>19.5</td>\n",
       "      <td>-3.0</td>\n",
       "    </tr>\n",
       "    <tr>\n",
       "      <th>3</th>\n",
       "      <th>18383</th>\n",
       "      <td>2401</td>\n",
       "      <td>2001</td>\n",
       "      <td>400</td>\n",
       "      <td>4</td>\n",
       "      <td>0</td>\n",
       "      <td>8</td>\n",
       "      <td>6.5</td>\n",
       "      <td>-2.5</td>\n",
       "      <td>32</td>\n",
       "      <td>26.0</td>\n",
       "      <td>-10.0</td>\n",
       "    </tr>\n",
       "    <tr>\n",
       "      <th>4</th>\n",
       "      <th>18383</th>\n",
       "      <td>2401</td>\n",
       "      <td>2001</td>\n",
       "      <td>400</td>\n",
       "      <td>5</td>\n",
       "      <td>1</td>\n",
       "      <td>22</td>\n",
       "      <td>9.0</td>\n",
       "      <td>-2.5</td>\n",
       "      <td>110</td>\n",
       "      <td>45.0</td>\n",
       "      <td>-12.5</td>\n",
       "    </tr>\n",
       "  </tbody>\n",
       "</table>\n",
       "</div>"
      ],
      "text/plain": [
       "          WhiteElo  BlackElo  EloDifference  MoveNumber  WhiteTurn  \\\n",
       "  GameId                                                             \n",
       "0 18383       2401      2001            400           1          1   \n",
       "1 18383       2401      2001            400           2          0   \n",
       "2 18383       2401      2001            400           3          1   \n",
       "3 18383       2401      2001            400           4          0   \n",
       "4 18383       2401      2001            400           5          1   \n",
       "\n",
       "          CurrentStockfishScore  WhiteAverageDelta  BlackAverageDelta  \\\n",
       "  GameId                                                                \n",
       "0 18383                      18               18.0                0.0   \n",
       "1 18383                      17               18.0               -1.0   \n",
       "2 18383                      12                6.5               -1.0   \n",
       "3 18383                       8                6.5               -2.5   \n",
       "4 18383                      22                9.0               -2.5   \n",
       "\n",
       "          MoveNum*StockfishScore  MoveNum*WhiteAvgDelta  MoveNum*BlackAvgDelta  \n",
       "  GameId                                                                        \n",
       "0 18383                       18                   18.0                    0.0  \n",
       "1 18383                       34                   36.0                   -2.0  \n",
       "2 18383                       36                   19.5                   -3.0  \n",
       "3 18383                       32                   26.0                  -10.0  \n",
       "4 18383                      110                   45.0                  -12.5  "
      ]
     },
     "execution_count": 126,
     "metadata": {},
     "output_type": "execute_result"
    }
   ],
   "source": [
    "x_trainPerMove.head()"
   ]
  },
  {
   "cell_type": "code",
   "execution_count": 127,
   "metadata": {},
   "outputs": [
    {
     "data": {
      "text/html": [
       "<style>#sk-container-id-1 {color: black;background-color: white;}#sk-container-id-1 pre{padding: 0;}#sk-container-id-1 div.sk-toggleable {background-color: white;}#sk-container-id-1 label.sk-toggleable__label {cursor: pointer;display: block;width: 100%;margin-bottom: 0;padding: 0.3em;box-sizing: border-box;text-align: center;}#sk-container-id-1 label.sk-toggleable__label-arrow:before {content: \"▸\";float: left;margin-right: 0.25em;color: #696969;}#sk-container-id-1 label.sk-toggleable__label-arrow:hover:before {color: black;}#sk-container-id-1 div.sk-estimator:hover label.sk-toggleable__label-arrow:before {color: black;}#sk-container-id-1 div.sk-toggleable__content {max-height: 0;max-width: 0;overflow: hidden;text-align: left;background-color: #f0f8ff;}#sk-container-id-1 div.sk-toggleable__content pre {margin: 0.2em;color: black;border-radius: 0.25em;background-color: #f0f8ff;}#sk-container-id-1 input.sk-toggleable__control:checked~div.sk-toggleable__content {max-height: 200px;max-width: 100%;overflow: auto;}#sk-container-id-1 input.sk-toggleable__control:checked~label.sk-toggleable__label-arrow:before {content: \"▾\";}#sk-container-id-1 div.sk-estimator input.sk-toggleable__control:checked~label.sk-toggleable__label {background-color: #d4ebff;}#sk-container-id-1 div.sk-label input.sk-toggleable__control:checked~label.sk-toggleable__label {background-color: #d4ebff;}#sk-container-id-1 input.sk-hidden--visually {border: 0;clip: rect(1px 1px 1px 1px);clip: rect(1px, 1px, 1px, 1px);height: 1px;margin: -1px;overflow: hidden;padding: 0;position: absolute;width: 1px;}#sk-container-id-1 div.sk-estimator {font-family: monospace;background-color: #f0f8ff;border: 1px dotted black;border-radius: 0.25em;box-sizing: border-box;margin-bottom: 0.5em;}#sk-container-id-1 div.sk-estimator:hover {background-color: #d4ebff;}#sk-container-id-1 div.sk-parallel-item::after {content: \"\";width: 100%;border-bottom: 1px solid gray;flex-grow: 1;}#sk-container-id-1 div.sk-label:hover label.sk-toggleable__label {background-color: #d4ebff;}#sk-container-id-1 div.sk-serial::before {content: \"\";position: absolute;border-left: 1px solid gray;box-sizing: border-box;top: 0;bottom: 0;left: 50%;z-index: 0;}#sk-container-id-1 div.sk-serial {display: flex;flex-direction: column;align-items: center;background-color: white;padding-right: 0.2em;padding-left: 0.2em;position: relative;}#sk-container-id-1 div.sk-item {position: relative;z-index: 1;}#sk-container-id-1 div.sk-parallel {display: flex;align-items: stretch;justify-content: center;background-color: white;position: relative;}#sk-container-id-1 div.sk-item::before, #sk-container-id-1 div.sk-parallel-item::before {content: \"\";position: absolute;border-left: 1px solid gray;box-sizing: border-box;top: 0;bottom: 0;left: 50%;z-index: -1;}#sk-container-id-1 div.sk-parallel-item {display: flex;flex-direction: column;z-index: 1;position: relative;background-color: white;}#sk-container-id-1 div.sk-parallel-item:first-child::after {align-self: flex-end;width: 50%;}#sk-container-id-1 div.sk-parallel-item:last-child::after {align-self: flex-start;width: 50%;}#sk-container-id-1 div.sk-parallel-item:only-child::after {width: 0;}#sk-container-id-1 div.sk-dashed-wrapped {border: 1px dashed gray;margin: 0 0.4em 0.5em 0.4em;box-sizing: border-box;padding-bottom: 0.4em;background-color: white;}#sk-container-id-1 div.sk-label label {font-family: monospace;font-weight: bold;display: inline-block;line-height: 1.2em;}#sk-container-id-1 div.sk-label-container {text-align: center;}#sk-container-id-1 div.sk-container {/* jupyter's `normalize.less` sets `[hidden] { display: none; }` but bootstrap.min.css set `[hidden] { display: none !important; }` so we also need the `!important` here to be able to override the default hidden behavior on the sphinx rendered scikit-learn.org. See: https://github.com/scikit-learn/scikit-learn/issues/21755 */display: inline-block !important;position: relative;}#sk-container-id-1 div.sk-text-repr-fallback {display: none;}</style><div id=\"sk-container-id-1\" class=\"sk-top-container\"><div class=\"sk-text-repr-fallback\"><pre>KNeighborsClassifier(n_neighbors=15)</pre><b>In a Jupyter environment, please rerun this cell to show the HTML representation or trust the notebook. <br />On GitHub, the HTML representation is unable to render, please try loading this page with nbviewer.org.</b></div><div class=\"sk-container\" hidden><div class=\"sk-item\"><div class=\"sk-estimator sk-toggleable\"><input class=\"sk-toggleable__control sk-hidden--visually\" id=\"sk-estimator-id-1\" type=\"checkbox\" checked><label for=\"sk-estimator-id-1\" class=\"sk-toggleable__label sk-toggleable__label-arrow\">KNeighborsClassifier</label><div class=\"sk-toggleable__content\"><pre>KNeighborsClassifier(n_neighbors=15)</pre></div></div></div></div></div>"
      ],
      "text/plain": [
       "KNeighborsClassifier(n_neighbors=15)"
      ]
     },
     "execution_count": 127,
     "metadata": {},
     "output_type": "execute_result"
    }
   ],
   "source": [
    "neigh = KNeighborsClassifier(n_neighbors=15)\n",
    "neigh.fit(x_train_scaled, y_trainPerMove)\n",
    "\n"
   ]
  },
  {
   "cell_type": "code",
   "execution_count": 128,
   "metadata": {},
   "outputs": [
    {
     "name": "stdout",
     "output_type": "stream",
     "text": [
      "Accuracy: 0.619398699226899\n"
     ]
    }
   ],
   "source": [
    "y_pred = neigh.predict(x_valid_scaled)\n",
    "accuracy = accuracy_score(y_pred, y_validPerMove)\n",
    "print(\"Accuracy:\", accuracy)"
   ]
  },
  {
   "cell_type": "markdown",
   "metadata": {},
   "source": [
    "Already, we can see KNN does significantly better than our previous model. Let's now perform a grid search to find the best model."
   ]
  },
  {
   "cell_type": "code",
   "execution_count": null,
   "metadata": {},
   "outputs": [
    {
     "name": "stdout",
     "output_type": "stream",
     "text": [
      "Best accuracy etc for valid: 1 neighbors with p=2\n",
      "Accuracy with this best knn model: 0.7652802638234951\n"
     ]
    }
   ],
   "source": [
    "best_p = -1\n",
    "best_neighbors = -1\n",
    "best_accuracy = 0\n",
    "\n",
    "with open(\"knn_results.txt\", \"a\") as f:\n",
    "    f.write(\"Accuracy,Neighbors,P\")\n",
    "\n",
    "for p in range(1, 3): # manhattan vs. euclidean\n",
    "    for num_neighbor in range(1,20):\n",
    "        neigh = KNeighborsClassifier(n_neighbors=num_neighbor, p=p)\n",
    "        neigh.fit(x_train_scaled, y_trainPerMove)\n",
    "        y_pred = neigh.predict(x_valid_scaled)\n",
    "        accuracy = accuracy_score(y_pred, y_validPerMove)\n",
    "\n",
    "        if accuracy > best_accuracy:\n",
    "            best_p = p\n",
    "            best_neighbors = num_neighbor\n",
    "            best_accuracy = accuracy\n",
    "\n",
    "        with open(\"knn_results.txt\", \"a\") as f:\n",
    "            f.write(f\"{accuracy},{num_neighbor},{p}\\n\")\n",
    "\n",
    "print(f\"Best accuracy etc for valid: {best_neighbors} neighbors with p={p}\")\n",
    "\n"
   ]
  },
  {
   "cell_type": "code",
   "execution_count": 186,
   "metadata": {},
   "outputs": [
    {
     "name": "stdout",
     "output_type": "stream",
     "text": [
      "Accuracy with this best knn model: 0.9999720319856804\n"
     ]
    }
   ],
   "source": [
    "best_neigh = KNeighborsClassifier(n_neighbors=best_neighbors, p=best_p)\n",
    "best_neigh.fit(x_train_scaled, y_trainPerMove)\n",
    "test_accuracy = accuracy_score(best_neigh.predict(x_test_scaled), y_testPerMove)\n",
    "\n",
    "print(f\"Accuracy with this best knn model: {test_accuracy}\")"
   ]
  },
  {
   "cell_type": "markdown",
   "metadata": {},
   "source": [
    "# Building an XGBoost Model"
   ]
  },
  {
   "cell_type": "code",
   "execution_count": 129,
   "metadata": {},
   "outputs": [
    {
     "data": {
      "text/html": [
       "<div>\n",
       "<style scoped>\n",
       "    .dataframe tbody tr th:only-of-type {\n",
       "        vertical-align: middle;\n",
       "    }\n",
       "\n",
       "    .dataframe tbody tr th {\n",
       "        vertical-align: top;\n",
       "    }\n",
       "\n",
       "    .dataframe thead th {\n",
       "        text-align: right;\n",
       "    }\n",
       "</style>\n",
       "<table border=\"1\" class=\"dataframe\">\n",
       "  <thead>\n",
       "    <tr style=\"text-align: right;\">\n",
       "      <th></th>\n",
       "      <th></th>\n",
       "      <th>WhiteElo</th>\n",
       "      <th>BlackElo</th>\n",
       "      <th>EloDifference</th>\n",
       "      <th>MoveNumber</th>\n",
       "      <th>WhiteTurn</th>\n",
       "      <th>CurrentStockfishScore</th>\n",
       "      <th>WhiteAverageDelta</th>\n",
       "      <th>BlackAverageDelta</th>\n",
       "      <th>MoveNum*StockfishScore</th>\n",
       "      <th>MoveNum*WhiteAvgDelta</th>\n",
       "      <th>MoveNum*BlackAvgDelta</th>\n",
       "    </tr>\n",
       "    <tr>\n",
       "      <th></th>\n",
       "      <th>GameId</th>\n",
       "      <th></th>\n",
       "      <th></th>\n",
       "      <th></th>\n",
       "      <th></th>\n",
       "      <th></th>\n",
       "      <th></th>\n",
       "      <th></th>\n",
       "      <th></th>\n",
       "      <th></th>\n",
       "      <th></th>\n",
       "      <th></th>\n",
       "    </tr>\n",
       "  </thead>\n",
       "  <tbody>\n",
       "    <tr>\n",
       "      <th>0</th>\n",
       "      <th>18383</th>\n",
       "      <td>2401</td>\n",
       "      <td>2001</td>\n",
       "      <td>400</td>\n",
       "      <td>1</td>\n",
       "      <td>1</td>\n",
       "      <td>18</td>\n",
       "      <td>18.0</td>\n",
       "      <td>0.0</td>\n",
       "      <td>18</td>\n",
       "      <td>18.0</td>\n",
       "      <td>0.0</td>\n",
       "    </tr>\n",
       "    <tr>\n",
       "      <th>1</th>\n",
       "      <th>18383</th>\n",
       "      <td>2401</td>\n",
       "      <td>2001</td>\n",
       "      <td>400</td>\n",
       "      <td>2</td>\n",
       "      <td>0</td>\n",
       "      <td>17</td>\n",
       "      <td>18.0</td>\n",
       "      <td>-1.0</td>\n",
       "      <td>34</td>\n",
       "      <td>36.0</td>\n",
       "      <td>-2.0</td>\n",
       "    </tr>\n",
       "    <tr>\n",
       "      <th>2</th>\n",
       "      <th>18383</th>\n",
       "      <td>2401</td>\n",
       "      <td>2001</td>\n",
       "      <td>400</td>\n",
       "      <td>3</td>\n",
       "      <td>1</td>\n",
       "      <td>12</td>\n",
       "      <td>6.5</td>\n",
       "      <td>-1.0</td>\n",
       "      <td>36</td>\n",
       "      <td>19.5</td>\n",
       "      <td>-3.0</td>\n",
       "    </tr>\n",
       "    <tr>\n",
       "      <th>3</th>\n",
       "      <th>18383</th>\n",
       "      <td>2401</td>\n",
       "      <td>2001</td>\n",
       "      <td>400</td>\n",
       "      <td>4</td>\n",
       "      <td>0</td>\n",
       "      <td>8</td>\n",
       "      <td>6.5</td>\n",
       "      <td>-2.5</td>\n",
       "      <td>32</td>\n",
       "      <td>26.0</td>\n",
       "      <td>-10.0</td>\n",
       "    </tr>\n",
       "    <tr>\n",
       "      <th>4</th>\n",
       "      <th>18383</th>\n",
       "      <td>2401</td>\n",
       "      <td>2001</td>\n",
       "      <td>400</td>\n",
       "      <td>5</td>\n",
       "      <td>1</td>\n",
       "      <td>22</td>\n",
       "      <td>9.0</td>\n",
       "      <td>-2.5</td>\n",
       "      <td>110</td>\n",
       "      <td>45.0</td>\n",
       "      <td>-12.5</td>\n",
       "    </tr>\n",
       "  </tbody>\n",
       "</table>\n",
       "</div>"
      ],
      "text/plain": [
       "          WhiteElo  BlackElo  EloDifference  MoveNumber  WhiteTurn  \\\n",
       "  GameId                                                             \n",
       "0 18383       2401      2001            400           1          1   \n",
       "1 18383       2401      2001            400           2          0   \n",
       "2 18383       2401      2001            400           3          1   \n",
       "3 18383       2401      2001            400           4          0   \n",
       "4 18383       2401      2001            400           5          1   \n",
       "\n",
       "          CurrentStockfishScore  WhiteAverageDelta  BlackAverageDelta  \\\n",
       "  GameId                                                                \n",
       "0 18383                      18               18.0                0.0   \n",
       "1 18383                      17               18.0               -1.0   \n",
       "2 18383                      12                6.5               -1.0   \n",
       "3 18383                       8                6.5               -2.5   \n",
       "4 18383                      22                9.0               -2.5   \n",
       "\n",
       "          MoveNum*StockfishScore  MoveNum*WhiteAvgDelta  MoveNum*BlackAvgDelta  \n",
       "  GameId                                                                        \n",
       "0 18383                       18                   18.0                    0.0  \n",
       "1 18383                       34                   36.0                   -2.0  \n",
       "2 18383                       36                   19.5                   -3.0  \n",
       "3 18383                       32                   26.0                  -10.0  \n",
       "4 18383                      110                   45.0                  -12.5  "
      ]
     },
     "execution_count": 129,
     "metadata": {},
     "output_type": "execute_result"
    }
   ],
   "source": [
    "x_trainPerMove.head()"
   ]
  },
  {
   "cell_type": "code",
   "execution_count": 130,
   "metadata": {},
   "outputs": [],
   "source": [
    "# TODO: update the train, test, split to not \n",
    "scaler = StandardScaler()\n",
    "x_train_scaled = scaler.fit_transform(x_trainPerMove)\n",
    "x_valid_scaled = scaler.transform(x_validPerMove)\n",
    "x_test_scaled = scaler.transform(x_testPerMove)"
   ]
  },
  {
   "cell_type": "markdown",
   "metadata": {},
   "source": [
    "Because of an XGBoost error (`ValueError: Invalid classes inferred from unique values of `y`.  Expected: [0 1 2], got [-1  0  1]`), we have to change what WhiteWins represents. A 2 is white winning, a 1 is a tie, and a 0 is black winning."
   ]
  },
  {
   "cell_type": "code",
   "execution_count": 131,
   "metadata": {},
   "outputs": [
    {
     "name": "stdout",
     "output_type": "stream",
     "text": [
      "[0]\tvalidation_0-mlogloss:0.96858\tvalidation_1-mlogloss:0.96837\n",
      "[1]\tvalidation_0-mlogloss:0.89154\tvalidation_1-mlogloss:0.89129\n",
      "[2]\tvalidation_0-mlogloss:0.84304\tvalidation_1-mlogloss:0.84310\n",
      "[3]\tvalidation_0-mlogloss:0.81023\tvalidation_1-mlogloss:0.81087\n",
      "[4]\tvalidation_0-mlogloss:0.78832\tvalidation_1-mlogloss:0.78957\n",
      "[5]\tvalidation_0-mlogloss:0.77261\tvalidation_1-mlogloss:0.77450\n",
      "[6]\tvalidation_0-mlogloss:0.76150\tvalidation_1-mlogloss:0.76419\n",
      "[7]\tvalidation_0-mlogloss:0.75355\tvalidation_1-mlogloss:0.75701\n",
      "[8]\tvalidation_0-mlogloss:0.74739\tvalidation_1-mlogloss:0.75213\n",
      "[9]\tvalidation_0-mlogloss:0.74274\tvalidation_1-mlogloss:0.74851\n",
      "[10]\tvalidation_0-mlogloss:0.73883\tvalidation_1-mlogloss:0.74601\n",
      "[11]\tvalidation_0-mlogloss:0.73582\tvalidation_1-mlogloss:0.74429\n",
      "[12]\tvalidation_0-mlogloss:0.73318\tvalidation_1-mlogloss:0.74266\n",
      "[13]\tvalidation_0-mlogloss:0.73085\tvalidation_1-mlogloss:0.74184\n",
      "[14]\tvalidation_0-mlogloss:0.72884\tvalidation_1-mlogloss:0.74109\n",
      "[15]\tvalidation_0-mlogloss:0.72659\tvalidation_1-mlogloss:0.74120\n",
      "[16]\tvalidation_0-mlogloss:0.72451\tvalidation_1-mlogloss:0.74081\n",
      "[17]\tvalidation_0-mlogloss:0.72299\tvalidation_1-mlogloss:0.74088\n",
      "[18]\tvalidation_0-mlogloss:0.72098\tvalidation_1-mlogloss:0.74054\n",
      "[19]\tvalidation_0-mlogloss:0.71812\tvalidation_1-mlogloss:0.73999\n",
      "[20]\tvalidation_0-mlogloss:0.71682\tvalidation_1-mlogloss:0.73978\n",
      "[21]\tvalidation_0-mlogloss:0.71417\tvalidation_1-mlogloss:0.74028\n",
      "[22]\tvalidation_0-mlogloss:0.71290\tvalidation_1-mlogloss:0.74064\n",
      "[23]\tvalidation_0-mlogloss:0.71090\tvalidation_1-mlogloss:0.74060\n",
      "[24]\tvalidation_0-mlogloss:0.70940\tvalidation_1-mlogloss:0.74086\n",
      "[25]\tvalidation_0-mlogloss:0.70777\tvalidation_1-mlogloss:0.74096\n",
      "[26]\tvalidation_0-mlogloss:0.70640\tvalidation_1-mlogloss:0.74096\n",
      "[27]\tvalidation_0-mlogloss:0.70496\tvalidation_1-mlogloss:0.74106\n",
      "[28]\tvalidation_0-mlogloss:0.70412\tvalidation_1-mlogloss:0.74093\n",
      "[29]\tvalidation_0-mlogloss:0.70239\tvalidation_1-mlogloss:0.74144\n",
      "[30]\tvalidation_0-mlogloss:0.70065\tvalidation_1-mlogloss:0.74171\n",
      "[31]\tvalidation_0-mlogloss:0.69990\tvalidation_1-mlogloss:0.74163\n",
      "[32]\tvalidation_0-mlogloss:0.69784\tvalidation_1-mlogloss:0.74207\n",
      "[33]\tvalidation_0-mlogloss:0.69602\tvalidation_1-mlogloss:0.74229\n",
      "[34]\tvalidation_0-mlogloss:0.69472\tvalidation_1-mlogloss:0.74313\n",
      "[35]\tvalidation_0-mlogloss:0.69351\tvalidation_1-mlogloss:0.74350\n",
      "[36]\tvalidation_0-mlogloss:0.69228\tvalidation_1-mlogloss:0.74387\n",
      "[37]\tvalidation_0-mlogloss:0.69092\tvalidation_1-mlogloss:0.74443\n",
      "[38]\tvalidation_0-mlogloss:0.68815\tvalidation_1-mlogloss:0.74508\n",
      "[39]\tvalidation_0-mlogloss:0.68694\tvalidation_1-mlogloss:0.74539\n",
      "[40]\tvalidation_0-mlogloss:0.68599\tvalidation_1-mlogloss:0.74554\n",
      "[41]\tvalidation_0-mlogloss:0.68343\tvalidation_1-mlogloss:0.74589\n",
      "[42]\tvalidation_0-mlogloss:0.68188\tvalidation_1-mlogloss:0.74606\n",
      "[43]\tvalidation_0-mlogloss:0.68134\tvalidation_1-mlogloss:0.74612\n",
      "[44]\tvalidation_0-mlogloss:0.67973\tvalidation_1-mlogloss:0.74619\n",
      "[45]\tvalidation_0-mlogloss:0.67713\tvalidation_1-mlogloss:0.74649\n",
      "[46]\tvalidation_0-mlogloss:0.67551\tvalidation_1-mlogloss:0.74692\n",
      "[47]\tvalidation_0-mlogloss:0.67408\tvalidation_1-mlogloss:0.74712\n",
      "[48]\tvalidation_0-mlogloss:0.67206\tvalidation_1-mlogloss:0.74739\n",
      "[49]\tvalidation_0-mlogloss:0.67042\tvalidation_1-mlogloss:0.74749\n",
      "[50]\tvalidation_0-mlogloss:0.66803\tvalidation_1-mlogloss:0.74771\n",
      "[51]\tvalidation_0-mlogloss:0.66570\tvalidation_1-mlogloss:0.74786\n",
      "[52]\tvalidation_0-mlogloss:0.66383\tvalidation_1-mlogloss:0.74759\n",
      "[53]\tvalidation_0-mlogloss:0.66244\tvalidation_1-mlogloss:0.74814\n",
      "[54]\tvalidation_0-mlogloss:0.66135\tvalidation_1-mlogloss:0.74839\n",
      "[55]\tvalidation_0-mlogloss:0.65989\tvalidation_1-mlogloss:0.74874\n",
      "[56]\tvalidation_0-mlogloss:0.65803\tvalidation_1-mlogloss:0.74861\n",
      "[57]\tvalidation_0-mlogloss:0.65699\tvalidation_1-mlogloss:0.74886\n",
      "[58]\tvalidation_0-mlogloss:0.65632\tvalidation_1-mlogloss:0.74918\n",
      "[59]\tvalidation_0-mlogloss:0.65450\tvalidation_1-mlogloss:0.74907\n",
      "[60]\tvalidation_0-mlogloss:0.65295\tvalidation_1-mlogloss:0.74947\n",
      "[61]\tvalidation_0-mlogloss:0.65153\tvalidation_1-mlogloss:0.75020\n",
      "[62]\tvalidation_0-mlogloss:0.64973\tvalidation_1-mlogloss:0.75084\n",
      "[63]\tvalidation_0-mlogloss:0.64751\tvalidation_1-mlogloss:0.75108\n",
      "[64]\tvalidation_0-mlogloss:0.64601\tvalidation_1-mlogloss:0.75178\n",
      "[65]\tvalidation_0-mlogloss:0.64449\tvalidation_1-mlogloss:0.75227\n",
      "[66]\tvalidation_0-mlogloss:0.64336\tvalidation_1-mlogloss:0.75255\n",
      "[67]\tvalidation_0-mlogloss:0.64197\tvalidation_1-mlogloss:0.75328\n",
      "[68]\tvalidation_0-mlogloss:0.64024\tvalidation_1-mlogloss:0.75386\n",
      "[69]\tvalidation_0-mlogloss:0.63850\tvalidation_1-mlogloss:0.75380\n",
      "[70]\tvalidation_0-mlogloss:0.63746\tvalidation_1-mlogloss:0.75388\n",
      "[71]\tvalidation_0-mlogloss:0.63571\tvalidation_1-mlogloss:0.75510\n",
      "[72]\tvalidation_0-mlogloss:0.63482\tvalidation_1-mlogloss:0.75551\n",
      "[73]\tvalidation_0-mlogloss:0.63320\tvalidation_1-mlogloss:0.75701\n",
      "[74]\tvalidation_0-mlogloss:0.63174\tvalidation_1-mlogloss:0.75771\n",
      "[75]\tvalidation_0-mlogloss:0.63094\tvalidation_1-mlogloss:0.75797\n",
      "[76]\tvalidation_0-mlogloss:0.62968\tvalidation_1-mlogloss:0.75795\n",
      "[77]\tvalidation_0-mlogloss:0.62867\tvalidation_1-mlogloss:0.75806\n",
      "[78]\tvalidation_0-mlogloss:0.62753\tvalidation_1-mlogloss:0.75833\n",
      "[79]\tvalidation_0-mlogloss:0.62570\tvalidation_1-mlogloss:0.75935\n",
      "[80]\tvalidation_0-mlogloss:0.62394\tvalidation_1-mlogloss:0.75978\n",
      "[81]\tvalidation_0-mlogloss:0.62293\tvalidation_1-mlogloss:0.76021\n",
      "[82]\tvalidation_0-mlogloss:0.62133\tvalidation_1-mlogloss:0.76105\n",
      "[83]\tvalidation_0-mlogloss:0.61965\tvalidation_1-mlogloss:0.76156\n",
      "[84]\tvalidation_0-mlogloss:0.61790\tvalidation_1-mlogloss:0.76240\n",
      "[85]\tvalidation_0-mlogloss:0.61619\tvalidation_1-mlogloss:0.76305\n",
      "[86]\tvalidation_0-mlogloss:0.61490\tvalidation_1-mlogloss:0.76302\n",
      "[87]\tvalidation_0-mlogloss:0.61338\tvalidation_1-mlogloss:0.76381\n",
      "[88]\tvalidation_0-mlogloss:0.61168\tvalidation_1-mlogloss:0.76369\n",
      "[89]\tvalidation_0-mlogloss:0.61010\tvalidation_1-mlogloss:0.76437\n",
      "[90]\tvalidation_0-mlogloss:0.60840\tvalidation_1-mlogloss:0.76460\n",
      "[91]\tvalidation_0-mlogloss:0.60692\tvalidation_1-mlogloss:0.76499\n",
      "[92]\tvalidation_0-mlogloss:0.60520\tvalidation_1-mlogloss:0.76580\n",
      "[93]\tvalidation_0-mlogloss:0.60361\tvalidation_1-mlogloss:0.76606\n",
      "[94]\tvalidation_0-mlogloss:0.60261\tvalidation_1-mlogloss:0.76679\n",
      "[95]\tvalidation_0-mlogloss:0.60138\tvalidation_1-mlogloss:0.76731\n",
      "[96]\tvalidation_0-mlogloss:0.60085\tvalidation_1-mlogloss:0.76793\n",
      "[97]\tvalidation_0-mlogloss:0.59970\tvalidation_1-mlogloss:0.76825\n",
      "[98]\tvalidation_0-mlogloss:0.59859\tvalidation_1-mlogloss:0.76850\n",
      "[99]\tvalidation_0-mlogloss:0.59744\tvalidation_1-mlogloss:0.76886\n"
     ]
    }
   ],
   "source": [
    "gbm = xgb.XGBClassifier(random_state=42)\n",
    "model = gbm.fit(x_train_scaled, y_trainPerMove,\n",
    "                eval_set = [[x_train_scaled, y_trainPerMove],\n",
    "                          [x_valid_scaled, y_validPerMove]]#,\n",
    "               #eval_set = 'logloss',\n",
    "                #early_stopping_rounds=10\n",
    "                )\n",
    "\n",
    "# was tests\n",
    "xgb_valid_preds = model.predict(x_valid_scaled)\n",
    "xgb_valid_proba = model.predict_proba(x_valid_scaled)"
   ]
  },
  {
   "cell_type": "code",
   "execution_count": 137,
   "metadata": {},
   "outputs": [
    {
     "data": {
      "text/plain": [
       "0.6593103448275862"
      ]
     },
     "execution_count": 137,
     "metadata": {},
     "output_type": "execute_result"
    }
   ],
   "source": [
    "accuracy_score(xgb_valid_preds, y_validPerMove)"
   ]
  },
  {
   "cell_type": "code",
   "execution_count": 132,
   "metadata": {},
   "outputs": [
    {
     "data": {
      "text/plain": [
       "array([[3.3292808e-02, 2.6739994e-01, 6.9930726e-01],\n",
       "       [3.2952935e-02, 2.9637548e-01, 6.7067158e-01],\n",
       "       [3.1558007e-02, 2.8552312e-01, 6.8291885e-01],\n",
       "       ...,\n",
       "       [1.2955546e-03, 8.4200585e-03, 9.9028438e-01],\n",
       "       [1.3388691e-03, 8.4702009e-03, 9.9019086e-01],\n",
       "       [9.8998810e-04, 6.0548191e-03, 9.9295527e-01]], dtype=float32)"
      ]
     },
     "execution_count": 132,
     "metadata": {},
     "output_type": "execute_result"
    }
   ],
   "source": [
    "xgb_valid_proba"
   ]
  },
  {
   "cell_type": "code",
   "execution_count": 133,
   "metadata": {},
   "outputs": [
    {
     "data": {
      "text/html": [
       "<div>\n",
       "<style scoped>\n",
       "    .dataframe tbody tr th:only-of-type {\n",
       "        vertical-align: middle;\n",
       "    }\n",
       "\n",
       "    .dataframe tbody tr th {\n",
       "        vertical-align: top;\n",
       "    }\n",
       "\n",
       "    .dataframe thead th {\n",
       "        text-align: right;\n",
       "    }\n",
       "</style>\n",
       "<table border=\"1\" class=\"dataframe\">\n",
       "  <thead>\n",
       "    <tr style=\"text-align: right;\">\n",
       "      <th></th>\n",
       "      <th></th>\n",
       "      <th>WhiteElo</th>\n",
       "      <th>BlackElo</th>\n",
       "      <th>EloDifference</th>\n",
       "      <th>MoveNumber</th>\n",
       "      <th>WhiteTurn</th>\n",
       "      <th>CurrentStockfishScore</th>\n",
       "      <th>WhiteAverageDelta</th>\n",
       "      <th>BlackAverageDelta</th>\n",
       "      <th>MoveNum*StockfishScore</th>\n",
       "      <th>MoveNum*WhiteAvgDelta</th>\n",
       "      <th>MoveNum*BlackAvgDelta</th>\n",
       "    </tr>\n",
       "    <tr>\n",
       "      <th></th>\n",
       "      <th>GameId</th>\n",
       "      <th></th>\n",
       "      <th></th>\n",
       "      <th></th>\n",
       "      <th></th>\n",
       "      <th></th>\n",
       "      <th></th>\n",
       "      <th></th>\n",
       "      <th></th>\n",
       "      <th></th>\n",
       "      <th></th>\n",
       "      <th></th>\n",
       "    </tr>\n",
       "  </thead>\n",
       "  <tbody>\n",
       "    <tr>\n",
       "      <th>0</th>\n",
       "      <th>21820</th>\n",
       "      <td>2556</td>\n",
       "      <td>2329</td>\n",
       "      <td>227</td>\n",
       "      <td>1</td>\n",
       "      <td>1</td>\n",
       "      <td>18</td>\n",
       "      <td>18.0</td>\n",
       "      <td>0.0</td>\n",
       "      <td>18</td>\n",
       "      <td>18.0</td>\n",
       "      <td>0.0</td>\n",
       "    </tr>\n",
       "    <tr>\n",
       "      <th>1</th>\n",
       "      <th>21820</th>\n",
       "      <td>2556</td>\n",
       "      <td>2329</td>\n",
       "      <td>227</td>\n",
       "      <td>2</td>\n",
       "      <td>0</td>\n",
       "      <td>11</td>\n",
       "      <td>18.0</td>\n",
       "      <td>-7.0</td>\n",
       "      <td>22</td>\n",
       "      <td>36.0</td>\n",
       "      <td>-14.0</td>\n",
       "    </tr>\n",
       "    <tr>\n",
       "      <th>2</th>\n",
       "      <th>21820</th>\n",
       "      <td>2556</td>\n",
       "      <td>2329</td>\n",
       "      <td>227</td>\n",
       "      <td>3</td>\n",
       "      <td>1</td>\n",
       "      <td>13</td>\n",
       "      <td>10.0</td>\n",
       "      <td>-7.0</td>\n",
       "      <td>39</td>\n",
       "      <td>30.0</td>\n",
       "      <td>-21.0</td>\n",
       "    </tr>\n",
       "    <tr>\n",
       "      <th>3</th>\n",
       "      <th>21820</th>\n",
       "      <td>2556</td>\n",
       "      <td>2329</td>\n",
       "      <td>227</td>\n",
       "      <td>4</td>\n",
       "      <td>0</td>\n",
       "      <td>33</td>\n",
       "      <td>10.0</td>\n",
       "      <td>6.5</td>\n",
       "      <td>132</td>\n",
       "      <td>40.0</td>\n",
       "      <td>26.0</td>\n",
       "    </tr>\n",
       "    <tr>\n",
       "      <th>4</th>\n",
       "      <th>21820</th>\n",
       "      <td>2556</td>\n",
       "      <td>2329</td>\n",
       "      <td>227</td>\n",
       "      <td>5</td>\n",
       "      <td>1</td>\n",
       "      <td>46</td>\n",
       "      <td>11.0</td>\n",
       "      <td>6.5</td>\n",
       "      <td>230</td>\n",
       "      <td>55.0</td>\n",
       "      <td>32.5</td>\n",
       "    </tr>\n",
       "  </tbody>\n",
       "</table>\n",
       "</div>"
      ],
      "text/plain": [
       "          WhiteElo  BlackElo  EloDifference  MoveNumber  WhiteTurn  \\\n",
       "  GameId                                                             \n",
       "0 21820       2556      2329            227           1          1   \n",
       "1 21820       2556      2329            227           2          0   \n",
       "2 21820       2556      2329            227           3          1   \n",
       "3 21820       2556      2329            227           4          0   \n",
       "4 21820       2556      2329            227           5          1   \n",
       "\n",
       "          CurrentStockfishScore  WhiteAverageDelta  BlackAverageDelta  \\\n",
       "  GameId                                                                \n",
       "0 21820                      18               18.0                0.0   \n",
       "1 21820                      11               18.0               -7.0   \n",
       "2 21820                      13               10.0               -7.0   \n",
       "3 21820                      33               10.0                6.5   \n",
       "4 21820                      46               11.0                6.5   \n",
       "\n",
       "          MoveNum*StockfishScore  MoveNum*WhiteAvgDelta  MoveNum*BlackAvgDelta  \n",
       "  GameId                                                                        \n",
       "0 21820                       18                   18.0                    0.0  \n",
       "1 21820                       22                   36.0                  -14.0  \n",
       "2 21820                       39                   30.0                  -21.0  \n",
       "3 21820                      132                   40.0                   26.0  \n",
       "4 21820                      230                   55.0                   32.5  "
      ]
     },
     "execution_count": 133,
     "metadata": {},
     "output_type": "execute_result"
    }
   ],
   "source": [
    "x_validPerMove.head()"
   ]
  },
  {
   "cell_type": "code",
   "execution_count": 134,
   "metadata": {},
   "outputs": [
    {
     "ename": "KeyError",
     "evalue": "16404",
     "output_type": "error",
     "traceback": [
      "\u001b[1;31m---------------------------------------------------------------------------\u001b[0m",
      "\u001b[1;31mKeyError\u001b[0m                                  Traceback (most recent call last)",
      "File \u001b[1;32mc:\\Users\\stard\\anaconda3\\lib\\site-packages\\pandas\\core\\indexes\\base.py:3802\u001b[0m, in \u001b[0;36mIndex.get_loc\u001b[1;34m(self, key, method, tolerance)\u001b[0m\n\u001b[0;32m   3801\u001b[0m \u001b[38;5;28;01mtry\u001b[39;00m:\n\u001b[1;32m-> 3802\u001b[0m     \u001b[38;5;28;01mreturn\u001b[39;00m \u001b[38;5;28;43mself\u001b[39;49m\u001b[38;5;241;43m.\u001b[39;49m\u001b[43m_engine\u001b[49m\u001b[38;5;241;43m.\u001b[39;49m\u001b[43mget_loc\u001b[49m\u001b[43m(\u001b[49m\u001b[43mcasted_key\u001b[49m\u001b[43m)\u001b[49m\n\u001b[0;32m   3803\u001b[0m \u001b[38;5;28;01mexcept\u001b[39;00m \u001b[38;5;167;01mKeyError\u001b[39;00m \u001b[38;5;28;01mas\u001b[39;00m err:\n",
      "File \u001b[1;32mc:\\Users\\stard\\anaconda3\\lib\\site-packages\\pandas\\_libs\\index.pyx:138\u001b[0m, in \u001b[0;36mpandas._libs.index.IndexEngine.get_loc\u001b[1;34m()\u001b[0m\n",
      "File \u001b[1;32mc:\\Users\\stard\\anaconda3\\lib\\site-packages\\pandas\\_libs\\index.pyx:165\u001b[0m, in \u001b[0;36mpandas._libs.index.IndexEngine.get_loc\u001b[1;34m()\u001b[0m\n",
      "File \u001b[1;32mpandas\\_libs\\hashtable_class_helper.pxi:2263\u001b[0m, in \u001b[0;36mpandas._libs.hashtable.Int64HashTable.get_item\u001b[1;34m()\u001b[0m\n",
      "File \u001b[1;32mpandas\\_libs\\hashtable_class_helper.pxi:2273\u001b[0m, in \u001b[0;36mpandas._libs.hashtable.Int64HashTable.get_item\u001b[1;34m()\u001b[0m\n",
      "\u001b[1;31mKeyError\u001b[0m: 16404",
      "\nThe above exception was the direct cause of the following exception:\n",
      "\u001b[1;31mKeyError\u001b[0m                                  Traceback (most recent call last)",
      "Cell \u001b[1;32mIn[134], line 4\u001b[0m\n\u001b[0;32m      1\u001b[0m \u001b[38;5;66;03m# More multiindexing can be found at https://stackoverflow.com/questions/53927460/select-rows-in-pandas-multiindex-dataframe\u001b[39;00m\n\u001b[0;32m      2\u001b[0m \u001b[38;5;66;03m# for example, getting all games with the same id of 14922.\u001b[39;00m\n\u001b[1;32m----> 4\u001b[0m \u001b[43mx_validPerMove\u001b[49m\u001b[38;5;241;43m.\u001b[39;49m\u001b[43mloc\u001b[49m\u001b[43m[\u001b[49m\u001b[43mpd\u001b[49m\u001b[38;5;241;43m.\u001b[39;49m\u001b[43mIndexSlice\u001b[49m\u001b[43m[\u001b[49m\u001b[43m:\u001b[49m\u001b[43m,\u001b[49m\u001b[43m \u001b[49m\u001b[38;5;241;43m16404\u001b[39;49m\u001b[43m]\u001b[49m\u001b[43m,\u001b[49m\u001b[43m \u001b[49m\u001b[43m:\u001b[49m\u001b[43m]\u001b[49m\u001b[38;5;241m.\u001b[39mhead()\n",
      "File \u001b[1;32mc:\\Users\\stard\\anaconda3\\lib\\site-packages\\pandas\\core\\indexing.py:1067\u001b[0m, in \u001b[0;36m_LocationIndexer.__getitem__\u001b[1;34m(self, key)\u001b[0m\n\u001b[0;32m   1065\u001b[0m     \u001b[38;5;28;01mif\u001b[39;00m \u001b[38;5;28mself\u001b[39m\u001b[38;5;241m.\u001b[39m_is_scalar_access(key):\n\u001b[0;32m   1066\u001b[0m         \u001b[38;5;28;01mreturn\u001b[39;00m \u001b[38;5;28mself\u001b[39m\u001b[38;5;241m.\u001b[39mobj\u001b[38;5;241m.\u001b[39m_get_value(\u001b[38;5;241m*\u001b[39mkey, takeable\u001b[38;5;241m=\u001b[39m\u001b[38;5;28mself\u001b[39m\u001b[38;5;241m.\u001b[39m_takeable)\n\u001b[1;32m-> 1067\u001b[0m     \u001b[38;5;28;01mreturn\u001b[39;00m \u001b[38;5;28;43mself\u001b[39;49m\u001b[38;5;241;43m.\u001b[39;49m\u001b[43m_getitem_tuple\u001b[49m\u001b[43m(\u001b[49m\u001b[43mkey\u001b[49m\u001b[43m)\u001b[49m\n\u001b[0;32m   1068\u001b[0m \u001b[38;5;28;01melse\u001b[39;00m:\n\u001b[0;32m   1069\u001b[0m     \u001b[38;5;66;03m# we by definition only have the 0th axis\u001b[39;00m\n\u001b[0;32m   1070\u001b[0m     axis \u001b[38;5;241m=\u001b[39m \u001b[38;5;28mself\u001b[39m\u001b[38;5;241m.\u001b[39maxis \u001b[38;5;129;01mor\u001b[39;00m \u001b[38;5;241m0\u001b[39m\n",
      "File \u001b[1;32mc:\\Users\\stard\\anaconda3\\lib\\site-packages\\pandas\\core\\indexing.py:1247\u001b[0m, in \u001b[0;36m_LocIndexer._getitem_tuple\u001b[1;34m(self, tup)\u001b[0m\n\u001b[0;32m   1245\u001b[0m \u001b[38;5;28;01mwith\u001b[39;00m suppress(IndexingError):\n\u001b[0;32m   1246\u001b[0m     tup \u001b[38;5;241m=\u001b[39m \u001b[38;5;28mself\u001b[39m\u001b[38;5;241m.\u001b[39m_expand_ellipsis(tup)\n\u001b[1;32m-> 1247\u001b[0m     \u001b[38;5;28;01mreturn\u001b[39;00m \u001b[38;5;28;43mself\u001b[39;49m\u001b[38;5;241;43m.\u001b[39;49m\u001b[43m_getitem_lowerdim\u001b[49m\u001b[43m(\u001b[49m\u001b[43mtup\u001b[49m\u001b[43m)\u001b[49m\n\u001b[0;32m   1249\u001b[0m \u001b[38;5;66;03m# no multi-index, so validate all of the indexers\u001b[39;00m\n\u001b[0;32m   1250\u001b[0m tup \u001b[38;5;241m=\u001b[39m \u001b[38;5;28mself\u001b[39m\u001b[38;5;241m.\u001b[39m_validate_tuple_indexer(tup)\n",
      "File \u001b[1;32mc:\\Users\\stard\\anaconda3\\lib\\site-packages\\pandas\\core\\indexing.py:941\u001b[0m, in \u001b[0;36m_LocationIndexer._getitem_lowerdim\u001b[1;34m(self, tup)\u001b[0m\n\u001b[0;32m    939\u001b[0m \u001b[38;5;66;03m# we may have a nested tuples indexer here\u001b[39;00m\n\u001b[0;32m    940\u001b[0m \u001b[38;5;28;01mif\u001b[39;00m \u001b[38;5;28mself\u001b[39m\u001b[38;5;241m.\u001b[39m_is_nested_tuple_indexer(tup):\n\u001b[1;32m--> 941\u001b[0m     \u001b[38;5;28;01mreturn\u001b[39;00m \u001b[38;5;28;43mself\u001b[39;49m\u001b[38;5;241;43m.\u001b[39;49m\u001b[43m_getitem_nested_tuple\u001b[49m\u001b[43m(\u001b[49m\u001b[43mtup\u001b[49m\u001b[43m)\u001b[49m\n\u001b[0;32m    943\u001b[0m \u001b[38;5;66;03m# we maybe be using a tuple to represent multiple dimensions here\u001b[39;00m\n\u001b[0;32m    944\u001b[0m ax0 \u001b[38;5;241m=\u001b[39m \u001b[38;5;28mself\u001b[39m\u001b[38;5;241m.\u001b[39mobj\u001b[38;5;241m.\u001b[39m_get_axis(\u001b[38;5;241m0\u001b[39m)\n",
      "File \u001b[1;32mc:\\Users\\stard\\anaconda3\\lib\\site-packages\\pandas\\core\\indexing.py:1047\u001b[0m, in \u001b[0;36m_LocationIndexer._getitem_nested_tuple\u001b[1;34m(self, tup)\u001b[0m\n\u001b[0;32m   1044\u001b[0m     axis \u001b[38;5;241m-\u001b[39m\u001b[38;5;241m=\u001b[39m \u001b[38;5;241m1\u001b[39m\n\u001b[0;32m   1045\u001b[0m     \u001b[38;5;28;01mcontinue\u001b[39;00m\n\u001b[1;32m-> 1047\u001b[0m obj \u001b[38;5;241m=\u001b[39m \u001b[38;5;28;43mgetattr\u001b[39;49m\u001b[43m(\u001b[49m\u001b[43mobj\u001b[49m\u001b[43m,\u001b[49m\u001b[43m \u001b[49m\u001b[38;5;28;43mself\u001b[39;49m\u001b[38;5;241;43m.\u001b[39;49m\u001b[43mname\u001b[49m\u001b[43m)\u001b[49m\u001b[38;5;241;43m.\u001b[39;49m\u001b[43m_getitem_axis\u001b[49m\u001b[43m(\u001b[49m\u001b[43mkey\u001b[49m\u001b[43m,\u001b[49m\u001b[43m \u001b[49m\u001b[43maxis\u001b[49m\u001b[38;5;241;43m=\u001b[39;49m\u001b[43maxis\u001b[49m\u001b[43m)\u001b[49m\n\u001b[0;32m   1048\u001b[0m axis \u001b[38;5;241m-\u001b[39m\u001b[38;5;241m=\u001b[39m \u001b[38;5;241m1\u001b[39m\n\u001b[0;32m   1050\u001b[0m \u001b[38;5;66;03m# if we have a scalar, we are done\u001b[39;00m\n",
      "File \u001b[1;32mc:\\Users\\stard\\anaconda3\\lib\\site-packages\\pandas\\core\\indexing.py:1305\u001b[0m, in \u001b[0;36m_LocIndexer._getitem_axis\u001b[1;34m(self, key, axis)\u001b[0m\n\u001b[0;32m   1303\u001b[0m \u001b[38;5;66;03m# nested tuple slicing\u001b[39;00m\n\u001b[0;32m   1304\u001b[0m \u001b[38;5;28;01mif\u001b[39;00m is_nested_tuple(key, labels):\n\u001b[1;32m-> 1305\u001b[0m     locs \u001b[38;5;241m=\u001b[39m \u001b[43mlabels\u001b[49m\u001b[38;5;241;43m.\u001b[39;49m\u001b[43mget_locs\u001b[49m\u001b[43m(\u001b[49m\u001b[43mkey\u001b[49m\u001b[43m)\u001b[49m\n\u001b[0;32m   1306\u001b[0m     indexer \u001b[38;5;241m=\u001b[39m [\u001b[38;5;28mslice\u001b[39m(\u001b[38;5;28;01mNone\u001b[39;00m)] \u001b[38;5;241m*\u001b[39m \u001b[38;5;28mself\u001b[39m\u001b[38;5;241m.\u001b[39mndim\n\u001b[0;32m   1307\u001b[0m     indexer[axis] \u001b[38;5;241m=\u001b[39m locs\n",
      "File \u001b[1;32mc:\\Users\\stard\\anaconda3\\lib\\site-packages\\pandas\\core\\indexes\\multi.py:3423\u001b[0m, in \u001b[0;36mMultiIndex.get_locs\u001b[1;34m(self, seq)\u001b[0m\n\u001b[0;32m   3419\u001b[0m     \u001b[38;5;28;01mcontinue\u001b[39;00m\n\u001b[0;32m   3421\u001b[0m \u001b[38;5;28;01melse\u001b[39;00m:\n\u001b[0;32m   3422\u001b[0m     \u001b[38;5;66;03m# a slice or a single label\u001b[39;00m\n\u001b[1;32m-> 3423\u001b[0m     lvl_indexer \u001b[38;5;241m=\u001b[39m \u001b[38;5;28;43mself\u001b[39;49m\u001b[38;5;241;43m.\u001b[39;49m\u001b[43m_get_level_indexer\u001b[49m\u001b[43m(\u001b[49m\u001b[43mk\u001b[49m\u001b[43m,\u001b[49m\u001b[43m \u001b[49m\u001b[43mlevel\u001b[49m\u001b[38;5;241;43m=\u001b[39;49m\u001b[43mi\u001b[49m\u001b[43m,\u001b[49m\u001b[43m \u001b[49m\u001b[43mindexer\u001b[49m\u001b[38;5;241;43m=\u001b[39;49m\u001b[43mindexer\u001b[49m\u001b[43m)\u001b[49m\n\u001b[0;32m   3425\u001b[0m \u001b[38;5;66;03m# update indexer\u001b[39;00m\n\u001b[0;32m   3426\u001b[0m lvl_indexer \u001b[38;5;241m=\u001b[39m _to_bool_indexer(lvl_indexer)\n",
      "File \u001b[1;32mc:\\Users\\stard\\anaconda3\\lib\\site-packages\\pandas\\core\\indexes\\multi.py:3263\u001b[0m, in \u001b[0;36mMultiIndex._get_level_indexer\u001b[1;34m(self, key, level, indexer)\u001b[0m\n\u001b[0;32m   3259\u001b[0m         \u001b[38;5;28;01mreturn\u001b[39;00m \u001b[38;5;28mslice\u001b[39m(i, j, step)\n\u001b[0;32m   3261\u001b[0m \u001b[38;5;28;01melse\u001b[39;00m:\n\u001b[1;32m-> 3263\u001b[0m     idx \u001b[38;5;241m=\u001b[39m \u001b[38;5;28;43mself\u001b[39;49m\u001b[38;5;241;43m.\u001b[39;49m\u001b[43m_get_loc_single_level_index\u001b[49m\u001b[43m(\u001b[49m\u001b[43mlevel_index\u001b[49m\u001b[43m,\u001b[49m\u001b[43m \u001b[49m\u001b[43mkey\u001b[49m\u001b[43m)\u001b[49m\n\u001b[0;32m   3265\u001b[0m     \u001b[38;5;28;01mif\u001b[39;00m level \u001b[38;5;241m>\u001b[39m \u001b[38;5;241m0\u001b[39m \u001b[38;5;129;01mor\u001b[39;00m \u001b[38;5;28mself\u001b[39m\u001b[38;5;241m.\u001b[39m_lexsort_depth \u001b[38;5;241m==\u001b[39m \u001b[38;5;241m0\u001b[39m:\n\u001b[0;32m   3266\u001b[0m         \u001b[38;5;66;03m# Desired level is not sorted\u001b[39;00m\n\u001b[0;32m   3267\u001b[0m         \u001b[38;5;28;01mif\u001b[39;00m \u001b[38;5;28misinstance\u001b[39m(idx, \u001b[38;5;28mslice\u001b[39m):\n\u001b[0;32m   3268\u001b[0m             \u001b[38;5;66;03m# test_get_loc_partial_timestamp_multiindex\u001b[39;00m\n",
      "File \u001b[1;32mc:\\Users\\stard\\anaconda3\\lib\\site-packages\\pandas\\core\\indexes\\multi.py:2849\u001b[0m, in \u001b[0;36mMultiIndex._get_loc_single_level_index\u001b[1;34m(self, level_index, key)\u001b[0m\n\u001b[0;32m   2847\u001b[0m     \u001b[38;5;28;01mreturn\u001b[39;00m \u001b[38;5;241m-\u001b[39m\u001b[38;5;241m1\u001b[39m\n\u001b[0;32m   2848\u001b[0m \u001b[38;5;28;01melse\u001b[39;00m:\n\u001b[1;32m-> 2849\u001b[0m     \u001b[38;5;28;01mreturn\u001b[39;00m \u001b[43mlevel_index\u001b[49m\u001b[38;5;241;43m.\u001b[39;49m\u001b[43mget_loc\u001b[49m\u001b[43m(\u001b[49m\u001b[43mkey\u001b[49m\u001b[43m)\u001b[49m\n",
      "File \u001b[1;32mc:\\Users\\stard\\anaconda3\\lib\\site-packages\\pandas\\core\\indexes\\base.py:3804\u001b[0m, in \u001b[0;36mIndex.get_loc\u001b[1;34m(self, key, method, tolerance)\u001b[0m\n\u001b[0;32m   3802\u001b[0m     \u001b[38;5;28;01mreturn\u001b[39;00m \u001b[38;5;28mself\u001b[39m\u001b[38;5;241m.\u001b[39m_engine\u001b[38;5;241m.\u001b[39mget_loc(casted_key)\n\u001b[0;32m   3803\u001b[0m \u001b[38;5;28;01mexcept\u001b[39;00m \u001b[38;5;167;01mKeyError\u001b[39;00m \u001b[38;5;28;01mas\u001b[39;00m err:\n\u001b[1;32m-> 3804\u001b[0m     \u001b[38;5;28;01mraise\u001b[39;00m \u001b[38;5;167;01mKeyError\u001b[39;00m(key) \u001b[38;5;28;01mfrom\u001b[39;00m \u001b[38;5;21;01merr\u001b[39;00m\n\u001b[0;32m   3805\u001b[0m \u001b[38;5;28;01mexcept\u001b[39;00m \u001b[38;5;167;01mTypeError\u001b[39;00m:\n\u001b[0;32m   3806\u001b[0m     \u001b[38;5;66;03m# If we have a listlike key, _check_indexing_error will raise\u001b[39;00m\n\u001b[0;32m   3807\u001b[0m     \u001b[38;5;66;03m#  InvalidIndexError. Otherwise we fall through and re-raise\u001b[39;00m\n\u001b[0;32m   3808\u001b[0m     \u001b[38;5;66;03m#  the TypeError.\u001b[39;00m\n\u001b[0;32m   3809\u001b[0m     \u001b[38;5;28mself\u001b[39m\u001b[38;5;241m.\u001b[39m_check_indexing_error(key)\n",
      "\u001b[1;31mKeyError\u001b[0m: 16404"
     ]
    }
   ],
   "source": [
    "# More multiindexing can be found at https://stackoverflow.com/questions/53927460/select-rows-in-pandas-multiindex-dataframe\n",
    "# for example, getting all games with the same id of 14922.\n",
    "\n",
    "x_validPerMove.loc[pd.IndexSlice[:, 16404], :].head()"
   ]
  },
  {
   "cell_type": "code",
   "execution_count": 152,
   "metadata": {},
   "outputs": [],
   "source": [
    "#buildStackedLinearWPPlot(x_validPerMove, 16404, model, scaler)"
   ]
  },
  {
   "cell_type": "markdown",
   "metadata": {},
   "source": [
    "- Maybe looking at white elo AND the white elo - black elo.\n",
    "- interaction between move number and current stockfish score\n",
    "- do you need interaction terms with xgboost"
   ]
  },
  {
   "cell_type": "code",
   "execution_count": 153,
   "metadata": {},
   "outputs": [],
   "source": [
    "#buildStackedLinearWPPlot(x_validPerMove, 16404, logreg_model, scaler)"
   ]
  },
  {
   "cell_type": "code",
   "execution_count": 135,
   "metadata": {},
   "outputs": [
    {
     "data": {
      "text/plain": [
       "array([[-2.93318586e-01,  2.11633951e-01, -5.95695951e-01,\n",
       "        -1.04499884e-01, -4.29009383e-02, -4.31403107e+00,\n",
       "         1.15387075e-02,  2.52999746e-01,  2.70830066e-01,\n",
       "        -1.39078869e+00, -1.62478946e+00],\n",
       "       [ 6.13520025e-02,  6.12467942e-02, -8.17227586e-05,\n",
       "         2.48588917e-01, -1.05092063e-03, -2.84502649e-01,\n",
       "         2.15266251e-01, -8.55514871e-02,  1.76764191e-01,\n",
       "        -1.62772576e-01,  7.89282494e-03],\n",
       "       [ 2.31966584e-01, -2.72880745e-01,  5.95777674e-01,\n",
       "        -1.44089033e-01,  4.39518589e-02,  4.59853371e+00,\n",
       "        -2.26804958e-01, -1.67448259e-01, -4.47594257e-01,\n",
       "         1.55356126e+00,  1.61689664e+00]])"
      ]
     },
     "execution_count": 135,
     "metadata": {},
     "output_type": "execute_result"
    }
   ],
   "source": [
    "\n",
    "logreg_model.coef_"
   ]
  },
  {
   "cell_type": "code",
   "execution_count": 136,
   "metadata": {},
   "outputs": [
    {
     "data": {
      "text/plain": [
       "Int64Index([21820,   735,  4539,  3787, 13590, 17718, 21309, 20320, 15628,\n",
       "            13809,\n",
       "            ...\n",
       "             5507, 14291,  5254,  8921,  7963, 15012, 19188, 15340,  1784,\n",
       "            18850],\n",
       "           dtype='int64', name='GameId', length=2497)"
      ]
     },
     "execution_count": 136,
     "metadata": {},
     "output_type": "execute_result"
    }
   ],
   "source": [
    "x_validPerMove.index.unique(level='GameId')\n",
    "#y_validPerMove.head()"
   ]
  },
  {
   "cell_type": "code",
   "execution_count": 156,
   "metadata": {},
   "outputs": [],
   "source": [
    "#buildStackedLinearWPPlot(x_validPerMove, 16361, model, scaler)"
   ]
  },
  {
   "cell_type": "code",
   "execution_count": 157,
   "metadata": {},
   "outputs": [],
   "source": [
    "#buildStackedLinearWPPlot(x_validPerMove, 5313, model, scaler)"
   ]
  },
  {
   "cell_type": "code",
   "execution_count": 158,
   "metadata": {},
   "outputs": [],
   "source": [
    "#buildStackedLinearWPPlot(valid_MoveNumberInteraction4, 5313, logreg_model4, scaler4)"
   ]
  },
  {
   "cell_type": "code",
   "execution_count": 159,
   "metadata": {},
   "outputs": [],
   "source": [
    "#buildStackedLinearWPPlot(x_validPerMove, 16404, model, scaler)"
   ]
  },
  {
   "cell_type": "markdown",
   "metadata": {},
   "source": [
    "# Visualizing the Change in Win Probability\n",
    "\n",
    "Next, the goal is to find at what point our win probability changes the MOST. For example, in the previous graph there are two main \"shifts\" in the game: around move 37, where there's a massive increase in white's win probability, and then at the very end, where the tie probabillity plummets.\n",
    "\n",
    "To do this, we want to look at the absolute .value of the change for white, black, and draw, and then choose the biggest one from those. We do this for every move in a graph."
   ]
  },
  {
   "cell_type": "code",
   "execution_count": 187,
   "metadata": {},
   "outputs": [],
   "source": [
    "best_x_valid_data = x_validPerMove\n",
    "best_x_train_data = x_trainPerMove\n",
    "best_x_test_data = x_testPerMove\n",
    "\n",
    "\n",
    "best_model = best_neigh\n",
    "best_scaler = neigh_scaler\n",
    "best_x_scaled_data= best_scaler.transform(best_x_test_data)\n"
   ]
  },
  {
   "cell_type": "code",
   "execution_count": 188,
   "metadata": {},
   "outputs": [
    {
     "name": "stdout",
     "output_type": "stream",
     "text": [
      "Macro-averaged One-vs-Rest ROC AUC score:\n",
      "1.00\n"
     ]
    }
   ],
   "source": [
    "y_pred_proba = best_model.predict_proba(best_x_scaled_data)\n",
    "macro_roc_auc_ovr = roc_auc_score(\n",
    "    y_testPerMove,\n",
    "    y_pred_proba,\n",
    "    multi_class=\"ovr\",\n",
    "    average=\"macro\",\n",
    ")\n",
    "print(f\"Macro-averaged One-vs-Rest ROC AUC score:\\n{macro_roc_auc_ovr:.2f}\")"
   ]
  },
  {
   "cell_type": "code",
   "execution_count": 189,
   "metadata": {},
   "outputs": [
    {
     "name": "stdout",
     "output_type": "stream",
     "text": [
      "Accuracy: 0.9999720319856804\n"
     ]
    }
   ],
   "source": [
    "y_pred = best_model.predict(best_x_scaled_data)\n",
    "accuracy = accuracy_score(y_pred, y_testPerMove)\n",
    "print(\"Accuracy:\", accuracy)"
   ]
  },
  {
   "cell_type": "code",
   "execution_count": null,
   "metadata": {},
   "outputs": [],
   "source": []
  },
  {
   "cell_type": "code",
   "execution_count": 190,
   "metadata": {},
   "outputs": [],
   "source": [
    "def createWPChangeArray(dataframe, game_id, model, scaler):\n",
    "    '''\n",
    "    Creates a stacked linear plot of predicted win probabilities using a win probability model.\n",
    "    \n",
    "    Parameters:\n",
    "    - dataframe: the pandas dataframe (non-scaled) with all the data. \n",
    "    - game_id: the id of the game to be used (integer).\n",
    "    - model: Some subtype of Classifier. Must have a predict_proba() function to use on the dataframe.\n",
    "\n",
    "    - scaler: how the data is scaled before using the model.\n",
    "    '''\n",
    "\n",
    "    df_to_predict = dataframe.loc[pd.IndexSlice[:, game_id], :]\n",
    "    scaled_df_to_predict = scaler.transform(df_to_predict)\n",
    "\n",
    "    #print(scaled_df_to_predict.head())\n",
    "    probabilities = model.predict_proba(scaled_df_to_predict)\n",
    "\n",
    "    wp_change_array = []\n",
    "\n",
    "    wp_change_array.append(0)\n",
    "\n",
    "    black_curr_proba = probabilities[0][0] \n",
    "    draw_curr_proba = probabilities[0][1]\n",
    "    white_curr_proba = probabilities[0][2] \n",
    "\n",
    "\n",
    "\n",
    "    for row in probabilities[1:]: # skip first probability row\n",
    "        max_change = max(abs(row[0] - black_curr_proba), abs(row[1] - draw_curr_proba), abs(row[2] - white_curr_proba))\n",
    "        wp_change_array.append(max_change)\n",
    "        black_curr_proba = row[0] \n",
    "        draw_curr_proba = row[1]\n",
    "        white_curr_proba = row[2]\n",
    "\n",
    "    return wp_change_array\n"
   ]
  },
  {
   "cell_type": "code",
   "execution_count": 191,
   "metadata": {},
   "outputs": [
    {
     "data": {
      "image/png": "[encoded data removed]",
      "text/plain": [
       "<Figure size 640x480 with 1 Axes>"
      ]
     },
     "metadata": {},
     "output_type": "display_data"
    }
   ],
   "source": [
    "buildStackedLinearWPPlot(best_x_valid_data, 16404, best_model, best_scaler)"
   ]
  },
  {
   "cell_type": "code",
   "execution_count": 192,
   "metadata": {},
   "outputs": [
    {
     "data": {
      "text/plain": [
       "Text(0.5, 1.0, 'Spikes in Win Probability for Game 16404')"
      ]
     },
     "execution_count": 192,
     "metadata": {},
     "output_type": "execute_result"
    },
    {
     "data": {
      "image/png": "[encoded data removed]",
      "text/plain": [
       "<Figure size 640x480 with 1 Axes>"
      ]
     },
     "metadata": {},
     "output_type": "display_data"
    }
   ],
   "source": [
    "sns.lineplot(createWPChangeArray(x_validPerMove, 16404, model, scaler))\n",
    "plt.xlabel(\"Move Number\")\n",
    "plt.ylabel(\"Max change in Probability\")\n",
    "plt.title(\"Spikes in Win Probability for Game 16404\")"
   ]
  },
  {
   "cell_type": "markdown",
   "metadata": {},
   "source": [
    "Next, we want a function to show the distribution in max changes. In other words, we want to aggregate how this changes for EVERY game in a dataset, and then ask ourselves \"where does the win probability change the most over time? Are there any patterns with where it changes?\" We'll do this in two ways. First, we will do it by taking the average over all of the wp arrays we create, and then we'll do the distribution of the maxes."
   ]
  },
  {
   "cell_type": "code",
   "execution_count": 193,
   "metadata": {},
   "outputs": [
    {
     "data": {
      "text/plain": [
       "329"
      ]
     },
     "execution_count": 193,
     "metadata": {},
     "output_type": "execute_result"
    }
   ],
   "source": [
    "int(x_validPerMove.max(axis=0)['MoveNumber'])"
   ]
  },
  {
   "cell_type": "code",
   "execution_count": null,
   "metadata": {},
   "outputs": [],
   "source": []
  },
  {
   "cell_type": "code",
   "execution_count": 194,
   "metadata": {},
   "outputs": [],
   "source": [
    "# this one's erroneous\n",
    "def getProbabilityChangeAverages(dataframe, model, scaler):\n",
    "    max_move_number = int(dataframe.max(axis=0)['MoveNumber'])\n",
    "    \n",
    "    \n",
    "    all_game_indices = dataframe.index.unique(level='GameId')\n",
    "\n",
    "    total_change_distribution = list(0 for i in range(max_move_number))\n",
    "    num_games_with_that_many = list(0 for i in range(max_move_number))\n",
    "\n",
    "    for game_id in all_game_indices:\n",
    "        curr_array = createWPChangeArray(dataframe, game_id, model, scaler)\n",
    "\n",
    "        for move_number, winprob_change in enumerate(curr_array):\n",
    "            num_games_with_that_many[move_number] += 1\n",
    "            total_change_distribution[move_number] += winprob_change\n",
    "        \n",
    "\n",
    "    average_change_distribution = list((total_change_distribution[i] / num_games_with_that_many[i]) for i in range(max_move_number))\n",
    "\n",
    "    return average_change_distribution\n",
    "\n",
    "\n",
    "def buildWPMaxChangeAggregation(dataframe, model, scaler):\n",
    "    '''\n",
    "\n",
    "    '''\n",
    "    max_move_number = int(dataframe.max(axis=0)['MoveNumber'])\n",
    "\n",
    "    all_game_indices = dataframe.index.unique(level='GameId')\n",
    "\n",
    "    max_change_distribution = list(0 for i in range(max_move_number))\n",
    "\n",
    "    for game_id in all_game_indices:\n",
    "        curr_array = createWPChangeArray(dataframe, game_id, model, scaler)\n",
    "        move_number_of_biggest_change = curr_array.index(max(curr_array))\n",
    "        max_change_distribution[move_number_of_biggest_change] += 1\n",
    "\n",
    "    return max_change_distribution\n",
    "\n",
    "\n",
    "\n",
    "    \n"
   ]
  },
  {
   "cell_type": "code",
   "execution_count": 195,
   "metadata": {},
   "outputs": [],
   "source": [
    "most_change_dist = buildWPMaxChangeAggregation(best_x_test_data, best_model, best_scaler)"
   ]
  },
  {
   "cell_type": "code",
   "execution_count": 196,
   "metadata": {},
   "outputs": [],
   "source": [
    "average_change_per_move = getProbabilityChangeAverages(best_x_test_data, best_model, best_scaler)"
   ]
  },
  {
   "cell_type": "code",
   "execution_count": 197,
   "metadata": {},
   "outputs": [
    {
     "data": {
      "text/plain": [
       "Text(0.5, 1.0, 'Distribution of Points in Game where Max Change Occurred')"
      ]
     },
     "execution_count": 197,
     "metadata": {},
     "output_type": "execute_result"
    },
    {
     "data": {
      "image/png": "[encoded data removed]",
      "text/plain": [
       "<Figure size 640x480 with 1 Axes>"
      ]
     },
     "metadata": {},
     "output_type": "display_data"
    }
   ],
   "source": [
    "sns.lineplot(most_change_dist)\n",
    "plt.xlabel(\"Move Number\")\n",
    "plt.ylabel(\"Number of Games\")\n",
    "plt.title(\"Distribution of Points in Game where Max Change Occurred\")"
   ]
  },
  {
   "cell_type": "code",
   "execution_count": 198,
   "metadata": {},
   "outputs": [
    {
     "name": "stdout",
     "output_type": "stream",
     "text": [
      "[0.0, 0.0013014315747322054, 0.00030033036339973974, 0.00010013016921998598, 0.00010016025641025641, 0.00010018032458425165, 0.0, 0.0, 0.0, 0.0, 0.0, 0.0, 0.0, 0.0, 0.0, 0.0, 0.0, 0.0, 0.0, 0.0, 0.0, 0.0, 0.0, 0.0, 0.0, 0.0, 0.0, 0.0, 0.0, 0.0, 0.0, 0.0, 0.0, 0.0, 0.0, 0.0, 0.0, 0.0, 0.0, 0.0, 0.0, 0.0, 0.0, 0.0, 0.0, 0.0, 0.0, 0.0, 0.0, 0.0, 0.0, 0.0, 0.0, 0.0, 0.0, 0.0, 0.0, 0.0, 0.0, 0.0, 0.0, 0.0, 0.0, 0.0, 0.0, 0.0, 0.0, 0.0, 0.0, 0.0, 0.0, 0.0, 0.0, 0.0, 0.0, 0.0, 0.0, 0.0, 0.0, 0.0, 0.0, 0.0, 0.0, 0.0, 0.0, 0.0, 0.0, 0.0, 0.0, 0.0, 0.0, 0.0, 0.0, 0.0, 0.0, 0.0, 0.0, 0.0, 0.0, 0.0, 0.0, 0.0, 0.0, 0.0, 0.0, 0.0, 0.0, 0.0, 0.0, 0.0, 0.0, 0.0, 0.0, 0.0, 0.0, 0.0, 0.0, 0.0, 0.0, 0.0, 0.0, 0.0, 0.0, 0.0, 0.0, 0.0, 0.0, 0.0, 0.0, 0.0, 0.0, 0.0, 0.0, 0.0, 0.0, 0.0, 0.0, 0.0, 0.0, 0.0, 0.0, 0.0, 0.0, 0.0, 0.0, 0.0, 0.0, 0.0, 0.0, 0.0, 0.0, 0.0, 0.0, 0.0, 0.0, 0.0, 0.0, 0.0, 0.0, 0.0, 0.0, 0.0, 0.0, 0.0, 0.0, 0.0, 0.0, 0.0, 0.0, 0.0, 0.0, 0.0, 0.0, 0.0, 0.0, 0.0, 0.0, 0.0, 0.0, 0.0, 0.0, 0.0, 0.0, 0.0, 0.0, 0.0, 0.0, 0.0, 0.0, 0.0, 0.0, 0.0, 0.0, 0.0, 0.0, 0.0, 0.0, 0.0, 0.0, 0.0, 0.0, 0.0, 0.0, 0.0, 0.0, 0.0, 0.0, 0.0, 0.0, 0.0, 0.0, 0.0, 0.0, 0.0, 0.0, 0.0, 0.0, 0.0, 0.0, 0.0, 0.0, 0.0, 0.0, 0.0, 0.0, 0.0, 0.0, 0.0, 0.0, 0.0, 0.0, 0.0, 0.0, 0.0, 0.0, 0.0, 0.0, 0.0, 0.0, 0.0, 0.0, 0.0, 0.0, 0.0, 0.0, 0.0, 0.0, 0.0, 0.0, 0.0, 0.0, 0.0, 0.0, 0.0, 0.0, 0.0, 0.0, 0.0, 0.0, 0.0, 0.0, 0.0, 0.0, 0.0, 0.0, 0.0, 0.0, 0.0, 0.0, 0.0, 0.0, 0.0, 0.0, 0.0, 0.0, 0.0, 0.0, 0.0, 0.0, 0.0, 0.0, 0.0, 0.0, 0.0, 0.0, 0.0, 0.0, 0.0, 0.0, 0.0, 0.0, 0.0, 0.0, 0.0, 0.0, 0.0, 0.0, 0.0, 0.0, 0.0, 0.0, 0.0, 0.0, 0.0, 0.0, 0.0, 0.0, 0.0, 0.0, 0.0, 0.0, 0.0]\n"
     ]
    }
   ],
   "source": [
    "print(average_change_per_move)"
   ]
  },
  {
   "cell_type": "code",
   "execution_count": 199,
   "metadata": {},
   "outputs": [
    {
     "data": {
      "text/plain": [
       "Text(0.5, 1.0, 'Distribution of Winprob Changing Throughout Games')"
      ]
     },
     "execution_count": 199,
     "metadata": {},
     "output_type": "execute_result"
    },
    {
     "data": {
      "image/png": "[encoded data removed]",
      "text/plain": [
       "<Figure size 640x480 with 1 Axes>"
      ]
     },
     "metadata": {},
     "output_type": "display_data"
    }
   ],
   "source": [
    "sns.lineplot(average_change_per_move)\n",
    "plt.xlabel(\"Move Number\")\n",
    "plt.ylabel(\"Average Change in Winprob\")\n",
    "plt.title(\"Distribution of Winprob Changing Throughout Games\")"
   ]
  },
  {
   "cell_type": "markdown",
   "metadata": {},
   "source": [
    "From these different graphs, observe that the places where the most change in a game happened were primarily from move 40 onwards. In general, the average change in win probability increases as we get closer to the end game. This might mean that the moves made later in these games are the ones that are being deciding factors. However, it could also mean that an early good move a player makes leads to a chain reaction where they can get more and more material as the game progresses. Early advantages can snowball into each other, meaning that if a player gets a 2-pawn advantage and holds it for the first half of the game, and then gets more material/space every turn for 5 turns in the midgame, then the earlier pawn advantage compoounds onto that. In general, the pieces players lose in the early game like pawns will be worth much less than the pieces they lose in the mid- and late-game, such as rooks, bishops, and their queen. A one-pawn advantage in the late game means a lot more when there's simply fewer pieces on the screen at once.\n",
    "\n",
    "Now, let's find what the strength of the model is as the game progresses. Is our model giving better results as the game goes on?"
   ]
  },
  {
   "cell_type": "code",
   "execution_count": 200,
   "metadata": {},
   "outputs": [],
   "source": [
    "#mask = (y_trainPerMove.index.get_level_values(1)==5)\n",
    "#filtered = y_trainPerMove[mask]\n",
    "#print(filtered)"
   ]
  },
  {
   "cell_type": "code",
   "execution_count": 201,
   "metadata": {},
   "outputs": [],
   "source": [
    "#mask = (x_trainPerMove.index.get_level_values(1)==5)\n",
    "#x_filtered = x_trainPerMove[mask]\n",
    "#x_filtered"
   ]
  },
  {
   "cell_type": "code",
   "execution_count": 202,
   "metadata": {},
   "outputs": [],
   "source": [
    "from random import uniform"
   ]
  },
  {
   "cell_type": "code",
   "execution_count": 203,
   "metadata": {},
   "outputs": [],
   "source": [
    "def getYesNoAccuracyPerMove(model, given_scaler, xtest, ytest):\n",
    "    '''\n",
    "    Returns an array of the model's accuracy at different points in each game.\n",
    "\n",
    "    '''\n",
    "    max_move_number = int(xtest.max(axis=0)['MoveNumber'])\n",
    "\n",
    "    accuracy_scores = []\n",
    "    for i in range(1, max_move_number):\n",
    "    \n",
    "        # get all the chess data at a specific turn (i) \n",
    "        y_mask = (ytest.index.get_level_values(1)==i)\n",
    "        y_filtered = ytest[y_mask]\n",
    "\n",
    "        x_filtered = (xtest[xtest['MoveNumber'] == i])\n",
    "\n",
    "        # Now, scale for the model and use the model to find accuracy score.\n",
    "        x_filtered_scaled = given_scaler.transform(x_filtered)\n",
    "        y_pred = model.predict(x_filtered_scaled)\n",
    "        accuracy = accuracy_score(y_pred, y_filtered)\n",
    "        accuracy_scores.append(accuracy)\n",
    "\n",
    "    return accuracy_scores\n",
    "        \n",
    "\n",
    "def getNumberOfGamesWithThisManyMoves(xtest):\n",
    "    max_move_number = int(xtest.max(axis=0)['MoveNumber'])\n",
    "\n",
    "    number_games_per_move_number = []\n",
    "\n",
    "    for i in range(1, max_move_number):\n",
    "        x_filtered = (xtest[xtest['MoveNumber'] == i])\n",
    "        number_games_per_move_number.append(len(x_filtered))\n",
    "\n",
    "    return number_games_per_move_number\n",
    "\n",
    "\n",
    "\n",
    "def getBootstrapErrors(accuracy_scores, num_games_per_move_number):\n",
    "    '''\n",
    "    Assumes binomial Bernoulli trials. We will bootstrap the probabilities we have to estimate how good/bad our accuracy scores are.\n",
    "    '''\n",
    "    print(\"Hi\")\n",
    "\n",
    "    error_lowers = []\n",
    "    error_uppers = []\n",
    "\n",
    "    BOOTSTRAP_NUM_TIMES = 500\n",
    "    BOOTSTRAP_LOWER = 25\n",
    "    BOOTSTRAP_UPPER = 475\n",
    "\n",
    "    BOOTSTRAP_SAMPLE_SIZE = 1000\n",
    "\n",
    "    MAX_DATA_POINTS = 100000 #similar to max_iter, just makes it more consistent\n",
    "\n",
    "    for i in range(len(accuracy_scores)):\n",
    "\n",
    "\n",
    "        bootstrap_proportions = []\n",
    "        for j in range(BOOTSTRAP_NUM_TIMES):\n",
    "            proba = 0\n",
    "\n",
    "            clamped_num_data_points = num_games_per_move_number[i] # min(max(num_games_per_move_number[i], 10), MAX_DATA_POINTS)\n",
    "\n",
    "            for k in range(clamped_num_data_points):\n",
    "                # We take BOOTSTRAP_SAMPLE_SIZE number of samples\n",
    "                if uniform(0, 1) < accuracy_scores[i]:\n",
    "                    proba += (1 / clamped_num_data_points)\n",
    "            \n",
    "            bootstrap_proportions.append(proba)\n",
    "\n",
    "        bootstrap_proportions = sorted(bootstrap_proportions)\n",
    "            \n",
    "        \n",
    "        error_lowers.append(bootstrap_proportions[BOOTSTRAP_LOWER])\n",
    "        error_uppers.append(bootstrap_proportions[BOOTSTRAP_UPPER])\n",
    "\n",
    "\n",
    "    return error_lowers, error_uppers\n",
    "\n",
    "    \n",
    "\n",
    "    \n"
   ]
  },
  {
   "cell_type": "code",
   "execution_count": 204,
   "metadata": {},
   "outputs": [],
   "source": [
    "accuracy_per_move = getYesNoAccuracyPerMove(best_model, best_scaler, best_x_test_data, y_testPerMove)"
   ]
  },
  {
   "cell_type": "code",
   "execution_count": 205,
   "metadata": {},
   "outputs": [
    {
     "data": {
      "text/plain": [
       "Text(0.5, 1.0, 'Accuracy of Winprob Model Throughout Games')"
      ]
     },
     "execution_count": 205,
     "metadata": {},
     "output_type": "execute_result"
    },
    {
     "data": {
      "image/png": "[encoded data removed]",
      "text/plain": [
       "<Figure size 640x480 with 1 Axes>"
      ]
     },
     "metadata": {},
     "output_type": "display_data"
    }
   ],
   "source": [
    "sns.lineplot(accuracy_per_move)\n",
    "plt.xlabel(\"Move Number\")\n",
    "plt.ylabel(\"Model Accuracy\")\n",
    "plt.title(\"Accuracy of Winprob Model Throughout Games\")"
   ]
  },
  {
   "cell_type": "markdown",
   "metadata": {},
   "source": [
    "We see an increase in probability as the move number increases from move 0 to move 100. But, because we have so few games that go above 200 moves, we see the graph get extremely erratic at that point. So, perhaps it would be best to also show the uncertainty in this model as the game progresses.\n",
    "\n",
    "We will do so using the concept of Bernoulli trials, assuming there is some true probability of accuracy (p). Based on sources such as the one listed below, the standard deviation of \n",
    "\n",
    "https://math.stackexchange.com/questions/1716156/sd-of-a-bernoulli-trial \n",
    "\n",
    "nvm we're actually doing bootstrapping. We're taking the binary variables with replacement, and taking the top 5% and bottom 5% values as our estimates for the variance of the data."
   ]
  },
  {
   "cell_type": "code",
   "execution_count": 206,
   "metadata": {},
   "outputs": [
    {
     "name": "stdout",
     "output_type": "stream",
     "text": [
      "One\n",
      "Two\n",
      "Hi\n",
      "Three\n"
     ]
    }
   ],
   "source": [
    "accuracy_per_move = getYesNoAccuracyPerMove(best_model, best_scaler, best_x_test_data, y_testPerMove)\n",
    "print(\"One\")\n",
    "num_games_for_each_move_num = getNumberOfGamesWithThisManyMoves(best_x_test_data)\n",
    "print(\"Two\")\n",
    "error_lowers, error_uppers = getBootstrapErrors(accuracy_per_move, num_games_for_each_move_num)\n",
    "print(\"Three\")"
   ]
  },
  {
   "cell_type": "code",
   "execution_count": 207,
   "metadata": {},
   "outputs": [],
   "source": [
    "# DELETE LATER\n",
    "#error_lowers, error_uppers = getBootstrapErrors(accuracy_per_move, num_games_for_each_move_num)\n"
   ]
  },
  {
   "cell_type": "code",
   "execution_count": 208,
   "metadata": {},
   "outputs": [
    {
     "name": "stderr",
     "output_type": "stream",
     "text": [
      "No artists with labels found to put in legend.  Note that artists whose label start with an underscore are ignored when legend() is called with no argument.\n"
     ]
    },
    {
     "data": {
      "text/plain": [
       "<matplotlib.legend.Legend at 0x1b1ee89f7f0>"
      ]
     },
     "execution_count": 208,
     "metadata": {},
     "output_type": "execute_result"
    },
    {
     "data": {
      "image/png": "[encoded data removed]",
      "text/plain": [
       "<Figure size 640x480 with 1 Axes>"
      ]
     },
     "metadata": {},
     "output_type": "display_data"
    }
   ],
   "source": [
    "sns.set_theme(palette=None)\n",
    "color_map = ['#333', '#777']\n",
    "plt.stackplot(error_lowers, \n",
    "                error_uppers,\n",
    "                colors=color_map)\n",
    "\n",
    "plt.xlabel('Move Number')\n",
    "plt.ylabel('Win Probability')\n",
    "plt.legend(loc='upper left')\n"
   ]
  },
  {
   "cell_type": "code",
   "execution_count": 209,
   "metadata": {},
   "outputs": [
    {
     "name": "stdout",
     "output_type": "stream",
     "text": [
      "[ 1  2  3 ... 80 81 82]\n"
     ]
    }
   ],
   "source": [
    "print(valid_noMoveNumberInteractions.loc[:,'MoveNumber'].values)\n"
   ]
  },
  {
   "cell_type": "code",
   "execution_count": 210,
   "metadata": {},
   "outputs": [
    {
     "name": "stderr",
     "output_type": "stream",
     "text": [
      "C:\\Users\\stard\\AppData\\Local\\Temp\\ipykernel_33400\\2095029988.py:4: FutureWarning: \n",
      "\n",
      "The `ci` parameter is deprecated. Use `errorbar=None` for the same effect.\n",
      "\n",
      "  ax = lineplot(x=move_numbers, y=accuracy_per_move, ci=None)\n"
     ]
    },
    {
     "data": {
      "text/plain": [
       "[Text(0.5, 0, 'Move Number'), Text(0, 0.5, 'Model Accuracy')]"
      ]
     },
     "execution_count": 210,
     "metadata": {},
     "output_type": "execute_result"
    },
    {
     "data": {
      "image/png": "[encoded data removed]",
      "text/plain": [
       "<Figure size 640x480 with 1 Axes>"
      ]
     },
     "metadata": {},
     "output_type": "display_data"
    }
   ],
   "source": [
    "from seaborn import lineplot\n",
    "\n",
    "move_numbers = list(i for i in range(len(error_lowers)))\n",
    "ax = lineplot(x=move_numbers, y=accuracy_per_move, ci=None)\n",
    "ax.fill_between(move_numbers, error_lowers, error_uppers, alpha=0.5)\n",
    "ax.set(xlabel=\"Move Number\", ylabel=\"Model Accuracy\")\n"
   ]
  },
  {
   "cell_type": "code",
   "execution_count": 211,
   "metadata": {},
   "outputs": [
    {
     "name": "stderr",
     "output_type": "stream",
     "text": [
      "C:\\Users\\stard\\AppData\\Local\\Temp\\ipykernel_33400\\2409329054.py:4: FutureWarning: \n",
      "\n",
      "The `ci` parameter is deprecated. Use `errorbar=None` for the same effect.\n",
      "\n",
      "  ax = lineplot(x=move_numbers[:150], y=accuracy_per_move[:150], ci=None)\n"
     ]
    },
    {
     "data": {
      "text/plain": [
       "[Text(0.5, 0, 'Move Number'), Text(0, 0.5, 'Model Accuracy')]"
      ]
     },
     "execution_count": 211,
     "metadata": {},
     "output_type": "execute_result"
    },
    {
     "data": {
      "image/png": "[encoded data removed]",
      "text/plain": [
       "<Figure size 640x480 with 1 Axes>"
      ]
     },
     "metadata": {},
     "output_type": "display_data"
    }
   ],
   "source": [
    "from seaborn import lineplot\n",
    "\n",
    "move_numbers = list(i for i in range(200))\n",
    "ax = lineplot(x=move_numbers[:150], y=accuracy_per_move[:150], ci=None)\n",
    "ax.fill_between(move_numbers[:150], error_lowers[:150], error_uppers[:150], alpha=0.5)\n",
    "ax.set(xlabel=\"Move Number\", ylabel=\"Model Accuracy\")\n"
   ]
  },
  {
   "cell_type": "code",
   "execution_count": 212,
   "metadata": {},
   "outputs": [
    {
     "name": "stderr",
     "output_type": "stream",
     "text": [
      "C:\\Users\\stard\\AppData\\Local\\Temp\\ipykernel_33400\\1056695635.py:9: FutureWarning: \n",
      "\n",
      "The `ci` parameter is deprecated. Use `errorbar=None` for the same effect.\n",
      "\n",
      "  ax = lineplot(x=move_numbers[:150], y=accuracy_per_move[:150], ci=None)\n"
     ]
    },
    {
     "data": {
      "text/plain": [
       "[Text(0.5, 0, 'Move Number'), Text(0, 0.5, 'Model Accuracy')]"
      ]
     },
     "execution_count": 212,
     "metadata": {},
     "output_type": "execute_result"
    },
    {
     "data": {
      "image/png": "[encoded data removed]",
      "text/plain": [
       "<Figure size 640x480 with 1 Axes>"
      ]
     },
     "metadata": {},
     "output_type": "display_data"
    }
   ],
   "source": [
    "# y axis starts at 0\n",
    "\n",
    "from seaborn import lineplot\n",
    "\n",
    "plt.ylim(ymin=0.0)\n",
    "\n",
    "\n",
    "move_numbers = list(i for i in range(200))\n",
    "ax = lineplot(x=move_numbers[:150], y=accuracy_per_move[:150], ci=None)\n",
    "ax.fill_between(move_numbers[:150], error_lowers[:150], error_uppers[:150], alpha=0.5)\n",
    "ax.set(xlabel=\"Move Number\", ylabel=\"Model Accuracy\")\n",
    "\n"
   ]
  }
 ],
 "metadata": {
  "kernelspec": {
   "display_name": "base",
   "language": "python",
   "name": "python3"
  },
  "language_info": {
   "codemirror_mode": {
    "name": "ipython",
    "version": 3
   },
   "file_extension": ".py",
   "mimetype": "text/x-python",
   "name": "python",
   "nbconvert_exporter": "python",
   "pygments_lexer": "ipython3",
   "version": "3.10.9"
  }
 },
 "nbformat": 4,
 "nbformat_minor": 2
}
